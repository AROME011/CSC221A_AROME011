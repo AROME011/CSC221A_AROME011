{
  "nbformat": 4,
  "nbformat_minor": 0,
  "metadata": {
    "colab": {
      "provenance": [],
      "authorship_tag": "ABX9TyM3voX33Wvkaq447p+RB/yh",
      "include_colab_link": true
    },
    "kernelspec": {
      "name": "python3",
      "display_name": "Python 3"
    },
    "language_info": {
      "name": "python"
    }
  },
  "cells": [
    {
      "cell_type": "markdown",
      "metadata": {
        "id": "view-in-github",
        "colab_type": "text"
      },
      "source": [
        "<a href=\"https://colab.research.google.com/github/AROME011/CSC221A_AROME011/blob/main/Assignment15.ipynb\" target=\"_parent\"><img src=\"https://colab.research.google.com/assets/colab-badge.svg\" alt=\"Open In Colab\"/></a>"
      ]
    },
    {
      "cell_type": "markdown",
      "source": [
        "CSC 221A\n",
        "Drew Romesser"
      ],
      "metadata": {
        "id": "BFxX5vG_szW4"
      }
    },
    {
      "cell_type": "code",
      "execution_count": 5,
      "metadata": {
        "colab": {
          "base_uri": "https://localhost:8080/"
        },
        "id": "dnLyWms2snDp",
        "outputId": "e24422f5-24f7-4042-df1c-1768ada9e934"
      },
      "outputs": [
        {
          "output_type": "stream",
          "name": "stderr",
          "text": [
            "...\n",
            "----------------------------------------------------------------------\n",
            "Ran 3 tests in 0.007s\n",
            "\n",
            "OK\n"
          ]
        },
        {
          "output_type": "execute_result",
          "data": {
            "text/plain": [
              "<unittest.main.TestProgram at 0x7ae2f0f0b2b0>"
            ]
          },
          "metadata": {},
          "execution_count": 5
        }
      ],
      "source": [
        "#11.1\n",
        "\n",
        "def format_city_country(city, country, year_founded=None):\n",
        "    formatted_string = f\"{city.title()}, {country.title()}\"\n",
        "\n",
        "    if year_founded:\n",
        "        formatted_string += f\" (Founded: {year_founded})\"\n",
        "\n",
        "    return formatted_string\n",
        "\n",
        "import unittest\n",
        "\n",
        "def format_city_country(city, country, year_founded=None):\n",
        "    formatted_string = f\"{city.title()}, {country.title()}\"\n",
        "\n",
        "    if year_founded:\n",
        "        formatted_string += f\" (Founded: {year_founded})\"\n",
        "\n",
        "    return formatted_string\n",
        "\n",
        "class CitiesTestCase(unittest.TestCase):\n",
        "\n",
        "    def test_format_city_country(self):\n",
        "        result = format_city_country('Stockholm', 'Sweden')\n",
        "        self.assertEqual(result, 'Stockholm, Sweden')\n",
        "\n",
        "    def test_format_city_country_with_year(self):\n",
        "        result = format_city_country('Stockholm', 'Sweden', 1187)\n",
        "        self.assertEqual(result, 'Stockholm, Sweden (Founded: 1187)')\n",
        "\n",
        "    def test_format_buffaloNY(self):\n",
        "        result = format_city_country('Buffalo', 'New York')\n",
        "        self.assertEqual(result, 'Buffalo, New York')\n",
        "\n",
        "\n",
        "\n",
        "\n",
        "\n",
        "unittest.main(argv=[''], exit=False)\n",
        "\n"
      ]
    },
    {
      "cell_type": "code",
      "source": [
        "# 11.2\n",
        "import unittest\n",
        "\n",
        "def city_country(city, country, population=None):\n",
        "    output_string = f\"{city.title()}, {country.title()}\"\n",
        "\n",
        "    if population is not None:\n",
        "        output_string += f' - population {population}'\n",
        "\n",
        "    return output_string\n",
        "\n",
        "class CitiesTestCase(unittest.TestCase):\n",
        "\n",
        "    def test_city_country(self):\n",
        "        buffalo_newyork = city_country('buffalo', 'newyork')\n",
        "        self.assertEqual(buffalo_newyork, 'Buffalo, Newyork')\n",
        "\n",
        "    def test_city_country_population(self):\n",
        "        buffalo_population = city_country('buffalo', 'newyork', population=250000)\n",
        "        self.assertEqual(buffalo_population, 'Buffalo, Newyork - population 250000')\n",
        "\n",
        "unittest.main(argv=[''], exit=False)"
      ],
      "metadata": {
        "colab": {
          "base_uri": "https://localhost:8080/"
        },
        "id": "IuPzXQXBvSRA",
        "outputId": "92200d6d-33c1-45fc-cc86-865cf401edd5"
      },
      "execution_count": 15,
      "outputs": [
        {
          "output_type": "stream",
          "name": "stderr",
          "text": [
            "..\n",
            "----------------------------------------------------------------------\n",
            "Ran 2 tests in 0.009s\n",
            "\n",
            "OK\n"
          ]
        },
        {
          "output_type": "execute_result",
          "data": {
            "text/plain": [
              "<unittest.main.TestProgram at 0x7ae2be9e8790>"
            ]
          },
          "metadata": {},
          "execution_count": 15
        }
      ]
    }
  ]
}