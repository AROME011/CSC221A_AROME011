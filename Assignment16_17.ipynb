{
  "nbformat": 4,
  "nbformat_minor": 0,
  "metadata": {
    "colab": {
      "provenance": [],
      "authorship_tag": "ABX9TyMOGY2jdIhimojRPzY7OPgS",
      "include_colab_link": true
    },
    "kernelspec": {
      "name": "python3",
      "display_name": "Python 3"
    },
    "language_info": {
      "name": "python"
    }
  },
  "cells": [
    {
      "cell_type": "markdown",
      "metadata": {
        "id": "view-in-github",
        "colab_type": "text"
      },
      "source": [
        "<a href=\"https://colab.research.google.com/github/AROME011/CSC221A_AROME011/blob/main/Assignment16_17.ipynb\" target=\"_parent\"><img src=\"https://colab.research.google.com/assets/colab-badge.svg\" alt=\"Open In Colab\"/></a>"
      ]
    },
    {
      "cell_type": "code",
      "execution_count": 2,
      "metadata": {
        "colab": {
          "base_uri": "https://localhost:8080/"
        },
        "id": "u1KGQnIBjRxW",
        "outputId": "b6d656de-7abf-4be5-d0b3-aee2edbedd65"
      },
      "outputs": [
        {
          "output_type": "stream",
          "name": "stdout",
          "text": [
            "My name is Drew\n"
          ]
        }
      ],
      "source": [
        "#1.1 learned how to use print with strings.\n",
        "print(\"My name is Drew\")"
      ]
    },
    {
      "cell_type": "code",
      "source": [
        "24+7\n"
      ],
      "metadata": {
        "colab": {
          "base_uri": "https://localhost:8080/"
        },
        "id": "oL3RikYAjbpS",
        "outputId": "779368ab-64aa-4530-df94-a458d2398831"
      },
      "execution_count": 3,
      "outputs": [
        {
          "output_type": "execute_result",
          "data": {
            "text/plain": [
              "31"
            ]
          },
          "metadata": {},
          "execution_count": 3
        }
      ]
    },
    {
      "cell_type": "code",
      "source": [
        "#1.2 call a test.py file\n",
        "import test.py"
      ],
      "metadata": {
        "id": "ScSyxpi_jdpT"
      },
      "execution_count": 5,
      "outputs": []
    },
    {
      "cell_type": "code",
      "source": [
        "#1.3 make variable and set them equal\n",
        "x = 5\n",
        "y = x\n",
        "print(x)\n",
        "print(y)\n",
        "b = 18 - x\n",
        "print(b)"
      ],
      "metadata": {
        "colab": {
          "base_uri": "https://localhost:8080/"
        },
        "id": "riFH2Ew4kEBi",
        "outputId": "1d3c482c-5f7a-4554-c218-3c36c6ab5178"
      },
      "execution_count": 7,
      "outputs": [
        {
          "output_type": "stream",
          "name": "stdout",
          "text": [
            "5\n",
            "5\n",
            "13\n"
          ]
        }
      ]
    },
    {
      "cell_type": "code",
      "source": [
        "#1.4 math using simple operations and variables checking to find out what the final answer is\n",
        "x = 7\n",
        "y = -6\n",
        "z = x + y\n",
        "a = z + z\n",
        "\n",
        "print(z)\n",
        "print(a)\n",
        "\n",
        "if a >= 1:\n",
        "    print('Final number is positive')\n",
        "elif a <= 1:\n",
        "    print('Final number is negative')\n",
        "else:\n",
        "    print('Final number is 0')"
      ],
      "metadata": {
        "colab": {
          "base_uri": "https://localhost:8080/"
        },
        "id": "RCQIlylZkhWl",
        "outputId": "05955d42-64b6-4d3f-9a2c-0e8d48a9808f"
      },
      "execution_count": 16,
      "outputs": [
        {
          "output_type": "stream",
          "name": "stdout",
          "text": [
            "1\n",
            "2\n",
            "Final number is positive\n"
          ]
        }
      ]
    },
    {
      "cell_type": "code",
      "source": [
        "#1.5 conditional statements are done only if the condition is true\n",
        "name = \"drew\"\n",
        "\n",
        "if len(name) <= 5:\n",
        "  print(f\"{name} is a short name\")\n",
        "else:\n",
        "  print(f\"{name} is a long name\")"
      ],
      "metadata": {
        "colab": {
          "base_uri": "https://localhost:8080/"
        },
        "id": "2dmoLWadlSml",
        "outputId": "62770335-73a5-4f28-aa05-d1c17b58a2ea"
      },
      "execution_count": 19,
      "outputs": [
        {
          "output_type": "stream",
          "name": "stdout",
          "text": [
            "drew is a short name\n"
          ]
        }
      ]
    },
    {
      "cell_type": "code",
      "source": [
        "#1.6 Text strings can be added together and will be placed right nect to each other\n",
        "first = \"Drew\"\n",
        "last = \" Romesser\"\n",
        "full = first + last\n",
        "print(full)"
      ],
      "metadata": {
        "colab": {
          "base_uri": "https://localhost:8080/"
        },
        "id": "_OEWgIL5mUdA",
        "outputId": "5a912494-9fb3-4968-9848-45ded7e01e17"
      },
      "execution_count": 22,
      "outputs": [
        {
          "output_type": "stream",
          "name": "stdout",
          "text": [
            "Drew Romesser\n"
          ]
        }
      ]
    },
    {
      "cell_type": "code",
      "source": [
        "#1.7 files can be used by inspecting and changing their contents\n",
        "with open('example.txt') as file:\n",
        "    for text in file:\n",
        "        print(text, end=' ')"
      ],
      "metadata": {
        "colab": {
          "base_uri": "https://localhost:8080/",
          "height": 228
        },
        "id": "dPGuFI9umlsd",
        "outputId": "555c9365-c64b-4a70-81f7-709d923a2b2e"
      },
      "execution_count": 24,
      "outputs": [
        {
          "output_type": "error",
          "ename": "FileNotFoundError",
          "evalue": "ignored",
          "traceback": [
            "\u001b[0;31m---------------------------------------------------------------------------\u001b[0m",
            "\u001b[0;31mFileNotFoundError\u001b[0m                         Traceback (most recent call last)",
            "\u001b[0;32m<ipython-input-24-fcce3eca3123>\u001b[0m in \u001b[0;36m<cell line: 2>\u001b[0;34m()\u001b[0m\n\u001b[1;32m      1\u001b[0m \u001b[0;31m#1.7 file input and output, Files can be utilized by inspecting and manipulating their contents, as demonstrated in the example below.\u001b[0m\u001b[0;34m\u001b[0m\u001b[0;34m\u001b[0m\u001b[0m\n\u001b[0;32m----> 2\u001b[0;31m \u001b[0;32mwith\u001b[0m \u001b[0mopen\u001b[0m\u001b[0;34m(\u001b[0m\u001b[0;34m'example.txt'\u001b[0m\u001b[0;34m)\u001b[0m \u001b[0;32mas\u001b[0m \u001b[0mfile\u001b[0m\u001b[0;34m:\u001b[0m\u001b[0;34m\u001b[0m\u001b[0;34m\u001b[0m\u001b[0m\n\u001b[0m\u001b[1;32m      3\u001b[0m     \u001b[0;32mfor\u001b[0m \u001b[0mtext\u001b[0m \u001b[0;32min\u001b[0m \u001b[0mfile\u001b[0m\u001b[0;34m:\u001b[0m\u001b[0;34m\u001b[0m\u001b[0;34m\u001b[0m\u001b[0m\n\u001b[1;32m      4\u001b[0m         \u001b[0mprint\u001b[0m\u001b[0;34m(\u001b[0m\u001b[0mtext\u001b[0m\u001b[0;34m,\u001b[0m \u001b[0mend\u001b[0m\u001b[0;34m=\u001b[0m\u001b[0;34m' '\u001b[0m\u001b[0;34m)\u001b[0m\u001b[0;34m\u001b[0m\u001b[0;34m\u001b[0m\u001b[0m\n",
            "\u001b[0;31mFileNotFoundError\u001b[0m: [Errno 2] No such file or directory: 'example.txt'"
          ]
        }
      ]
    },
    {
      "cell_type": "code",
      "source": [
        "#1.8 lists are a 'folder' that you can put variable, strings, and intergers in\n",
        "\n",
        "names = ['Drew', 'John', 'Ponzo', 'Max']\n",
        "picked_name = names[2]\n",
        "names[2] = 'Eve'\n",
        "print(names[-1])\n",
        "print(names)"
      ],
      "metadata": {
        "colab": {
          "base_uri": "https://localhost:8080/"
        },
        "id": "5hM87HMMm7lq",
        "outputId": "56e9873b-00f7-4d98-bcae-67170fc9b59d"
      },
      "execution_count": 26,
      "outputs": [
        {
          "output_type": "stream",
          "name": "stdout",
          "text": [
            "Max\n",
            "['Drew', 'John', 'Eve', 'Max']\n"
          ]
        }
      ]
    },
    {
      "cell_type": "code",
      "source": [
        "#1.9 Tuples hold multiple things in one place. Tuples are ordered and can't be changed once you create them.\n",
        "\n",
        "hockey_teams = (\"kraken\", \"sabres\", \"lightning\")\n",
        "first_team = hockey_teams[0]\n",
        "second_team = hockey_teams[1]\n",
        "print(first_team)\n",
        "print(second_team)\n",
        "\n",
        "team1, team2, team3 = hockey_teams\n",
        "print(f\"\\n{team1}\")\n",
        "print(team2)\n",
        "print(team3)"
      ],
      "metadata": {
        "colab": {
          "base_uri": "https://localhost:8080/"
        },
        "id": "0I7xs27Doprt",
        "outputId": "477faa86-cc22-4fff-b236-2062977882e6"
      },
      "execution_count": 29,
      "outputs": [
        {
          "output_type": "stream",
          "name": "stdout",
          "text": [
            "kraken\n",
            "sabres\n",
            "\n",
            "kraken\n",
            "sabres\n",
            "lightning\n"
          ]
        }
      ]
    },
    {
      "cell_type": "code",
      "source": [
        "#1.10 A set is a group of items without a certain order. You can to add or remove elements, and you can combine or split them\n",
        "numbers = {24, 4, 7}\n",
        "empty = set()\n",
        "\n",
        "numbers.add(17)\n",
        "numbers.discard(3)\n",
        "numbers.discard(9)\n",
        "\n",
        "numbers.update({8, 24, 77})\n",
        "numbers.difference_update({4, 3})\n",
        "\n",
        "seta = {1, 24, 2}\n",
        "setb = {10, 15, 99}\n",
        "combined_set = numbers.union(setb)\n",
        "numbers_set = numbers.intersection(setb)\n",
        "different_numbers_set = numbers.difference(setb)\n",
        "\n",
        "for item in numbers:\n",
        "    print(item)\n",
        "\n",
        "for num in combined_set:\n",
        "    print(num)\n",
        "\n",
        "for shared_numbers in numbers_set:\n",
        "    print(shared_numbers)\n",
        "\n",
        "for different_numbers in different_numbers_set:\n",
        "    print(different_numbers)"
      ],
      "metadata": {
        "colab": {
          "base_uri": "https://localhost:8080/"
        },
        "id": "f-O5Wlnmp9CO",
        "outputId": "56ce24ad-5196-4307-bd12-d5191f4f5bd2"
      },
      "execution_count": 31,
      "outputs": [
        {
          "output_type": "stream",
          "name": "stdout",
          "text": [
            "17\n",
            "7\n",
            "24\n",
            "8\n",
            "77\n",
            "17\n",
            "99\n",
            "7\n",
            "24\n",
            "8\n",
            "10\n",
            "77\n",
            "15\n",
            "7\n",
            "8\n",
            "77\n",
            "17\n",
            "24\n"
          ]
        }
      ]
    },
    {
      "cell_type": "code",
      "source": [
        "#1.11 dictionaries serve as a tool for handling key-value data. They are great for access, modification, and iteration of elements\n",
        "person_info = {\"first_name: \": \"Drew\", \"age\": 24, \"location\": \"Buffalo\"}\n",
        "\n",
        "first_name = person_info[\"first_name: \"]\n",
        "age = person_info.get(\"age\", 24)\n",
        "\n",
        "person_info[\"age\"] = 18\n",
        "person_info[\"nationality\"] = \"German\"\n",
        "print(person_info)\n",
        "\n",
        "del person_info[\"location\"]\n",
        "nationality = person_info.pop(\"nationality\")\n",
        "\n",
        "for profile, info in person_info.items():\n",
        "    print(profile, info)\n",
        "\n",
        ""
      ],
      "metadata": {
        "colab": {
          "base_uri": "https://localhost:8080/"
        },
        "id": "Ufam9jFcr9S8",
        "outputId": "0bf8876c-852f-48d3-85a2-ec1acc89a9b0"
      },
      "execution_count": 9,
      "outputs": [
        {
          "output_type": "stream",
          "name": "stdout",
          "text": [
            "{'first_name: ': 'Drew', 'age': 18, 'location': 'Buffalo', 'nationality': 'German'}\n",
            "first_name:  Drew\n",
            "age 18\n"
          ]
        }
      ]
    },
    {
      "cell_type": "code",
      "source": [
        "#1.12 Iterating and looping allows methods to read through data and run repetitive tasks.\n",
        "sports = 'baseball'\n",
        "for char in sports:\n",
        "    print('I love baseball')\n",
        "\n",
        "for num in range(1, 4):\n",
        "    print(\"range\")\n",
        "\n",
        "counter = 0\n",
        "while True:\n",
        "    print('Go Cards')\n",
        "    counter += 1\n",
        "    if counter == 5:\n",
        "        break\n",
        "\n",
        ""
      ],
      "metadata": {
        "colab": {
          "base_uri": "https://localhost:8080/"
        },
        "id": "-5Cw25n3WvvE",
        "outputId": "bdae2fe1-adef-4ccd-eb1f-9ba2693ad11e"
      },
      "execution_count": 19,
      "outputs": [
        {
          "output_type": "stream",
          "name": "stdout",
          "text": [
            "I love baseball\n",
            "I love baseball\n",
            "I love baseball\n",
            "I love baseball\n",
            "I love baseball\n",
            "I love baseball\n",
            "I love baseball\n",
            "I love baseball\n",
            "range\n",
            "range\n",
            "range\n",
            "Go Cards\n",
            "Go Cards\n",
            "Go Cards\n",
            "Go Cards\n",
            "Go Cards\n"
          ]
        }
      ]
    },
    {
      "cell_type": "code",
      "source": [
        "#1.13 functions are blocks of code that can be called to perform specific tasks when called upon\n",
        "def threecombination(threecombo):\n",
        "  return threecombo\n",
        "\n",
        "test = threecombination('7-1-6')\n",
        "print(f'Three number combo is: {test}')\n",
        "\n",
        "def fourcombination(fourcombo):\n",
        "  return fourcombo\n",
        "\n",
        "test1 = fourcombination('2-4-6-1')\n",
        "print(f'Four number combo is: {test1}')\n"
      ],
      "metadata": {
        "colab": {
          "base_uri": "https://localhost:8080/"
        },
        "id": "5EnJrKBCYdix",
        "outputId": "ae172d02-975f-4939-e812-861ae9e1248c"
      },
      "execution_count": 27,
      "outputs": [
        {
          "output_type": "stream",
          "name": "stdout",
          "text": [
            "Three number combo is: 7-1-6\n",
            "Four number combo is: 2-4-6-1\n"
          ]
        }
      ]
    },
    {
      "cell_type": "code",
      "source": [
        "#1.14 exceptions handle unexpected events and errors in code. try and except blocks allows for the finding and management of exceptions which helps avoid errors. Error Messages should be clear and concise.\n",
        "try:\n",
        "    y = 24 / 4\n",
        "except ZeroDivisionError:\n",
        "    print(\"Error: Division by zero\")\n",
        "else:\n",
        "    print(\"No exception occurred\")\n",
        "finally:\n",
        "    print(\"Code has run through\")\n",
        "\n",
        "try:\n",
        "    y = 24 / 0\n",
        "except ZeroDivisionError:\n",
        "    print(\"\\nError: Division by zero\")\n",
        "else:\n",
        "    print(\"No exception occurred\")\n",
        "finally:\n",
        "    print(\"Code has run through\")"
      ],
      "metadata": {
        "colab": {
          "base_uri": "https://localhost:8080/"
        },
        "id": "k7slafrmaeNx",
        "outputId": "dc98d218-fe22-4ea4-dd8e-8b6be936372f"
      },
      "execution_count": 33,
      "outputs": [
        {
          "output_type": "stream",
          "name": "stdout",
          "text": [
            "No exception occurred\n",
            "Code has run through\n",
            "\n",
            "Error: Division by zero\n",
            "Code has run through\n"
          ]
        }
      ]
    },
    {
      "cell_type": "code",
      "source": [
        "#1.15 program termination refers to the stopping of an running applictaion. when a program ends, it concludes its tasks and shuts down\n",
        "try:\n",
        "    test_file = open(\"nothinghere.txt\", \"r\")\n",
        "except FileNotFoundError:\n",
        "    print(\"There is no such file\")"
      ],
      "metadata": {
        "colab": {
          "base_uri": "https://localhost:8080/"
        },
        "id": "J3kHH4Wnb2jS",
        "outputId": "40088040-db46-49cd-9372-aab7a02a5879"
      },
      "execution_count": 37,
      "outputs": [
        {
          "output_type": "stream",
          "name": "stdout",
          "text": [
            "There is no such file\n"
          ]
        }
      ]
    },
    {
      "cell_type": "code",
      "source": [
        "#1.16 classes serve as templates that outline the behavior of objects. Objects are occurrences within these templates\n",
        "class Sport:\n",
        "    def __init__(self, name, type_of_ball):\n",
        "        self.name = name\n",
        "        self.type_of_ball = type_of_ball\n",
        "\n",
        "    def team(self):\n",
        "        return \"Sabres\"\n",
        "\n",
        "sport = Sport(\"Hockey\", \"Puck\")\n",
        "sport1 = Sport(\"Tennis\", \"Tennis Ball\")\n",
        "\n",
        "print(f\"My sport of the day is {sport.name}. In {sport.name} they use a {sport.type_of_ball}. I like the {sport.team()}\")\n",
        "print(f\"My sport of the day is {sport1.name}. In {sport1.name} they use a {sport1.type_of_ball}. I like the {sport1.team()}\")\n",
        "\n",
        "class Friends:\n",
        "    def __init__(self, name, location):\n",
        "        self.name = name\n",
        "        self.location = location\n",
        "\n",
        "friend = Friends(\"Max\", \"Long Island\")\n",
        "friend1 = Friends(\"Brady\", \"Rochester\")\n",
        "\n",
        "print(f\"Friend's name: {friend.name}\\nThey are from: {friend.location}\")\n",
        "print(f\"Friend's name: {friend1.name}\\nThey are from: {friend1.location}\")\n",
        "\n"
      ],
      "metadata": {
        "colab": {
          "base_uri": "https://localhost:8080/"
        },
        "id": "cyMLAI0scXnl",
        "outputId": "cb4c4d1b-677a-4c5f-e15b-4e2708ba18e4"
      },
      "execution_count": 53,
      "outputs": [
        {
          "output_type": "stream",
          "name": "stdout",
          "text": [
            "My sport of the day is Hockey. In Hockey they use a Puck. I like the Sabres\n",
            "My sport of the day is Tennis. In Tennis they use a Tennis Ball. I like the Sabres\n",
            "Friend's name: Max\n",
            "They are from: Long Island\n",
            "Friend's name: Brady\n",
            "They are from: Rochester\n"
          ]
        }
      ]
    },
    {
      "cell_type": "code",
      "source": [
        "#1.17 Modules offer a method to break down complex projects preventing too much complexity. They use the import statement to import and use functions from other modules of code\n",
        "# helper_module.py\n",
        "\n",
        "def greet(name):\n",
        "    return f\"Hello, {name}!\"\n",
        "\n",
        "# main.py\n",
        "from . import helper_module  # Use the correct relative import for the current directory\n",
        "\n",
        "name_to_greet = \"Drew\"\n",
        "greeting = helper_module.greet(name_to_greet)\n",
        "print(greeting)"
      ],
      "metadata": {
        "colab": {
          "base_uri": "https://localhost:8080/",
          "height": 384
        },
        "id": "O_tiyqw_foB-",
        "outputId": "6cad2391-065f-4694-ca93-c5c21d27a1be"
      },
      "execution_count": 54,
      "outputs": [
        {
          "output_type": "error",
          "ename": "ImportError",
          "evalue": "ignored",
          "traceback": [
            "\u001b[0;31m---------------------------------------------------------------------------\u001b[0m",
            "\u001b[0;31mImportError\u001b[0m                               Traceback (most recent call last)",
            "\u001b[0;32m<ipython-input-54-6444f491ae31>\u001b[0m in \u001b[0;36m<cell line: 8>\u001b[0;34m()\u001b[0m\n\u001b[1;32m      6\u001b[0m \u001b[0;34m\u001b[0m\u001b[0m\n\u001b[1;32m      7\u001b[0m \u001b[0;31m# main.py\u001b[0m\u001b[0;34m\u001b[0m\u001b[0;34m\u001b[0m\u001b[0m\n\u001b[0;32m----> 8\u001b[0;31m \u001b[0;32mfrom\u001b[0m \u001b[0;34m.\u001b[0m \u001b[0;32mimport\u001b[0m \u001b[0mhelper_module\u001b[0m  \u001b[0;31m# Use the correct relative import for the current directory\u001b[0m\u001b[0;34m\u001b[0m\u001b[0;34m\u001b[0m\u001b[0m\n\u001b[0m\u001b[1;32m      9\u001b[0m \u001b[0;34m\u001b[0m\u001b[0m\n\u001b[1;32m     10\u001b[0m \u001b[0mname_to_greet\u001b[0m \u001b[0;34m=\u001b[0m \u001b[0;34m\"Drew\"\u001b[0m\u001b[0;34m\u001b[0m\u001b[0;34m\u001b[0m\u001b[0m\n",
            "\u001b[0;31mImportError\u001b[0m: attempted relative import with no known parent package",
            "",
            "\u001b[0;31m---------------------------------------------------------------------------\u001b[0;32m\nNOTE: If your import is failing due to a missing package, you can\nmanually install dependencies using either !pip or !apt.\n\nTo view examples of installing some common dependencies, click the\n\"Open Examples\" button below.\n\u001b[0;31m---------------------------------------------------------------------------\u001b[0m\n"
          ],
          "errorDetails": {
            "actions": [
              {
                "action": "open_url",
                "actionText": "Open Examples",
                "url": "/notebooks/snippets/importing_libraries.ipynb"
              }
            ]
          }
        }
      ]
    },
    {
      "cell_type": "code",
      "source": [
        "#1.18 Script writing programming refers to creating runnable scripts or programs\n",
        "# script_example.py\n",
        "\n",
        "# Get user input\n",
        "color = input(\"What is your favorite color?:  \")\n",
        "\n",
        "# Repeats the input back to the user\n",
        "print(f\"Very interesting! Your favorite color is {color}\")"
      ],
      "metadata": {
        "colab": {
          "base_uri": "https://localhost:8080/"
        },
        "id": "lRmM5qy2gFBd",
        "outputId": "07c279fb-a2d6-4fb7-be94-5df5579633e1"
      },
      "execution_count": 57,
      "outputs": [
        {
          "output_type": "stream",
          "name": "stdout",
          "text": [
            "What is your favorite color?:  Green\n",
            "Very interesting! Your favorite color is Green\n"
          ]
        }
      ]
    },
    {
      "cell_type": "code",
      "source": [
        "#1.19 packages\n",
        "#packages are collections of modules that show functionalities or features. To install packages, you would use a package manager, and a common one is pip\n",
        "#for example pip install {package_name}"
      ],
      "metadata": {
        "id": "TYNWQoRyhOu7"
      },
      "execution_count": null,
      "outputs": []
    },
    {
      "cell_type": "code",
      "source": [
        "#1.20 Structuring a Python application is important for maintainability, readability, and scalability.\n",
        "\n",
        "\n",
        "class Contact:\n",
        "    def __init__(self, name, email):\n",
        "        self.name = name\n",
        "        self.email = email\n",
        "\n",
        "\n",
        "\n",
        "    def display_info(self):\n",
        "        print(f\"Name: {self.name}, Email: {self.email}\")\n",
        "\n",
        "\n",
        "info = Contact(name = \"Drew\", email = \"drew@email.com\")\n",
        "info.display_info()\n",
        "\n",
        "\n"
      ],
      "metadata": {
        "colab": {
          "base_uri": "https://localhost:8080/"
        },
        "id": "b3rvhIznhiVV",
        "outputId": "dc6bc2ea-1eef-42a5-af77-d9f6e389f137"
      },
      "execution_count": 71,
      "outputs": [
        {
          "output_type": "stream",
          "name": "stdout",
          "text": [
            "Name: Drew, Email: drew@email.com\n"
          ]
        }
      ]
    },
    {
      "cell_type": "code",
      "source": [
        "#1.21 Managing third party packages\n",
        "#Managing third-party packages is very important for using external functionalities into your code. The primary tool for managing packages in Python is pip, which stands for \"Pip Installs Packages.\"\""
      ],
      "metadata": {
        "id": "0_-mIQlukHsX"
      },
      "execution_count": 72,
      "outputs": []
    }
  ]
}