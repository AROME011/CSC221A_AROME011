{
  "nbformat": 4,
  "nbformat_minor": 0,
  "metadata": {
    "colab": {
      "provenance": [],
      "authorship_tag": "ABX9TyPuAV1ijHYZGFLC66dB6maT",
      "include_colab_link": true
    },
    "kernelspec": {
      "name": "python3",
      "display_name": "Python 3"
    },
    "language_info": {
      "name": "python"
    }
  },
  "cells": [
    {
      "cell_type": "markdown",
      "metadata": {
        "id": "view-in-github",
        "colab_type": "text"
      },
      "source": [
        "<a href=\"https://colab.research.google.com/github/AROME011/CSC221A_AROME011/blob/main/Assignment9.ipynb\" target=\"_parent\"><img src=\"https://colab.research.google.com/assets/colab-badge.svg\" alt=\"Open In Colab\"/></a>"
      ]
    },
    {
      "cell_type": "code",
      "execution_count": null,
      "metadata": {
        "colab": {
          "base_uri": "https://localhost:8080/"
        },
        "id": "l_pLTxn7SMJi",
        "outputId": "4863c4c4-ae27-4766-b373-107c3f7978e7"
      },
      "outputs": [
        {
          "output_type": "stream",
          "name": "stdout",
          "text": [
            "One of my favorite books is Senior Year\n"
          ]
        }
      ],
      "source": [
        "def favorite_book(book):\n",
        "  print(f\"One of my favorite books is {book.title()}\")\n",
        "favorite_book('Senior Year')"
      ]
    },
    {
      "cell_type": "code",
      "source": [
        "def make_shirt(size, message):\n",
        "  print(f\"\\nThe shirt size is {size}\")\n",
        "  print(f\"The shirt will have a message saying {message}\")\n",
        "make_shirt('medium', \"'I love the USA'\")\n",
        "make_shirt('x-large', \"'World Peace'\")\n",
        "make_shirt('small', \"'Go Bills'\")"
      ],
      "metadata": {
        "colab": {
          "base_uri": "https://localhost:8080/"
        },
        "id": "A2G8h3FTTbIN",
        "outputId": "ae28e705-90b5-4eda-b977-74caa57c16fd"
      },
      "execution_count": null,
      "outputs": [
        {
          "output_type": "stream",
          "name": "stdout",
          "text": [
            "\n",
            "The shirt size is medium\n",
            "The shirt will have a message saying 'I love the USA'\n",
            "\n",
            "The shirt size is x-large\n",
            "The shirt will have a message saying 'World Peace'\n",
            "\n",
            "The shirt size is small\n",
            "The shirt will have a message saying 'Go Bills'\n"
          ]
        }
      ]
    },
    {
      "cell_type": "code",
      "source": [
        "def make_shirt(size, message= \"'I love Python'\"):\n",
        "  print(f\"\\nThe shirt size is {size}\")\n",
        "  print(f\"The shirt will have a message saying {message}\")\n",
        "make_shirt(size= 'large')\n",
        "make_shirt(size= 'medium')\n",
        "make_shirt('x-small', \"'There are 10 types of people in this world, those that understand binary and those that don't'\")"
      ],
      "metadata": {
        "colab": {
          "base_uri": "https://localhost:8080/"
        },
        "id": "BaNKOksxYiEW",
        "outputId": "00a6951e-99db-48bb-dbb6-5e8d4d4b35b7"
      },
      "execution_count": null,
      "outputs": [
        {
          "output_type": "stream",
          "name": "stdout",
          "text": [
            "\n",
            "The shirt size is large\n",
            "The shirt will have a message saying 'I love Python'\n",
            "\n",
            "The shirt size is medium\n",
            "The shirt will have a message saying 'I love Python'\n",
            "\n",
            "The shirt size is x-small\n",
            "The shirt will have a message saying 'There are 10 types of people in this world, those that understand binary and those that don't'\n"
          ]
        }
      ]
    },
    {
      "cell_type": "code",
      "source": [
        "def make_car(brand, model, color, optional):\n",
        "  car = {'brand': brand, 'model': model, 'color': color, 'optional': optional}\n",
        "  return car\n",
        "finished_car = make_car('hyundai', 'sante fe', color='black', optional='ac seats')\n",
        "print(finished_car)"
      ],
      "metadata": {
        "colab": {
          "base_uri": "https://localhost:8080/"
        },
        "id": "-jXMKaDiGcLZ",
        "outputId": "e466a611-bb0c-46db-bbd9-ac8ea3fa970d"
      },
      "execution_count": 3,
      "outputs": [
        {
          "output_type": "stream",
          "name": "stdout",
          "text": [
            "{'brand': 'hyundai', 'model': 'sante fe', 'color': 'black', 'optional': 'ac seats'}\n"
          ]
        }
      ]
    },
    {
      "cell_type": "code",
      "source": [
        "def numbers(first_number, second_number):\n",
        "  sum = first_number + second_number\n",
        "  return sum\n",
        "verbose = True\n",
        "while verbose == True:\n",
        "  print(\"\\nPlease give me 2 numbers\")\n",
        "  first = input(\"First Number: \")\n",
        "  first = int(first)\n",
        "  second = input(\"Second Number: \")\n",
        "  second = int(second)\n",
        "  both_numbers = [first, second]\n",
        "  for sort in both_numbers:\n",
        "    print(sort)\n",
        "  total_number = int(total_number)\n",
        "  total_number = (first + second)\n",
        "  print(f\"Your number is {total_number}\")\n",
        "  verbose = False\n",
        "\n"
      ],
      "metadata": {
        "colab": {
          "base_uri": "https://localhost:8080/"
        },
        "id": "XddjRB1iJVaj",
        "outputId": "586e580a-e0c7-47de-b1f2-40e442bf8939"
      },
      "execution_count": 39,
      "outputs": [
        {
          "output_type": "stream",
          "name": "stdout",
          "text": [
            "\n",
            "Please give me 2 numbers\n",
            "First Number: 5\n",
            "Second Number: 9\n",
            "5\n",
            "9\n",
            "Your number is 14\n"
          ]
        }
      ]
    }
  ]
}