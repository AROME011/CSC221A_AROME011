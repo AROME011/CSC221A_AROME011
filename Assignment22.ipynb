{
  "nbformat": 4,
  "nbformat_minor": 0,
  "metadata": {
    "colab": {
      "provenance": [],
      "authorship_tag": "ABX9TyN8oKys3qDc9bU71DpxM3B8",
      "include_colab_link": true
    },
    "kernelspec": {
      "name": "python3",
      "display_name": "Python 3"
    },
    "language_info": {
      "name": "python"
    }
  },
  "cells": [
    {
      "cell_type": "markdown",
      "metadata": {
        "id": "view-in-github",
        "colab_type": "text"
      },
      "source": [
        "<a href=\"https://colab.research.google.com/github/AROME011/CSC221A_AROME011/blob/main/Assignment22.ipynb\" target=\"_parent\"><img src=\"https://colab.research.google.com/assets/colab-badge.svg\" alt=\"Open In Colab\"/></a>"
      ]
    },
    {
      "cell_type": "code",
      "execution_count": 21,
      "metadata": {
        "colab": {
          "base_uri": "https://localhost:8080/"
        },
        "id": "8PQzY4CshvnZ",
        "outputId": "4dde2117-be20-4918-d11b-a7652f654287"
      },
      "outputs": [
        {
          "output_type": "stream",
          "name": "stdout",
          "text": [
            "Original, Unsorted Vectors:\n",
            "(24, 6)\n",
            "(-4, -7)\n",
            "(0, 0)\n",
            "(7, 30)\n",
            "\n",
            "New, Sorted Vectors by Length:\n",
            "(0, 0)\n",
            "(-4, -7)\n",
            "(24, 6)\n",
            "(7, 30)\n"
          ]
        }
      ],
      "source": [
        "import math\n",
        "\n",
        "class Vector2D:\n",
        "    def __init__(self, x, y):\n",
        "        self.x = x\n",
        "        self.y = y\n",
        "\n",
        "    def __repr__(self):\n",
        "        return f\"({self.x}, {self.y})\"\n",
        "\n",
        "    def __lt__(self, second):\n",
        "        return self.length() < second.length()\n",
        "\n",
        "    def length(self):\n",
        "        return math.sqrt(self.x**2 + self.y**2)\n",
        "\n",
        "#Example Usage\n",
        "vector_lengths = [\n",
        "    Vector2D(24, 6),\n",
        "    Vector2D(-4, -7),\n",
        "    Vector2D(0, 0),\n",
        "    Vector2D(7, 30)\n",
        "]\n",
        "\n",
        "\n",
        "print(\"Original, Unsorted Vectors:\")\n",
        "for length in vector_lengths:\n",
        "    print(length)\n",
        "\n",
        "sorted_vectors = sorted(vector_lengths)\n",
        "print(\"\\nNew, Sorted Vectors by Length:\")\n",
        "for length in sorted_vectors:\n",
        "    print(length)\n"
      ]
    },
    {
      "cell_type": "code",
      "source": [
        "class Vector2D:\n",
        "    def __init__(self, x, y):\n",
        "        self.x = x\n",
        "        self.y = y\n",
        "\n",
        "    def __repr__(self):\n",
        "        return f\"{self.x}, {self.y}\"\n",
        "\n",
        "    def __str__(self):\n",
        "        return f\"({self.x}, {self.y})\"\n",
        "\n",
        "    def __lt__(self, second):\n",
        "        return (self.x + self.y) < (second.x + second.y)\n",
        "\n",
        "# Example usage:\n",
        "vector_lengths = [\n",
        "    Vector2D(24, 6),\n",
        "    Vector2D(-4, -7),\n",
        "    Vector2D(0, 0),\n",
        "    Vector2D(7, 30)\n",
        "]\n",
        "\n",
        "print(\"Original, unsorted vectors:\")\n",
        "for length in vector_lengths:\n",
        "    print(length)\n",
        "\n",
        "sorted_vectors = sorted(vector_lengths)\n",
        "print(\"\\nNew, Sorted vectors by Euclidean length (sum of x and y):\")\n",
        "for length in sorted_vectors:\n",
        "    print(length)\n"
      ],
      "metadata": {
        "colab": {
          "base_uri": "https://localhost:8080/"
        },
        "id": "Nku9vuhrlwO6",
        "outputId": "3e4babb9-8656-4916-ad5e-6103445a6141"
      },
      "execution_count": 26,
      "outputs": [
        {
          "output_type": "stream",
          "name": "stdout",
          "text": [
            "Original, unsorted vectors:\n",
            "(24, 6)\n",
            "(-4, -7)\n",
            "(0, 0)\n",
            "(7, 30)\n",
            "\n",
            "New, Sorted vectors by Euclidean length (sum of x and y):\n",
            "(-4, -7)\n",
            "(0, 0)\n",
            "(24, 6)\n",
            "(7, 30)\n"
          ]
        }
      ]
    },
    {
      "cell_type": "code",
      "source": [
        "class Special:\n",
        "  def __getitem__(self, key):\n",
        "        return len(key)\n",
        "\n",
        "#Example Usage\n",
        "s1 = Special()\n",
        "print(s1[\"buffalo\"])\n",
        "print(s1[\"montreal\"])\n",
        "print(s1[\"newyorkcity\" * 5])\n",
        "print(s1[\"toronto\" * 9])\n",
        "print(s1[\"boston\"])\n",
        "print(s1[\"newjersey\" * 2])\n",
        "print(s1[\"detroit\" * 3])\n",
        "print(s1[\"hockeytowns\" * 10])"
      ],
      "metadata": {
        "colab": {
          "base_uri": "https://localhost:8080/"
        },
        "id": "LZ54BFnYnfh8",
        "outputId": "34e52630-1bfe-48c2-ad1b-139b570a2412"
      },
      "execution_count": 48,
      "outputs": [
        {
          "output_type": "stream",
          "name": "stdout",
          "text": [
            "7\n",
            "8\n",
            "55\n",
            "63\n",
            "6\n",
            "18\n",
            "21\n",
            "110\n"
          ]
        }
      ]
    }
  ]
}