{
  "nbformat": 4,
  "nbformat_minor": 0,
  "metadata": {
    "colab": {
      "provenance": [],
      "authorship_tag": "ABX9TyPZgpYDQeWOlBQ065FN14e4",
      "include_colab_link": true
    },
    "kernelspec": {
      "name": "python3",
      "display_name": "Python 3"
    },
    "language_info": {
      "name": "python"
    }
  },
  "cells": [
    {
      "cell_type": "markdown",
      "metadata": {
        "id": "view-in-github",
        "colab_type": "text"
      },
      "source": [
        "<a href=\"https://colab.research.google.com/github/AROME011/CSC221A_AROME011/blob/main/Assignment14.ipynb\" target=\"_parent\"><img src=\"https://colab.research.google.com/assets/colab-badge.svg\" alt=\"Open In Colab\"/></a>"
      ]
    },
    {
      "cell_type": "code",
      "execution_count": 2,
      "metadata": {
        "colab": {
          "base_uri": "https://localhost:8080/"
        },
        "id": "IjNPEzUSjQKI",
        "outputId": "fb684877-8453-41a4-bbc7-9eddbf4b5ecb"
      },
      "outputs": [
        {
          "name": "stdout",
          "output_type": "stream",
          "text": [
            "Enter a, b, c (q to quit): 14, 16, 3\n",
            "calc=10.0\n",
            "Enter a, b, c (q to quit): q\n"
          ]
        }
      ],
      "source": [
        "# This is your code from class that I used as a base for mine\n",
        "'''\n",
        "def parser():\n",
        "    while True:\n",
        "        inp = input('Enter a, b, c (q to quit): ')\n",
        "        if inp == \"q\":\n",
        "            break;\n",
        "\n",
        "        # User types a, b, c and I calc (a + b) / c\n",
        "        args = inp.split(',')\n",
        "\n",
        "        try:\n",
        "            a = int(args[0])\n",
        "            b = int(args[1])\n",
        "\n",
        "            c = int(args[2])\n",
        "            calc = (a + b) / c\n",
        "            print(f\"{calc=}\")\n",
        "        except ZeroDivisionError:\n",
        "            print(\"ZeroDivisionError\")\n",
        "        except IndexError:\n",
        "            print(\"IndexError\")\n",
        "        except ValueError:\n",
        "            print(\"ValueError\")\n",
        "\n",
        "parser()\n",
        "'''"
      ]
    },
    {
      "cell_type": "code",
      "source": [
        "def parcer():\n",
        "    while True:\n",
        "        inp = input('Enter a math expression with no commas (a (+,-,*,/) b) (q to quit): ')\n",
        "        if inp.lower() == \"q\":\n",
        "            break\n",
        "\n",
        "        # 2: split the numbers and operators. Not adding a comma allows normal expression for the user\n",
        "        args = inp.split(' ')\n",
        "\n",
        "        #checking if response is valid length and setting numbers equal to a and b and operation to operation, in correct order\n",
        "        try:\n",
        "            if len(args) == 3:\n",
        "                a = int(args[0])\n",
        "                operation = str(args[1])\n",
        "                b = int(args[2])\n",
        "\n",
        "                #gets the operation from user then calculates, says if operation is not valid\n",
        "                if operation == '+':\n",
        "                    calc = a + b\n",
        "                elif operation == '-':\n",
        "                    calc = a - b\n",
        "                elif operation == '*':\n",
        "                    calc = a * b\n",
        "                elif operation == '/':\n",
        "                    calc = a / b\n",
        "                else:\n",
        "                    print(\"Invalid operation. Please use +, -, *, /.\")\n",
        "                    continue\n",
        "                    #Never used continue before but it should skip to the next line if pythontutorial.net is correct\n",
        "\n",
        "                #prints the calculation\n",
        "                print(f\"{a} {operation} {b} = {calc}\")\n",
        "            else:\n",
        "                print(\"Please enter a math expression with a number followed by an operation, then another number\")\n",
        "\n",
        "        #shows what error user makes\n",
        "        except ZeroDivisionError:\n",
        "            print(\"Can't divide by zero\")\n",
        "        except ValueError:\n",
        "            print(\"Value Error\")\n",
        "        #I'm pretty sure Index error problem is already solved in 'if len != 3:'\n",
        "        except IndexError:\n",
        "            print(\"Index Error\")\n",
        "\n",
        "parcer()"
      ],
      "metadata": {
        "colab": {
          "base_uri": "https://localhost:8080/"
        },
        "id": "harcELD8l_fz",
        "outputId": "c94c6ee5-60c5-4f09-a3b4-7a3dd7508ad5"
      },
      "execution_count": 25,
      "outputs": [
        {
          "name": "stdout",
          "output_type": "stream",
          "text": [
            "Enter a math expression with no commas (a (+,-,*,/) b) (q to quit): 13 + 13\n",
            "13 + 13 = 26\n",
            "Enter a math expression with no commas (a (+,-,*,/) b) (q to quit): 14 *15\n",
            "Please enter a math expression with a number followed by an operation, then another number\n",
            "Enter a math expression with no commas (a (+,-,*,/) b) (q to quit): 18 * 4\n",
            "18 * 4 = 72\n",
            "Enter a math expression with no commas (a (+,-,*,/) b) (q to quit): 19 - 1\n",
            "19 - 1 = 18\n",
            "Enter a math expression with no commas (a (+,-,*,/) b) (q to quit): 120 / 12\n",
            "120 / 12 = 10.0\n",
            "Enter a math expression with no commas (a (+,-,*,/) b) (q to quit): 120 / 0\n",
            "Can't divide by zero\n",
            "Enter a math expression with no commas (a (+,-,*,/) b) (q to quit): q\n"
          ]
        }
      ]
    }
  ]
}