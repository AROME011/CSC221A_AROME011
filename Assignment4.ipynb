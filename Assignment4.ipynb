{
  "nbformat": 4,
  "nbformat_minor": 0,
  "metadata": {
    "colab": {
      "provenance": [],
      "authorship_tag": "ABX9TyPVjKVVYr7PNtTWM+EWbAZ0",
      "include_colab_link": true
    },
    "kernelspec": {
      "name": "python3",
      "display_name": "Python 3"
    },
    "language_info": {
      "name": "python"
    }
  },
  "cells": [
    {
      "cell_type": "markdown",
      "metadata": {
        "id": "view-in-github",
        "colab_type": "text"
      },
      "source": [
        "<a href=\"https://colab.research.google.com/github/AROME011/CSC221A_AROME011/blob/main/Assignment4.ipynb\" target=\"_parent\"><img src=\"https://colab.research.google.com/assets/colab-badge.svg\" alt=\"Open In Colab\"/></a>"
      ]
    },
    {
      "cell_type": "code",
      "execution_count": null,
      "metadata": {
        "colab": {
          "base_uri": "https://localhost:8080/"
        },
        "id": "-AzUt-4qpZX3",
        "outputId": "5744007d-6122-4145-8b4c-b252d0482024"
      },
      "outputs": [
        {
          "output_type": "stream",
          "name": "stdout",
          "text": [
            "['trek', 'cannondale', 'redline', 'specialized']\n",
            "cannondale\n",
            "redline\n",
            "Specialized\n",
            "My first bicycle was a Redline\n"
          ]
        }
      ],
      "source": [
        "bicycles = ['trek', 'cannondale', 'redline', 'specialized']\n",
        "message = f\"My first bicycle was a {bicycles[-2].title()}\"\n",
        "print(bicycles)\n",
        "print(bicycles[1])\n",
        "print(bicycles[-2])\n",
        "print(bicycles[3].title())\n",
        "print(message)\n"
      ]
    },
    {
      "cell_type": "code",
      "source": [
        "friends = ['caitlin', 'dawson', 'alex', 'aiden']\n",
        "print(friends[0])\n",
        "print(friends[1])\n",
        "print(friends[-2])\n",
        "print(friends[3])"
      ],
      "metadata": {
        "colab": {
          "base_uri": "https://localhost:8080/"
        },
        "id": "ayOc0_4mru39",
        "outputId": "b2cd8c4e-dcca-46c8-ba67-1e56ba26d260"
      },
      "execution_count": null,
      "outputs": [
        {
          "output_type": "stream",
          "name": "stdout",
          "text": [
            "caitlin\n",
            "dawson\n",
            "alex\n",
            "aiden\n"
          ]
        }
      ]
    },
    {
      "cell_type": "code",
      "source": [
        "friends = ['caitlin', 'dawson', 'alex', 'aiden']\n",
        "message = f\"Miss you {friends[0].title()}\"\n",
        "message1 = f\"Miss you {friends[1].title()}\"\n",
        "message2 = f\"Miss you {friends[-2].title()}\"\n",
        "message3 = f\"Miss you {friends[3].title()}\"\n",
        "print(message)\n",
        "print(message1)\n",
        "print(message2)\n",
        "print(message3)"
      ],
      "metadata": {
        "colab": {
          "base_uri": "https://localhost:8080/"
        },
        "id": "ilOsXYYjsX6F",
        "outputId": "c03ffede-64e2-43b9-f84f-5590627cf415"
      },
      "execution_count": null,
      "outputs": [
        {
          "output_type": "stream",
          "name": "stdout",
          "text": [
            "Miss you Caitlin\n",
            "Miss you Dawson\n",
            "Miss you Alex\n",
            "Miss you Aiden\n"
          ]
        }
      ]
    },
    {
      "cell_type": "code",
      "source": [
        "transportation = ['bike', 'train', 'car', 'plane']\n",
        "home = f\"In order to get home, I will drive a {transportation[2]}\"\n",
        "campus = f\"I wish I had a {transportation[0]} to get around campus\"\n",
        "vacation = f\"When I go to Puerto Rico, I am taking a {transportation[-1]}\"\n",
        "print(home)\n",
        "print(campus)\n",
        "print(vacation)"
      ],
      "metadata": {
        "colab": {
          "base_uri": "https://localhost:8080/"
        },
        "id": "sszfXoGJt1Z7",
        "outputId": "242455ee-6b99-4528-842e-621d832bad1f"
      },
      "execution_count": null,
      "outputs": [
        {
          "output_type": "stream",
          "name": "stdout",
          "text": [
            "In order to get home, I will drive a car\n",
            "I wish I had a bike to get around campus\n",
            "When I go to Puerto Rico, I am taking a plane\n"
          ]
        }
      ]
    },
    {
      "cell_type": "code",
      "source": [
        "transportation = ['bike', 'train', 'car', 'plane']\n",
        "transportation[0] = 'feet'\n",
        "print(transportation)"
      ],
      "metadata": {
        "colab": {
          "base_uri": "https://localhost:8080/"
        },
        "id": "8ah8PxPV33mS",
        "outputId": "ca2f28ea-bc59-4f7b-e90b-ca1cc17bf3e7"
      },
      "execution_count": null,
      "outputs": [
        {
          "output_type": "stream",
          "name": "stdout",
          "text": [
            "['feet', 'train', 'car', 'plane']\n"
          ]
        }
      ]
    },
    {
      "cell_type": "code",
      "source": [
        "transportation = ['bike', 'train', 'car', 'plane']\n",
        "transportation.append('feet')\n",
        "print(transportation)"
      ],
      "metadata": {
        "colab": {
          "base_uri": "https://localhost:8080/"
        },
        "id": "wc8Am6hO4Tup",
        "outputId": "f782da2e-c14b-4e12-c986-4ec0a9aee7db"
      },
      "execution_count": null,
      "outputs": [
        {
          "output_type": "stream",
          "name": "stdout",
          "text": [
            "['bike', 'train', 'car', 'plane', 'feet']\n"
          ]
        }
      ]
    },
    {
      "cell_type": "code",
      "source": [
        "transportation = []\n",
        "transportation.append('bike')\n",
        "transportation.append('train')\n",
        "transportation.append('car')\n",
        "transportation.append('plane')\n",
        "print(transportation)"
      ],
      "metadata": {
        "colab": {
          "base_uri": "https://localhost:8080/"
        },
        "id": "gG22Vqyj4hfm",
        "outputId": "17181c2c-3075-43d8-9463-74c77367b35a"
      },
      "execution_count": null,
      "outputs": [
        {
          "output_type": "stream",
          "name": "stdout",
          "text": [
            "['bike', 'train', 'car', 'plane']\n"
          ]
        }
      ]
    },
    {
      "cell_type": "code",
      "source": [
        "transportation = ['bike', 'train', 'car', 'plane']\n",
        "transportation.insert(2, 'feet')\n",
        "print(transportation)"
      ],
      "metadata": {
        "colab": {
          "base_uri": "https://localhost:8080/"
        },
        "id": "bOcROIV848th",
        "outputId": "0831e89a-8b86-4cd6-ee25-c1beec4837fa"
      },
      "execution_count": null,
      "outputs": [
        {
          "output_type": "stream",
          "name": "stdout",
          "text": [
            "['bike', 'train', 'feet', 'car', 'plane']\n"
          ]
        }
      ]
    },
    {
      "cell_type": "code",
      "source": [
        "transportation = ['bike', 'train', 'car', 'plane']\n",
        "del transportation[-1]\n",
        "print(transportation)"
      ],
      "metadata": {
        "colab": {
          "base_uri": "https://localhost:8080/"
        },
        "id": "8f_JunPl5K-H",
        "outputId": "da7e766f-efab-4dd5-ab92-4b0b06e31b80"
      },
      "execution_count": null,
      "outputs": [
        {
          "output_type": "stream",
          "name": "stdout",
          "text": [
            "['bike', 'train', 'car']\n"
          ]
        }
      ]
    },
    {
      "cell_type": "code",
      "source": [
        "transportation = ['bike', 'train', 'car', 'plane']\n",
        "popped_transportation = transportation.pop(1)\n",
        "print(transportation)\n",
        "print(popped_transportation)"
      ],
      "metadata": {
        "colab": {
          "base_uri": "https://localhost:8080/"
        },
        "id": "aQJJ_7ar5WYx",
        "outputId": "03813f11-d138-4c0f-8c49-983698f15dab"
      },
      "execution_count": null,
      "outputs": [
        {
          "output_type": "stream",
          "name": "stdout",
          "text": [
            "['bike', 'car', 'plane']\n",
            "train\n"
          ]
        }
      ]
    },
    {
      "cell_type": "code",
      "source": [
        "transportation = ['bike', 'train', 'car', 'plane']\n",
        "pop_trans = transportation.pop(1)\n",
        "print(\"My least favorite means of transpotation is a \" + pop_trans)"
      ],
      "metadata": {
        "colab": {
          "base_uri": "https://localhost:8080/"
        },
        "id": "-f_9E7mp5-XX",
        "outputId": "5b697bdd-3bc5-46a5-cb54-4115887a0a84"
      },
      "execution_count": null,
      "outputs": [
        {
          "output_type": "stream",
          "name": "stdout",
          "text": [
            "My least favorite means of transpotation is a train\n"
          ]
        }
      ]
    },
    {
      "cell_type": "code",
      "source": [
        "transportation = ['bike', 'train', 'car', 'plane']\n",
        "transportation.remove('car')\n",
        "print(transportation)"
      ],
      "metadata": {
        "colab": {
          "base_uri": "https://localhost:8080/"
        },
        "id": "lRUTborB6f28",
        "outputId": "5247fb18-3a7d-4911-835b-545f329f474e"
      },
      "execution_count": null,
      "outputs": [
        {
          "output_type": "stream",
          "name": "stdout",
          "text": [
            "['bike', 'train', 'plane']\n"
          ]
        }
      ]
    },
    {
      "cell_type": "code",
      "source": [
        "transportation = ['bike', 'train', 'car', 'plane']\n",
        "favorite_trans = 'plane'\n",
        "transportation.remove('plane')\n",
        "print(\"My favorite means of transportation is a \" + favorite_trans.lower() )"
      ],
      "metadata": {
        "colab": {
          "base_uri": "https://localhost:8080/"
        },
        "id": "1U7WcyE4601J",
        "outputId": "4362d1ef-6a62-41a4-851e-e0722cd12b29"
      },
      "execution_count": null,
      "outputs": [
        {
          "output_type": "stream",
          "name": "stdout",
          "text": [
            "My favorite means of transportation is a plane\n"
          ]
        }
      ]
    },
    {
      "cell_type": "code",
      "source": [
        "guests = ['Kevin James', 'Josh Allen', 'JFK', 'Zach Bryan']\n",
        "print(\"Hey \" + guests[0] + \", would like to come to dinner? \")\n",
        "print(\"Hey \" + guests[1] + \", would like to come to dinner? \")\n",
        "print(\"Hey \" + guests[-2] + \", would like to come to dinner? \")\n",
        "print(\"Hey \" + guests[3] + \", would like to come to dinner? \")\n",
        "print(\"\\n\")\n",
        "print(guests[-2] + \" can not make it to dinner\")\n",
        "guests.remove('JFK')\n",
        "guests.insert(2, 'FDR')\n",
        "print(\"Here is the list of new guests\")\n",
        "print(guests)\n",
        "print(\"\\n\")\n",
        "print(\"Hey \" + guests[0] + \", would like to come to dinner? \")\n",
        "print(\"Hey \" + guests[1] + \", would like to come to dinner? \")\n",
        "print(\"Hey \" + guests[-2] + \", would like to come to dinner? \")\n",
        "print(\"Hey \" + guests[3] + \", would like to come to dinner? \")\n",
        "print(\"\\n\")\n",
        "print(\"I have found a bigger table and will be inviting 3 more people\")\n",
        "print(\"Here is the new list of invitees\")\n",
        "guests.insert(0, 'Michael Jordan')\n",
        "guests.insert(4, 'Adam Sandler')\n",
        "guests.insert(3, 'Leonardo di Vinci')\n",
        "print(guests)\n",
        "print(\"Hey \" + guests[0] + \", would like to come to dinner? \")\n",
        "print(\"Hey \" + guests[1] + \", would like to come to dinner? \")\n",
        "print(\"Hey \" + guests[2] + \", would like to come to dinner? \")\n",
        "print(\"Hey \" + guests[3] + \", would like to come to dinner? \")\n",
        "print(\"Hey \" + guests[4] + \", would like to come to dinner? \")\n",
        "print(\"Hey \" + guests[6] + \", would like to come to dinner? \")\n",
        "print(\"\\n\")\n",
        "print(\"The table will not arrive in time so I only have room for 2 people\")\n",
        "print(\"Sorry \" + guests[4] + \", but I do not have room for you anymore. \")\n",
        "print(\"Sorry \" + guests[-2] + \", but I do not have room for you anymore. \")\n",
        "print(\"Sorry \" + guests[0] + \", but I do not have room for you anymore. \")\n",
        "print(\"Sorry \" + guests[1] + \", but I do not have room for you anymore. \")\n",
        "print(\"Sorry \" + guests[3] + \", but I do not have room for you anymore. \")\n",
        "guests.pop(4)\n",
        "guests.pop(0)\n",
        "guests.pop(3)\n",
        "guests.pop(0)\n",
        "guests.pop(1)\n",
        "print(\"Here is the list of the 2 people I will be inviting\")\n",
        "print(guests)\n",
        "guests.remove('Josh Allen')\n",
        "guests.remove('Zach Bryan')\n",
        "print(guests)"
      ],
      "metadata": {
        "colab": {
          "base_uri": "https://localhost:8080/"
        },
        "id": "7-hrB53H7q1W",
        "outputId": "ffa7c909-6cb3-42a3-8ef7-dd85adea1990"
      },
      "execution_count": null,
      "outputs": [
        {
          "output_type": "stream",
          "name": "stdout",
          "text": [
            "Hey Kevin James, would like to come to dinner? \n",
            "Hey Josh Allen, would like to come to dinner? \n",
            "Hey JFK, would like to come to dinner? \n",
            "Hey Zach Bryan, would like to come to dinner? \n",
            "\n",
            "\n",
            "JFK can not make it to dinner\n",
            "Here is the list of new guests\n",
            "['Kevin James', 'Josh Allen', 'FDR', 'Zach Bryan']\n",
            "\n",
            "\n",
            "Hey Kevin James, would like to come to dinner? \n",
            "Hey Josh Allen, would like to come to dinner? \n",
            "Hey FDR, would like to come to dinner? \n",
            "Hey Zach Bryan, would like to come to dinner? \n",
            "\n",
            "\n",
            "I have found a bigger table and will be inviting 3 more people\n",
            "Here is the new list of invitees\n",
            "['Michael Jordan', 'Kevin James', 'Josh Allen', 'Leonardo di Vinci', 'FDR', 'Adam Sandler', 'Zach Bryan']\n",
            "Hey Michael Jordan, would like to come to dinner? \n",
            "Hey Kevin James, would like to come to dinner? \n",
            "Hey Josh Allen, would like to come to dinner? \n",
            "Hey Leonardo di Vinci, would like to come to dinner? \n",
            "Hey FDR, would like to come to dinner? \n",
            "Hey Zach Bryan, would like to come to dinner? \n",
            "\n",
            "\n",
            "The table will not arrive in time so I only have room for 2 people\n",
            "Sorry FDR, but I do not have room for you anymore. \n",
            "Sorry Adam Sandler, but I do not have room for you anymore. \n",
            "Sorry Michael Jordan, but I do not have room for you anymore. \n",
            "Sorry Kevin James, but I do not have room for you anymore. \n",
            "Sorry Leonardo di Vinci, but I do not have room for you anymore. \n",
            "Here is the list of the 2 people I will be inviting\n",
            "['Josh Allen', 'Zach Bryan']\n",
            "[]\n"
          ]
        }
      ]
    },
    {
      "cell_type": "code",
      "source": [
        "sports = ['golf', 'soccer', 'basketball', 'baseball']\n",
        "print(\"Here is the original list:\")\n",
        "print(sports)\n",
        "print(\"\\nHere is the sorted list:\")\n",
        "sports.sort()\n",
        "print(sports)\n",
        "print(\"\\nHere is the reverse sorted list:\")\n",
        "sports.sort(reverse=True)\n",
        "print(sports)\n"
      ],
      "metadata": {
        "colab": {
          "base_uri": "https://localhost:8080/"
        },
        "id": "nHRzkbC-WPId",
        "outputId": "5935fba2-1d1d-41ca-ee83-fca06b88056d"
      },
      "execution_count": null,
      "outputs": [
        {
          "output_type": "stream",
          "name": "stdout",
          "text": [
            "Here is the original list:\n",
            "['golf', 'soccer', 'basketball', 'baseball']\n",
            "\n",
            "Here is the sorted list:\n",
            "['baseball', 'basketball', 'golf', 'soccer']\n",
            "\n",
            "Here is the reverse sorted list:\n",
            "['soccer', 'golf', 'basketball', 'baseball']\n"
          ]
        }
      ]
    },
    {
      "cell_type": "code",
      "source": [
        "sports = ['golf', 'soccer', 'basketball', 'baseball']\n",
        "print(\"Here is the original list:\")\n",
        "print(sports)\n",
        "print(\"\\nHere is the sorted list:\")\n",
        "print(sorted(sports))\n",
        "print(\"\\nHere is the original list again\")\n",
        "print(sports)\n",
        "\n"
      ],
      "metadata": {
        "colab": {
          "base_uri": "https://localhost:8080/"
        },
        "id": "YqZ43Vn4Xhrv",
        "outputId": "de8a0cdf-39f3-4cb9-efc6-66d40b632500"
      },
      "execution_count": null,
      "outputs": [
        {
          "output_type": "stream",
          "name": "stdout",
          "text": [
            "Here is the original list:\n",
            "['golf', 'soccer', 'basketball', 'baseball']\n",
            "\n",
            "Here is the sorted list:\n",
            "['baseball', 'basketball', 'golf', 'soccer']\n",
            "\n",
            "Here is the original list again\n",
            "['golf', 'soccer', 'basketball', 'baseball']\n"
          ]
        }
      ]
    },
    {
      "cell_type": "code",
      "source": [
        "sports = ['golf', 'soccer', 'basketball', 'baseball']\n",
        "sports.reverse()\n",
        "print(sports)\n",
        "\n",
        "len(sports)"
      ],
      "metadata": {
        "colab": {
          "base_uri": "https://localhost:8080/"
        },
        "id": "5O0k3OpkYHCU",
        "outputId": "dc6a5685-919c-4567-ef06-bea5989df573"
      },
      "execution_count": null,
      "outputs": [
        {
          "output_type": "stream",
          "name": "stdout",
          "text": [
            "['baseball', 'basketball', 'soccer', 'golf']\n"
          ]
        },
        {
          "output_type": "execute_result",
          "data": {
            "text/plain": [
              "4"
            ]
          },
          "metadata": {},
          "execution_count": 7
        }
      ]
    },
    {
      "cell_type": "code",
      "source": [
        "places = ['Sweeden', 'Mount Washington', 'Alaska', 'Montana', 'France']\n",
        "print(places)\n",
        "print(sorted(places))\n",
        "print(places)\n",
        "\n",
        "places.reverse()\n",
        "print(places)\n",
        "places.reverse()\n",
        "print(places)\n",
        "places.sort()\n",
        "print(places)\n",
        "places.sort(reverse=True)\n",
        "print(places)\n"
      ],
      "metadata": {
        "colab": {
          "base_uri": "https://localhost:8080/"
        },
        "id": "iYVZQ_WJYWRg",
        "outputId": "bc72b73b-e8d3-4f10-f38c-ded73825b663"
      },
      "execution_count": null,
      "outputs": [
        {
          "output_type": "stream",
          "name": "stdout",
          "text": [
            "['Sweeden', 'Mount Washington', 'Alaska', 'Montana', 'France']\n",
            "['Alaska', 'France', 'Montana', 'Mount Washington', 'Sweeden']\n",
            "['Sweeden', 'Mount Washington', 'Alaska', 'Montana', 'France']\n",
            "['France', 'Montana', 'Alaska', 'Mount Washington', 'Sweeden']\n",
            "['Sweeden', 'Mount Washington', 'Alaska', 'Montana', 'France']\n",
            "['Alaska', 'France', 'Montana', 'Mount Washington', 'Sweeden']\n",
            "['Sweeden', 'Mount Washington', 'Montana', 'France', 'Alaska']\n"
          ]
        }
      ]
    },
    {
      "cell_type": "code",
      "source": [
        "guests = ['Kevin James', 'Josh Allen', 'JFK', 'Zach Bryan', 'FDR', 'Michael Jordan', 'Leonardo di Vinci']\n",
        "len(guests)"
      ],
      "metadata": {
        "colab": {
          "base_uri": "https://localhost:8080/"
        },
        "id": "BFV1paZ6bz67",
        "outputId": "95ad978e-3c6c-4680-c095-5bd2d65617e0"
      },
      "execution_count": null,
      "outputs": [
        {
          "output_type": "execute_result",
          "data": {
            "text/plain": [
              "7"
            ]
          },
          "metadata": {},
          "execution_count": 21
        }
      ]
    },
    {
      "cell_type": "code",
      "source": [
        "cities = ['Buffalo', 'Cleveland', 'Pittsburgh', 'Toronto', 'Baltimore']\n",
        "print(cities)\n",
        "print(cities[2])\n",
        "print(cities[0])\n",
        "print(cities[3].upper())\n",
        "print(\"I am from \" + cities[0])\n",
        "cities[4] = 'Chicago'\n",
        "print(cities)\n",
        "cities.append('Baltimore')\n",
        "print(cities)\n",
        "cities.insert(2, 'New York City')\n",
        "print(cities)\n",
        "del cities[5]\n",
        "print(cities)\n",
        "popped_city = cities.pop(2)\n",
        "print(cities)\n",
        "print(popped_city)\n",
        "popped_city2 = cities.pop(3)\n",
        "print(\"My favorite city to visit is \" + popped_city2)\n",
        "cities.remove('Baltimore')\n",
        "print(cities)\n",
        "print(sorted(cities))\n",
        "print(cities)\n",
        "cities.sort(reverse=True)\n",
        "print(cities)\n",
        "len(cities)\n",
        "\n",
        "\n"
      ],
      "metadata": {
        "colab": {
          "base_uri": "https://localhost:8080/"
        },
        "id": "xgTl48pGcJgs",
        "outputId": "5ed3b599-2ffe-4cf5-db31-5281f48ac7f0"
      },
      "execution_count": null,
      "outputs": [
        {
          "output_type": "stream",
          "name": "stdout",
          "text": [
            "['Buffalo', 'Cleveland', 'Pittsburgh', 'Toronto', 'Baltimore']\n",
            "Pittsburgh\n",
            "Buffalo\n",
            "TORONTO\n",
            "I am from Buffalo\n",
            "['Buffalo', 'Cleveland', 'Pittsburgh', 'Toronto', 'Chicago']\n",
            "['Buffalo', 'Cleveland', 'Pittsburgh', 'Toronto', 'Chicago', 'Baltimore']\n",
            "['Buffalo', 'Cleveland', 'New York City', 'Pittsburgh', 'Toronto', 'Chicago', 'Baltimore']\n",
            "['Buffalo', 'Cleveland', 'New York City', 'Pittsburgh', 'Toronto', 'Baltimore']\n",
            "['Buffalo', 'Cleveland', 'Pittsburgh', 'Toronto', 'Baltimore']\n",
            "New York City\n",
            "My favorite city to visit is Toronto\n",
            "['Buffalo', 'Cleveland', 'Pittsburgh']\n",
            "['Buffalo', 'Cleveland', 'Pittsburgh']\n",
            "['Buffalo', 'Cleveland', 'Pittsburgh']\n",
            "['Pittsburgh', 'Cleveland', 'Buffalo']\n"
          ]
        },
        {
          "output_type": "execute_result",
          "data": {
            "text/plain": [
              "3"
            ]
          },
          "metadata": {},
          "execution_count": 29
        }
      ]
    },
    {
      "cell_type": "code",
      "source": [
        "x = [40, 50, 120, -8, 6]\n",
        "y = 7.4*(x[0]) + 51\n",
        "print(y)\n",
        "y = 7.4*(x[1]) + 51\n",
        "print(y)\n",
        "y = 7.4*(x[2]) + 51\n",
        "print(y)\n",
        "y = 7.4*(x[-2]) + 51\n",
        "print(y)\n",
        "y = 7.4*(x[4]) + 51\n",
        "print(y)"
      ],
      "metadata": {
        "colab": {
          "base_uri": "https://localhost:8080/"
        },
        "id": "bRifBwnP43Oy",
        "outputId": "eb228880-7c90-4c24-aaa0-679bf7a27723"
      },
      "execution_count": 22,
      "outputs": [
        {
          "output_type": "stream",
          "name": "stdout",
          "text": [
            "347.0\n",
            "421.0\n",
            "939.0\n",
            "-8.200000000000003\n",
            "95.4\n"
          ]
        }
      ]
    },
    {
      "cell_type": "code",
      "source": [
        "x = [9, 10, 11, 12]\n",
        "y = 7*(x[0])\n",
        "print(y)\n",
        "y = 7*(x[1])\n",
        "print(y)\n",
        "y = 7*(x[2])\n",
        "print(y)\n",
        "y = 7*(x[-1])\n",
        "print(y)"
      ],
      "metadata": {
        "colab": {
          "base_uri": "https://localhost:8080/"
        },
        "id": "f1fbuPBj5bsV",
        "outputId": "cf0d8365-1204-4100-f759-6fa7043ac571"
      },
      "execution_count": 15,
      "outputs": [
        {
          "output_type": "stream",
          "name": "stdout",
          "text": [
            "63\n",
            "70\n",
            "77\n",
            "84\n"
          ]
        }
      ]
    }
  ]
}