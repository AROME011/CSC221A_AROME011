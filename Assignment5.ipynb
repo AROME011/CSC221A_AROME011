{
  "nbformat": 4,
  "nbformat_minor": 0,
  "metadata": {
    "colab": {
      "provenance": [],
      "authorship_tag": "ABX9TyNs8yZQ+lNKtIX9WrPyWV+w",
      "include_colab_link": true
    },
    "kernelspec": {
      "name": "python3",
      "display_name": "Python 3"
    },
    "language_info": {
      "name": "python"
    }
  },
  "cells": [
    {
      "cell_type": "markdown",
      "metadata": {
        "id": "view-in-github",
        "colab_type": "text"
      },
      "source": [
        "<a href=\"https://colab.research.google.com/github/AROME011/CSC221A_AROME011/blob/main/Assignment5.ipynb\" target=\"_parent\"><img src=\"https://colab.research.google.com/assets/colab-badge.svg\" alt=\"Open In Colab\"/></a>"
      ]
    },
    {
      "cell_type": "code",
      "execution_count": null,
      "metadata": {
        "id": "jwFWUikr-FQy",
        "colab": {
          "base_uri": "https://localhost:8080/"
        },
        "outputId": "b99bb3e5-a1c9-419f-ff62-9abb52e27002"
      },
      "outputs": [
        {
          "output_type": "stream",
          "name": "stdout",
          "text": [
            "alice\n",
            "david\n",
            "carolina\n"
          ]
        }
      ],
      "source": [
        "magicians = ['alice', 'david', 'carolina']\n",
        "for magician in magicians:\n",
        "  print(magician)\n"
      ]
    },
    {
      "cell_type": "code",
      "source": [
        "magicians = ['alice', 'david', 'carolina']\n",
        "for magician in magicians:\n",
        "  print(f\"{magician.title()}, that was a great trick!\")\n",
        "  print(f\"I can't wait to see your next trick, {magician.title()}\\n\")\n",
        "print(\"That was a great show from you all!\")"
      ],
      "metadata": {
        "colab": {
          "base_uri": "https://localhost:8080/"
        },
        "id": "shHilp2P2LQK",
        "outputId": "6ee76164-6cfa-4109-fd83-6826ffb343dc"
      },
      "execution_count": null,
      "outputs": [
        {
          "output_type": "stream",
          "name": "stdout",
          "text": [
            "Alice, that was a great trick!\n",
            "I can't wait to see your next trick, Alice\n",
            "\n",
            "David, that was a great trick!\n",
            "I can't wait to see your next trick, David\n",
            "\n",
            "Carolina, that was a great trick!\n",
            "I can't wait to see your next trick, Carolina\n",
            "\n",
            "That was a great show from you all!\n"
          ]
        }
      ]
    },
    {
      "cell_type": "code",
      "source": [
        "pizzas = ['cheese', 'pepperoni', 'buffalo chicken']\n",
        "for pizza in pizzas:\n",
        "  print(f\"{pizza} pizza is VERY good\")\n",
        "print(\"\\nPizza in general is one of my favorite snacks\")"
      ],
      "metadata": {
        "colab": {
          "base_uri": "https://localhost:8080/"
        },
        "id": "q7OMr49Q4TxN",
        "outputId": "9c102e53-52d4-4854-c5fc-e72d21368920"
      },
      "execution_count": null,
      "outputs": [
        {
          "output_type": "stream",
          "name": "stdout",
          "text": [
            "cheese pizza is VERY good\n",
            "pepperoni pizza is VERY good\n",
            "buffalo chicken pizza is VERY good\n",
            "\n",
            "Pizza in general is one of my favorite snacks\n"
          ]
        }
      ]
    },
    {
      "cell_type": "code",
      "source": [
        "animals = ['giraffe', 'elephant', 'lion']\n",
        "for animal in animals:\n",
        "  print(f\"{animal}s are from Africa\\n\")\n",
        "print(\"Animals from Africa are very fasinating!\")"
      ],
      "metadata": {
        "colab": {
          "base_uri": "https://localhost:8080/"
        },
        "id": "eVhnXRiY5ibx",
        "outputId": "a2b12564-4c17-4d01-a8f4-70115fd27886"
      },
      "execution_count": null,
      "outputs": [
        {
          "output_type": "stream",
          "name": "stdout",
          "text": [
            "giraffes are from Africa\n",
            "\n",
            "elephants are from Africa\n",
            "\n",
            "lions are from Africa\n",
            "\n",
            "Animals from Africa are very fasinating!\n"
          ]
        }
      ]
    },
    {
      "cell_type": "code",
      "source": [
        "for value in range(1, 6):\n",
        "  print(value)\n",
        "\n"
      ],
      "metadata": {
        "colab": {
          "base_uri": "https://localhost:8080/"
        },
        "id": "93rr2lCUycjp",
        "outputId": "3cdaff23-0261-4623-8942-f9e3f8a7fbf8"
      },
      "execution_count": 2,
      "outputs": [
        {
          "output_type": "stream",
          "name": "stdout",
          "text": [
            "1\n",
            "2\n",
            "3\n",
            "4\n",
            "5\n"
          ]
        }
      ]
    },
    {
      "cell_type": "code",
      "source": [
        "numbers = list(range(1, 6))\n",
        "print(numbers)"
      ],
      "metadata": {
        "colab": {
          "base_uri": "https://localhost:8080/"
        },
        "id": "-R_En5xYzqAJ",
        "outputId": "c0cf2be4-c8c9-4dff-9086-f5a6d42e049d"
      },
      "execution_count": 3,
      "outputs": [
        {
          "output_type": "stream",
          "name": "stdout",
          "text": [
            "[1, 2, 3, 4, 5]\n"
          ]
        }
      ]
    },
    {
      "cell_type": "code",
      "source": [
        "even_numbers = list(range(2, 11, 2))\n",
        "print(even_numbers)"
      ],
      "metadata": {
        "colab": {
          "base_uri": "https://localhost:8080/"
        },
        "id": "qXQ0ZKdu0N4s",
        "outputId": "7e7ccf96-45fb-42e7-b9be-671d6328b344"
      },
      "execution_count": 4,
      "outputs": [
        {
          "output_type": "stream",
          "name": "stdout",
          "text": [
            "[2, 4, 6, 8, 10]\n"
          ]
        }
      ]
    },
    {
      "cell_type": "code",
      "source": [
        "squares = []\n",
        "for value in range(1, 11):\n",
        "  squares.append(value**2)\n",
        "print(squares)"
      ],
      "metadata": {
        "colab": {
          "base_uri": "https://localhost:8080/"
        },
        "id": "MDcgxjf00XFR",
        "outputId": "92ba740d-f511-49ec-8725-771202bc54ec"
      },
      "execution_count": 8,
      "outputs": [
        {
          "output_type": "stream",
          "name": "stdout",
          "text": [
            "[1, 4, 9, 16, 25, 36, 49, 64, 81, 100]\n"
          ]
        }
      ]
    },
    {
      "cell_type": "code",
      "source": [
        "digits = [1, 2, 3, 4, 5, 6, 7, 8, 9, 0]\n",
        "sum(digits)"
      ],
      "metadata": {
        "colab": {
          "base_uri": "https://localhost:8080/"
        },
        "id": "CNg_5ko91wqj",
        "outputId": "e9b6b8f0-81c9-4b5e-d616-09cfb56415d0"
      },
      "execution_count": 11,
      "outputs": [
        {
          "output_type": "execute_result",
          "data": {
            "text/plain": [
              "45"
            ]
          },
          "metadata": {},
          "execution_count": 11
        }
      ]
    },
    {
      "cell_type": "code",
      "source": [
        "squares = [value**2 for value in range(1, 11)]\n",
        "print(squares)"
      ],
      "metadata": {
        "colab": {
          "base_uri": "https://localhost:8080/"
        },
        "id": "H0SMT7Qz1c47",
        "outputId": "40bea3f7-f4a9-4255-9bba-143860e98f13"
      },
      "execution_count": 13,
      "outputs": [
        {
          "output_type": "stream",
          "name": "stdout",
          "text": [
            "[1, 4, 9, 16, 25, 36, 49, 64, 81, 100]\n"
          ]
        }
      ]
    },
    {
      "cell_type": "code",
      "source": [
        "for value in range(1, 21):\n",
        "  print(value)"
      ],
      "metadata": {
        "colab": {
          "base_uri": "https://localhost:8080/"
        },
        "id": "SL4cY9nn2pwG",
        "outputId": "88ddc905-22c9-4739-cb2e-17b79149602e"
      },
      "execution_count": 14,
      "outputs": [
        {
          "output_type": "stream",
          "name": "stdout",
          "text": [
            "1\n",
            "2\n",
            "3\n",
            "4\n",
            "5\n",
            "6\n",
            "7\n",
            "8\n",
            "9\n",
            "10\n",
            "11\n",
            "12\n",
            "13\n",
            "14\n",
            "15\n",
            "16\n",
            "17\n",
            "18\n",
            "19\n",
            "20\n"
          ]
        }
      ]
    },
    {
      "cell_type": "code",
      "source": [
        "for value in range(1, 1000001):\n",
        "  print(value)"
      ],
      "metadata": {
        "id": "jCR9_Erm2yZD"
      },
      "execution_count": null,
      "outputs": []
    },
    {
      "cell_type": "code",
      "source": [
        "million = range(1, 1000001)\n",
        "max(million)"
      ],
      "metadata": {
        "colab": {
          "base_uri": "https://localhost:8080/"
        },
        "id": "K7BLxMZP3HVD",
        "outputId": "cb5cd3f5-c8bd-4e89-8bb6-c072b9afbae4"
      },
      "execution_count": 17,
      "outputs": [
        {
          "output_type": "execute_result",
          "data": {
            "text/plain": [
              "1000000"
            ]
          },
          "metadata": {},
          "execution_count": 17
        }
      ]
    },
    {
      "cell_type": "code",
      "source": [
        "million = range(1, 1000001)\n",
        "min(million)"
      ],
      "metadata": {
        "colab": {
          "base_uri": "https://localhost:8080/"
        },
        "id": "esJmRKcs4BsO",
        "outputId": "2a72fde1-78ec-44b7-ac09-dc13ad3dc449"
      },
      "execution_count": 18,
      "outputs": [
        {
          "output_type": "execute_result",
          "data": {
            "text/plain": [
              "1"
            ]
          },
          "metadata": {},
          "execution_count": 18
        }
      ]
    },
    {
      "cell_type": "code",
      "source": [
        "million = range(1, 1000001)\n",
        "sum(million)"
      ],
      "metadata": {
        "colab": {
          "base_uri": "https://localhost:8080/"
        },
        "id": "WRkZbHoT4H5_",
        "outputId": "428b063c-8228-4c5f-c272-009cd18211a6"
      },
      "execution_count": 19,
      "outputs": [
        {
          "output_type": "execute_result",
          "data": {
            "text/plain": [
              "500000500000"
            ]
          },
          "metadata": {},
          "execution_count": 19
        }
      ]
    },
    {
      "cell_type": "code",
      "source": [
        "for value in range(1, 21, 2):\n",
        "  print(value)"
      ],
      "metadata": {
        "colab": {
          "base_uri": "https://localhost:8080/"
        },
        "id": "By_iDMDW4ZFP",
        "outputId": "fc6cd424-7cf4-49a1-d7cc-1c27184d3c08"
      },
      "execution_count": 29,
      "outputs": [
        {
          "output_type": "stream",
          "name": "stdout",
          "text": [
            "1\n",
            "3\n",
            "5\n",
            "7\n",
            "9\n",
            "11\n",
            "13\n",
            "15\n",
            "17\n",
            "19\n"
          ]
        }
      ]
    },
    {
      "cell_type": "code",
      "source": [
        "for value in range (0, 31, 3):\n",
        "  print(value)"
      ],
      "metadata": {
        "colab": {
          "base_uri": "https://localhost:8080/"
        },
        "id": "R2HrnYGG6sYd",
        "outputId": "a64e972e-8cf4-444c-dff5-14a228a638ef"
      },
      "execution_count": 31,
      "outputs": [
        {
          "output_type": "stream",
          "name": "stdout",
          "text": [
            "0\n",
            "3\n",
            "6\n",
            "9\n",
            "12\n",
            "15\n",
            "18\n",
            "21\n",
            "24\n",
            "27\n",
            "30\n"
          ]
        }
      ]
    },
    {
      "cell_type": "code",
      "source": [
        "cubes = []\n",
        "for value in range(1,11):\n",
        "  cubes.append(value**3)\n",
        "print(cubes)"
      ],
      "metadata": {
        "colab": {
          "base_uri": "https://localhost:8080/"
        },
        "id": "VQHTScxu7NfL",
        "outputId": "345e6129-698d-4577-83b4-e80e52761f99"
      },
      "execution_count": 32,
      "outputs": [
        {
          "output_type": "stream",
          "name": "stdout",
          "text": [
            "[1, 8, 27, 64, 125, 216, 343, 512, 729, 1000]\n"
          ]
        }
      ]
    },
    {
      "cell_type": "code",
      "source": [
        "players = ['charles', 'martina', 'michael', 'florence', 'eli']\n",
        "print(players[0:3])\n",
        "print(players[:4])\n",
        "print(players[2:])\n",
        "print(players[-3:])"
      ],
      "metadata": {
        "colab": {
          "base_uri": "https://localhost:8080/"
        },
        "id": "dCNjTMkS7yvg",
        "outputId": "c8216b1d-7290-4736-a1cb-ce24fb66cbe2"
      },
      "execution_count": 37,
      "outputs": [
        {
          "output_type": "stream",
          "name": "stdout",
          "text": [
            "['charles', 'martina', 'michael']\n",
            "['charles', 'martina', 'michael', 'florence']\n",
            "['michael', 'florence', 'eli']\n",
            "['michael', 'florence', 'eli']\n"
          ]
        }
      ]
    },
    {
      "cell_type": "code",
      "source": [
        "players = ['charles', 'martina', 'michael', 'florence', 'eli']\n",
        "print(\"Here are the best three players on my team\")\n",
        "for player in players[:3]:\n",
        "  print(player.title())"
      ],
      "metadata": {
        "colab": {
          "base_uri": "https://localhost:8080/"
        },
        "id": "eHHJAAl49gsb",
        "outputId": "a45cfe59-0565-482a-9762-6bc77c0b0930"
      },
      "execution_count": 38,
      "outputs": [
        {
          "output_type": "stream",
          "name": "stdout",
          "text": [
            "Here are the best three players on my team\n",
            "Charles\n",
            "Martina\n",
            "Michael\n"
          ]
        }
      ]
    },
    {
      "cell_type": "code",
      "source": [
        "my_foods = ['pizza', 'falafel', 'carrot cake']\n",
        "friend_foods = my_foods[:]\n",
        "my_foods.append('cannoli')\n",
        "friend_foods.append('ice cream')\n",
        "print(\"My favorite foods are:\")\n",
        "print(my_foods)\n",
        "print(\"\\nMy friend's favorite foods are:\")\n",
        "print(friend_foods)\n",
        "print(\"\\nMy list of favorite foods:\")\n",
        "for myfood in my_foods:\n",
        "  print(myfood)\n",
        "print(\"\\nMy friends list of favorite foods:\")\n",
        "for friendfood in friend_foods:\n",
        "  print(friendfood)\n"
      ],
      "metadata": {
        "colab": {
          "base_uri": "https://localhost:8080/"
        },
        "id": "zjiXMsXY95pB",
        "outputId": "6b6074f5-655c-4ba7-dfe3-ec52e78ca187"
      },
      "execution_count": 52,
      "outputs": [
        {
          "output_type": "stream",
          "name": "stdout",
          "text": [
            "My favorite foods are:\n",
            "['pizza', 'falafel', 'carrot cake', 'cannoli']\n",
            "\n",
            "My friend's favorite foods are:\n",
            "['pizza', 'falafel', 'carrot cake', 'ice cream']\n",
            "\n",
            "My list of favorite foods:\n",
            "pizza\n",
            "falafel\n",
            "carrot cake\n",
            "cannoli\n",
            "\n",
            "My friends list of favorite foods:\n",
            "pizza\n",
            "falafel\n",
            "carrot cake\n",
            "ice cream\n"
          ]
        }
      ]
    },
    {
      "cell_type": "code",
      "source": [
        "colors = ['green', 'blue', 'yellow', 'red', 'orange']\n",
        "print(\"The first three items in the list are:\")\n",
        "print(colors[:3])\n",
        "print(\"The middle 3 items of the list are:\")\n",
        "print(colors[1:4])\n",
        "print(\"The last 3 items of the list are\")\n",
        "print(colors[2:])"
      ],
      "metadata": {
        "colab": {
          "base_uri": "https://localhost:8080/"
        },
        "id": "FuekSViU_V_R",
        "outputId": "6ac0894c-a895-4816-d8f5-a10ed7499f8d"
      },
      "execution_count": 46,
      "outputs": [
        {
          "output_type": "stream",
          "name": "stdout",
          "text": [
            "The first three items in the list are:\n",
            "['green', 'blue', 'yellow']\n",
            "The middle 3 items of the list are:\n",
            "['blue', 'yellow', 'red']\n",
            "The last 3 items of the list are\n",
            "['yellow', 'red', 'orange']\n"
          ]
        }
      ]
    },
    {
      "cell_type": "code",
      "source": [
        "mypizzas = ['cheese', 'pepperoni', 'buffalo chicken']\n",
        "friendpizzas = mypizzas[:]\n",
        "friendpizzas.append('mushroom')\n",
        "mypizzas.append('chicken finger')\n",
        "print(\"My favorite pizzas are:\")\n",
        "for pizza in mypizzas:\n",
        "  print(pizza)\n",
        "print(\"\\nMy friends favorite pizzas are:\")\n",
        "for pizzas in friendpizzas:\n",
        "  print(pizzas)"
      ],
      "metadata": {
        "colab": {
          "base_uri": "https://localhost:8080/"
        },
        "id": "gCSGCNm-AcSY",
        "outputId": "4948e0b2-8266-4884-bb17-c32921d1050c"
      },
      "execution_count": 50,
      "outputs": [
        {
          "output_type": "stream",
          "name": "stdout",
          "text": [
            "My favorite pizzas are:\n",
            "cheese\n",
            "pepperoni\n",
            "buffalo chicken\n",
            "chicken finger\n",
            "\n",
            "My friends favorite pizzas are:\n",
            "cheese\n",
            "pepperoni\n",
            "buffalo chicken\n",
            "mushroom\n"
          ]
        }
      ]
    },
    {
      "cell_type": "code",
      "source": [
        "tuple = [3, 2, 1]\n",
        "print(tuple[1])"
      ],
      "metadata": {
        "colab": {
          "base_uri": "https://localhost:8080/"
        },
        "id": "BC3HhyAKCk90",
        "outputId": "a547eb35-8ef7-4d2c-a2d0-f9482a00de74"
      },
      "execution_count": 55,
      "outputs": [
        {
          "output_type": "stream",
          "name": "stdout",
          "text": [
            "2\n"
          ]
        }
      ]
    },
    {
      "cell_type": "code",
      "source": [
        "buffet = ['salad', 'mac and cheese', 'chicken nuggets', 'eggs', 'pulled pork']\n",
        "print(\"The old menu:\")\n",
        "for food in buffet:\n",
        "  print(food)\n",
        "buffet = ['salad', 'tacos', 'pineapple', 'eggs', 'ground beef']\n",
        "print(\"\\nThe new menu:\")\n",
        "for foods in buffet:\n",
        "  print(foods)"
      ],
      "metadata": {
        "colab": {
          "base_uri": "https://localhost:8080/"
        },
        "id": "DjJY-zZSEE7i",
        "outputId": "ecdd6c37-207c-489d-e627-b5e4db305762"
      },
      "execution_count": 58,
      "outputs": [
        {
          "output_type": "stream",
          "name": "stdout",
          "text": [
            "The old menu:\n",
            "salad\n",
            "mac and cheese\n",
            "chicken nuggets\n",
            "eggs\n",
            "pulled pork\n",
            "\n",
            "The new menu:\n",
            "salad\n",
            "tacos\n",
            "pineapple\n",
            "eggs\n",
            "ground beef\n"
          ]
        }
      ]
    },
    {
      "cell_type": "code",
      "source": [
        "import math\n",
        "math.factorial(n)"
      ],
      "metadata": {
        "colab": {
          "base_uri": "https://localhost:8080/",
          "height": 193
        },
        "id": "4PJ-DHFrFfiQ",
        "outputId": "208421fd-681a-42ea-cc9d-5f9b77a371d4"
      },
      "execution_count": 65,
      "outputs": [
        {
          "output_type": "error",
          "ename": "NameError",
          "evalue": "ignored",
          "traceback": [
            "\u001b[0;31m---------------------------------------------------------------------------\u001b[0m",
            "\u001b[0;31mNameError\u001b[0m                                 Traceback (most recent call last)",
            "\u001b[0;32m<ipython-input-65-37e138b2a4a4>\u001b[0m in \u001b[0;36m<cell line: 2>\u001b[0;34m()\u001b[0m\n\u001b[1;32m      1\u001b[0m \u001b[0;32mimport\u001b[0m \u001b[0mmath\u001b[0m\u001b[0;34m\u001b[0m\u001b[0;34m\u001b[0m\u001b[0m\n\u001b[0;32m----> 2\u001b[0;31m \u001b[0mmath\u001b[0m\u001b[0;34m.\u001b[0m\u001b[0mfactorial\u001b[0m\u001b[0;34m(\u001b[0m\u001b[0mn\u001b[0m\u001b[0;34m)\u001b[0m\u001b[0;34m\u001b[0m\u001b[0;34m\u001b[0m\u001b[0m\n\u001b[0m",
            "\u001b[0;31mNameError\u001b[0m: name 'n' is not defined"
          ]
        }
      ]
    }
  ]
}