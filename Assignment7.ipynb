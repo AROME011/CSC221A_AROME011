{
  "nbformat": 4,
  "nbformat_minor": 0,
  "metadata": {
    "colab": {
      "provenance": [],
      "authorship_tag": "ABX9TyN8bX1KnPxUUNvXsBRSW1nY",
      "include_colab_link": true
    },
    "kernelspec": {
      "name": "python3",
      "display_name": "Python 3"
    },
    "language_info": {
      "name": "python"
    }
  },
  "cells": [
    {
      "cell_type": "markdown",
      "metadata": {
        "id": "view-in-github",
        "colab_type": "text"
      },
      "source": [
        "<a href=\"https://colab.research.google.com/github/AROME011/CSC221A_AROME011/blob/main/Assignment7.ipynb\" target=\"_parent\"><img src=\"https://colab.research.google.com/assets/colab-badge.svg\" alt=\"Open In Colab\"/></a>"
      ]
    },
    {
      "cell_type": "code",
      "execution_count": 2,
      "metadata": {
        "colab": {
          "base_uri": "https://localhost:8080/"
        },
        "id": "5EPA7pTpyd3Z",
        "outputId": "0b72edfe-d707-4f29-acfd-9852256cacd4"
      },
      "outputs": [
        {
          "output_type": "stream",
          "name": "stdout",
          "text": [
            "green\n",
            "5\n"
          ]
        }
      ],
      "source": [
        "alien_0 = { 'color': 'green', 'points': 5}\n",
        "print(alien_0['color'])\n",
        "print(alien_0['points'])"
      ]
    },
    {
      "cell_type": "code",
      "source": [
        "alien_0 = { 'color': 'green', 'points': 5}\n",
        "new_points = alien_0['points']\n",
        "print(f\"You just earned {new_points} points!\")"
      ],
      "metadata": {
        "colab": {
          "base_uri": "https://localhost:8080/"
        },
        "id": "bo2HieYvy-hV",
        "outputId": "1c9e6c0f-00dc-45e2-a33d-2c4c647514ad"
      },
      "execution_count": 3,
      "outputs": [
        {
          "output_type": "stream",
          "name": "stdout",
          "text": [
            "You just earned 5 points!\n"
          ]
        }
      ]
    },
    {
      "cell_type": "code",
      "source": [
        "alien_0 = { 'color': 'green', 'points': 5}\n",
        "print(alien_0)\n",
        "alien_0['x_position'] = 0\n",
        "alien_0['y_position'] = 25\n",
        "print(alien_0)"
      ],
      "metadata": {
        "colab": {
          "base_uri": "https://localhost:8080/"
        },
        "id": "yMif_jslzRjc",
        "outputId": "3ac12bb3-7727-41fe-be1b-e577bcf00cac"
      },
      "execution_count": 4,
      "outputs": [
        {
          "output_type": "stream",
          "name": "stdout",
          "text": [
            "{'color': 'green', 'points': 5}\n",
            "{'color': 'green', 'points': 5, 'x_position': 0, 'y_position': 25}\n"
          ]
        }
      ]
    },
    {
      "cell_type": "code",
      "source": [
        "alien_0 = {}\n",
        "alien_0['color'] = 'green'\n",
        "alien_0['points'] = 5\n",
        "print(alien_0)\n",
        "print(f\"The alien is {alien_0['color']}\")\n",
        "alien_0['color'] = 'yellow'\n",
        "print(f\"The alien is {alien_0['color']}\")"
      ],
      "metadata": {
        "colab": {
          "base_uri": "https://localhost:8080/"
        },
        "id": "b-ZPscJjz2mN",
        "outputId": "2ea4cf52-0a0d-48fb-a8ce-536d80999ec0"
      },
      "execution_count": 8,
      "outputs": [
        {
          "output_type": "stream",
          "name": "stdout",
          "text": [
            "{'color': 'green', 'points': 5}\n",
            "The alien is green\n",
            "The alien is yellow\n"
          ]
        }
      ]
    },
    {
      "cell_type": "code",
      "source": [
        "alien_0 = {'x_position': 0, 'y_position': 25, 'speed': 'fast'}\n",
        "print(f\"Original position: {alien_0['x_position']}\")\n",
        "if alien_0['speed'] == 'slow':\n",
        "  x_increment = 1\n",
        "if alien_0['speed'] == 'medium':\n",
        "  x_increment = 2\n",
        "if alien_0['speed'] == 'fast':\n",
        "  x_increment = 3\n",
        "alien_0['x_position'] = alien_0['x_position'] + x_increment\n",
        "print(f\"New position: {alien_0['x_position']}\")"
      ],
      "metadata": {
        "colab": {
          "base_uri": "https://localhost:8080/"
        },
        "id": "c6R0SnxG0t3P",
        "outputId": "65e8695c-99fa-4072-aef0-028c3118b321"
      },
      "execution_count": 13,
      "outputs": [
        {
          "output_type": "stream",
          "name": "stdout",
          "text": [
            "Original position: 0\n",
            "New position: 3\n"
          ]
        }
      ]
    },
    {
      "cell_type": "code",
      "source": [
        "alien_0 = { 'color': 'green', 'points': 5}\n",
        "print(alien_0)\n",
        "del alien_0['points']\n",
        "print(alien_0)"
      ],
      "metadata": {
        "colab": {
          "base_uri": "https://localhost:8080/"
        },
        "id": "YNtOHwvK3NFp",
        "outputId": "cbb16807-4134-4b43-965c-5d9d46cf4ad2"
      },
      "execution_count": 14,
      "outputs": [
        {
          "output_type": "stream",
          "name": "stdout",
          "text": [
            "{'color': 'green', 'points': 5}\n",
            "{'color': 'green'}\n"
          ]
        }
      ]
    },
    {
      "cell_type": "code",
      "source": [
        "favorite_languages = {\n",
        "    'jen': 'python',\n",
        "    'sarah': 'c',\n",
        "    'edward': 'rust',\n",
        "    'phil': 'python',\n",
        "}\n",
        "language = favorite_languages['sarah'].title()\n",
        "print(f\"Sarah's favorite language is {language}\")"
      ],
      "metadata": {
        "colab": {
          "base_uri": "https://localhost:8080/"
        },
        "id": "GE1fdgoi3b96",
        "outputId": "58039e12-2c84-4747-ac43-6a0f84e08fd3"
      },
      "execution_count": 19,
      "outputs": [
        {
          "output_type": "stream",
          "name": "stdout",
          "text": [
            "Sarah's favorite language is C\n"
          ]
        }
      ]
    },
    {
      "cell_type": "code",
      "source": [
        "alien_0 = { 'color': 'green', 'speed': 'slow'}\n",
        "point_value = alien_0.get('points', 'No point value assigned.')\n",
        "print(point_value)"
      ],
      "metadata": {
        "colab": {
          "base_uri": "https://localhost:8080/"
        },
        "id": "yW4gahf-6_MV",
        "outputId": "90bc29d3-ac1c-4d82-8877-f7f25ce5b069"
      },
      "execution_count": 20,
      "outputs": [
        {
          "output_type": "stream",
          "name": "stdout",
          "text": [
            "No point value assigned.\n"
          ]
        }
      ]
    },
    {
      "cell_type": "code",
      "source": [
        "friend = {\n",
        "    'first_name': 'dawson',\n",
        "    'last_name': 'stone',\n",
        "    'city': 'akron',\n",
        "    'brother': 'everett',\n",
        "}\n",
        "print(f\"{friend['first_name'].title()} {friend['last_name'].title()} lives in {friend['city'].title()} with his brother {friend['brother'].title()}\")"
      ],
      "metadata": {
        "colab": {
          "base_uri": "https://localhost:8080/"
        },
        "id": "FtK4FC5bNy82",
        "outputId": "618571b2-192a-44b1-f273-09f57cf53d15"
      },
      "execution_count": 1,
      "outputs": [
        {
          "output_type": "stream",
          "name": "stdout",
          "text": [
            "Dawson Stone lives in Akron with his brother Everett\n"
          ]
        }
      ]
    },
    {
      "cell_type": "code",
      "source": [
        "numbers = {\n",
        "    'drew': 24,\n",
        "    'dawson': 9,\n",
        "    'aiden': 1,\n",
        "    'jeff': 8,\n",
        "    'steven': 5,\n",
        "}\n",
        "print(f\"Drew's favorite number is {numbers['drew']}\")\n",
        "print(f\"Dawson's favorite number is {numbers['dawson']}\")\n",
        "print(f\"Aiden's favorite number is {numbers['aiden']}\")\n",
        "print(f\"Jeff's favorite number is {numbers['jeff']}\")\n",
        "print(f\"Steven's favorite number is {numbers['steven']}\")"
      ],
      "metadata": {
        "colab": {
          "base_uri": "https://localhost:8080/"
        },
        "id": "GE61O5b0PxuG",
        "outputId": "c956ef1a-5347-4d75-fb36-98d5efbff442"
      },
      "execution_count": 4,
      "outputs": [
        {
          "output_type": "stream",
          "name": "stdout",
          "text": [
            "Drew's favorite number is 24\n",
            "Dawson's favorite number is 9\n",
            "Aiden's favorite number is 1\n",
            "Jeff's favorite number is 8\n",
            "Steven's favorite number is 5\n"
          ]
        }
      ]
    },
    {
      "cell_type": "code",
      "source": [
        "commands = {\n",
        "    'print': 'types out what you put in the parameters',\n",
        "    'if': 'if a statement is true, a command runs',\n",
        "    'else': 'if a statement is false, a command runs',\n",
        "    'elif': 'a second to the if statement',\n",
        "    '==': 'checks if 2 values are equal to each other',\n",
        "}\n",
        "print(f\"Here are 5 python commands and what they do\")\n",
        "for command, does in commands.items():\n",
        "  print(f\"\\n{command}: {does}\")"
      ],
      "metadata": {
        "colab": {
          "base_uri": "https://localhost:8080/"
        },
        "id": "q9VndPIzSOGi",
        "outputId": "a77874f1-b526-4756-ec39-bded91d78354"
      },
      "execution_count": 38,
      "outputs": [
        {
          "output_type": "stream",
          "name": "stdout",
          "text": [
            "Here are 5 python commands and what they do\n",
            "\n",
            "print: types out what you put in the parameters\n",
            "\n",
            "if: if a statement is true, a command runs\n",
            "\n",
            "else: if a statement is false, a command runs\n",
            "\n",
            "elif: a second to the if statement\n",
            "\n",
            "==: checks if 2 values are equal to each other\n"
          ]
        }
      ]
    },
    {
      "cell_type": "code",
      "source": [
        "user_0 = {\n",
        "    'username': 'efermi',\n",
        "    'first': 'enrico',\n",
        "    'last': 'fermi',\n",
        "}\n",
        "for key, value in user_0.items():\n",
        "  print(f\"\\nKey: {key}\")\n",
        "  print(f\"\\nValue: {value}\")"
      ],
      "metadata": {
        "colab": {
          "base_uri": "https://localhost:8080/"
        },
        "id": "8hlgGPM6UpbY",
        "outputId": "ef8a1ef1-1a21-49f3-d9bb-ca8d98700d96"
      },
      "execution_count": 10,
      "outputs": [
        {
          "output_type": "stream",
          "name": "stdout",
          "text": [
            "\n",
            "Key: username\n",
            "\n",
            "Value: efermi\n",
            "\n",
            "Key: first\n",
            "\n",
            "Value: enrico\n",
            "\n",
            "Key: last\n",
            "\n",
            "Value: fermi\n"
          ]
        }
      ]
    },
    {
      "cell_type": "code",
      "source": [
        "favorite_languages = {\n",
        "    'jen': 'python',\n",
        "    'sarah': 'c',\n",
        "    'edward': 'rust',\n",
        "    'phil': 'python',\n",
        "}\n",
        "for name, language in favorite_languages.items():\n",
        "  print(f\"{name.title()}'s favorite language is {language.title()}.\")"
      ],
      "metadata": {
        "colab": {
          "base_uri": "https://localhost:8080/"
        },
        "id": "eLpNjk4PVpig",
        "outputId": "255feec0-640d-4a9a-bac5-10cfd9f01a9b"
      },
      "execution_count": 12,
      "outputs": [
        {
          "output_type": "stream",
          "name": "stdout",
          "text": [
            "Jen's favorite language is Python.\n",
            "Sarah's favorite language is C.\n",
            "Edward's favorite language is Rust.\n",
            "Phil's favorite language is Python.\n"
          ]
        }
      ]
    },
    {
      "cell_type": "code",
      "source": [
        "favorite_languages = {\n",
        "    'jen': 'python',\n",
        "    'sarah': 'c',\n",
        "    'edward': 'rust',\n",
        "    'phil': 'python',\n",
        "}\n",
        "friends = ['sarah', 'phil']\n",
        "for name in favorite_languages.keys():\n",
        "  print(f\"Hi {name.title()}\")\n",
        "  if name in friends:\n",
        "    language = favorite_languages[name].title()\n",
        "    print(f\"\\t{name.title()}, I see you love {language}!\")\n",
        "if 'erin' not in favorite_languages.keys():\n",
        "  print(\"\\nErin, please take our poll!\")\n",
        "for name in sorted(favorite_languages.keys()):\n",
        "  print(f\"\\n{name.title()}, thank you for taking the poll!\")\n",
        "\n"
      ],
      "metadata": {
        "colab": {
          "base_uri": "https://localhost:8080/"
        },
        "id": "2W12gbilWSSA",
        "outputId": "20f058cb-8586-4615-c2e5-26492e81cb5f"
      },
      "execution_count": 39,
      "outputs": [
        {
          "output_type": "stream",
          "name": "stdout",
          "text": [
            "Hi Jen\n",
            "Hi Sarah\n",
            "\tSarah, I see you love C!\n",
            "Hi Edward\n",
            "Hi Phil\n",
            "\tPhil, I see you love Python!\n",
            "\n",
            "Erin, please take our poll!\n",
            "\n",
            "Edward, thank you for taking the poll!\n",
            "\n",
            "Jen, thank you for taking the poll!\n",
            "\n",
            "Phil, thank you for taking the poll!\n",
            "\n",
            "Sarah, thank you for taking the poll!\n"
          ]
        }
      ]
    },
    {
      "cell_type": "code",
      "source": [
        "favorite_languages = {\n",
        "    'jen': 'python',\n",
        "    'sarah': 'c',\n",
        "    'edward': 'rust',\n",
        "    'phil': 'python',\n",
        "}\n",
        "print(\"The following languages have been mentioned:\")\n",
        "for language in set(favorite_languages.values()):\n",
        "  print(language.title())\n",
        "\n"
      ],
      "metadata": {
        "colab": {
          "base_uri": "https://localhost:8080/"
        },
        "id": "8-bp8YlZbeP2",
        "outputId": "66ca1330-47b5-4a80-d949-09a4de91c25c"
      },
      "execution_count": 36,
      "outputs": [
        {
          "output_type": "stream",
          "name": "stdout",
          "text": [
            "The following languages have been mentioned:\n",
            "Python\n",
            "C\n",
            "Rust\n"
          ]
        }
      ]
    },
    {
      "cell_type": "code",
      "source": [
        "alien_0 = {'color': 'green', 'points': 5}\n",
        "alien_1 = {'color': 'yellow', 'points': 10}\n",
        "alien_2 = {'color': 'red', 'points': 15}\n",
        "aliens = [alien_0, alien_1, alien_2]\n",
        "for alien in aliens:\n",
        "  print(alien)"
      ],
      "metadata": {
        "colab": {
          "base_uri": "https://localhost:8080/"
        },
        "id": "LXxu-z2bePAK",
        "outputId": "adf238b9-7ce0-4ff0-a34e-0163f21dffca"
      },
      "execution_count": 40,
      "outputs": [
        {
          "output_type": "stream",
          "name": "stdout",
          "text": [
            "{'color': 'green', 'points': 5}\n",
            "{'color': 'yellow', 'points': 10}\n",
            "{'color': 'red', 'points': 15}\n"
          ]
        }
      ]
    },
    {
      "cell_type": "code",
      "source": [
        "aliens = []\n",
        "for alien_number in range(30):\n",
        "  new_alien = {'color': 'green', 'points': 5, 'speed': 'slow'}\n",
        "  aliens.append(new_alien)\n",
        "for alien in aliens[0:3]:\n",
        "  if alien['color'] == 'green':\n",
        "    alien['color'] = 'yellow'\n",
        "    alien['speed'] = 'medium'\n",
        "    alien['points'] = 10\n",
        "  elif alien['color'] == 'yellow':\n",
        "    alien['color'] = 'red'\n",
        "    alien['speed'] = 'fast'\n",
        "    alien['points'] = 15\n",
        "\n",
        "for alien in aliens[:5]:\n",
        "  print(alien)\n",
        "print(\"...\")\n",
        "print(f\"Total number of aliens: {len(aliens)}\")"
      ],
      "metadata": {
        "colab": {
          "base_uri": "https://localhost:8080/"
        },
        "id": "PWXSA4g7e8Wb",
        "outputId": "e6873dab-bdb9-40b7-c406-40bdc590f062"
      },
      "execution_count": 44,
      "outputs": [
        {
          "output_type": "stream",
          "name": "stdout",
          "text": [
            "{'color': 'yellow', 'points': 10, 'speed': 'medium'}\n",
            "{'color': 'yellow', 'points': 10, 'speed': 'medium'}\n",
            "{'color': 'yellow', 'points': 10, 'speed': 'medium'}\n",
            "{'color': 'green', 'points': 5, 'speed': 'slow'}\n",
            "{'color': 'green', 'points': 5, 'speed': 'slow'}\n",
            "...\n",
            "Total number of aliens: 30\n"
          ]
        }
      ]
    },
    {
      "cell_type": "code",
      "source": [
        "pizza = {\n",
        "    'crust': 'thick',\n",
        "    'toppings': ['mushrooms', 'extra cheese'],\n",
        "}\n",
        "print(f\"You ordered a {pizza['crust']}-crust pizza\"\n",
        "      \"with the following toppings:\")\n",
        "for topping in pizza['toppings']:\n",
        "  print(f\"\\t{topping}\")"
      ],
      "metadata": {
        "colab": {
          "base_uri": "https://localhost:8080/"
        },
        "id": "gZJ3o7aOhUdU",
        "outputId": "640c3a65-aa9b-490a-f15c-293060e7b8ac"
      },
      "execution_count": 45,
      "outputs": [
        {
          "output_type": "stream",
          "name": "stdout",
          "text": [
            "You ordered a thick-crust pizzawith the following toppings:\n",
            "\tmushrooms\n",
            "\textra cheese\n"
          ]
        }
      ]
    },
    {
      "cell_type": "code",
      "source": [
        "favorite_languages = {\n",
        "    'jen': ['python', 'rust'],\n",
        "    'sarah': ['c'],\n",
        "    'edward': ['rust', 'go'],\n",
        "    'phil': ['python', 'haskell'],\n",
        "}\n",
        "for name, languages in favorite_languages.items():\n",
        "  print(f\"\\n{name.title()}'s favorite languages are:\")\n",
        "  for language in languages:\n",
        "    print(f\"\\t{language.title()}\")"
      ],
      "metadata": {
        "colab": {
          "base_uri": "https://localhost:8080/"
        },
        "id": "k8wxVNaaiUcn",
        "outputId": "cdcd8d17-1dac-41f3-a64e-41bfd4577e22"
      },
      "execution_count": 47,
      "outputs": [
        {
          "output_type": "stream",
          "name": "stdout",
          "text": [
            "\n",
            "Jen's favorite languages are:\n",
            "\tPython\n",
            "\tRust\n",
            "\n",
            "Sarah's favorite languages are:\n",
            "\tC\n",
            "\n",
            "Edward's favorite languages are:\n",
            "\tRust\n",
            "\tGo\n",
            "\n",
            "Phil's favorite languages are:\n",
            "\tPython\n",
            "\tHaskell\n"
          ]
        }
      ]
    },
    {
      "cell_type": "code",
      "source": [
        "users = {\n",
        "    'aeinstein': {\n",
        "        'first': 'albert',\n",
        "        'last': 'einstein',\n",
        "        'location': 'princeton',\n",
        "    },\n",
        "  'mcurie': {\n",
        "      'first': 'marie',\n",
        "      'last': 'curie',\n",
        "      'location': 'paris',\n",
        "    }\n",
        "}\n",
        "for username, user_info in users.items():\n",
        "  print(f\"\\nUsername: {username}\")\n",
        "  full_name = f\"{user_info['first']} {user_info['last']}\"\n",
        "  location = user_info['location']\n",
        "\n",
        "  print(f\"\\tFull name: {full_name.title()}\")\n",
        "  print(f\"\\tLocation: {location.title()}\")"
      ],
      "metadata": {
        "colab": {
          "base_uri": "https://localhost:8080/"
        },
        "id": "1NNtLEwGjQ6l",
        "outputId": "d001b355-6c25-4781-c972-6e423955a6dd"
      },
      "execution_count": 52,
      "outputs": [
        {
          "output_type": "stream",
          "name": "stdout",
          "text": [
            "\n",
            "Username: aeinstein\n",
            "\tFull name: Albert Einstein\n",
            "\tLocation: Princeton\n",
            "\n",
            "Username: mcurie\n",
            "\tFull name: Marie Curie\n",
            "\tLocation: Paris\n"
          ]
        }
      ]
    },
    {
      "cell_type": "code",
      "source": [
        "cities = {\n",
        "    'buffalo': {\n",
        "        'country': 'USA',\n",
        "        'population': '250 thousand',\n",
        "        'fact': 'Home of the Bills',\n",
        "    },\n",
        "    'Montreal': {\n",
        "        'country': 'Canada',\n",
        "        'population': '1.75 million',\n",
        "        'fact': 'Closest major Canadian city to US border',\n",
        "    },\n",
        "    'Stockholm': {\n",
        "        'country': 'Sweeden',\n",
        "        'population': '1 million',\n",
        "        'fact': 'Largest city in Sweden',\n",
        "    },\n",
        "}\n",
        "for city, info in cities.items():\n",
        "  print(f\"\\nCity: {city.title()}\")\n",
        "  print(f\"{city.title()} is in {info['country']}\")\n",
        "  print(f\"It has about {info['population']} people\")\n",
        "  print(f\"One cool fact about it is that it is the {info['fact'].lower()}\")"
      ],
      "metadata": {
        "colab": {
          "base_uri": "https://localhost:8080/"
        },
        "id": "X-YTauH9lmH8",
        "outputId": "b00e4440-18d5-4af3-986f-bf7add724be9"
      },
      "execution_count": 61,
      "outputs": [
        {
          "output_type": "stream",
          "name": "stdout",
          "text": [
            "\n",
            "City: Buffalo\n",
            "Buffalo is in USA\n",
            "It has about 250 thousand people\n",
            "One cool fact about it is that it is the home of the bills\n",
            "\n",
            "City: Montreal\n",
            "Montreal is in Canada\n",
            "It has about 1.75 million people\n",
            "One cool fact about it is that it is the closest major canadian city to us border\n",
            "\n",
            "City: Stockholm\n",
            "Stockholm is in Sweeden\n",
            "It has about 1 million people\n",
            "One cool fact about it is that it is the largest city in sweden\n"
          ]
        }
      ]
    },
    {
      "cell_type": "code",
      "source": [
        "favorite_teams = {\n",
        "    'drew': ['buffalo Bills', 'buffalo Sabres', 'detroit Pistons', 'minnesota Twins'],\n",
        "    'chris': ['buffalo Bills', 'buffalo Sabres', 'los Angeles Clippers', 'new York Mets'],\n",
        "    'dylan': ['chicago Bears', 'chicago Blackhawks', 'chicago Bulls', 'chicago Cubs'],\n",
        "    'john': ['new York Jets', 'new York Islanders', 'new York Knicks', 'new York Yankees']\n",
        "}\n",
        "for name, teams in favorite_teams.items():\n",
        "  print(f\"\\n{name.title()}'s favorite teams are:\")\n",
        "  for team in teams:\n",
        "    print(f\"\\t{team.title()}\")\n"
      ],
      "metadata": {
        "colab": {
          "base_uri": "https://localhost:8080/"
        },
        "id": "nkbmNEJQoYE0",
        "outputId": "cc4046a2-04b4-447d-f207-574b4372c41a"
      },
      "execution_count": 70,
      "outputs": [
        {
          "output_type": "stream",
          "name": "stdout",
          "text": [
            "\n",
            "Drew's favorite teams are:\n",
            "\tBuffalo Bills\n",
            "\tBuffalo Sabres\n",
            "\tDetroit Pistons\n",
            "\tMinnesota Twins\n",
            "\n",
            "Chris's favorite teams are:\n",
            "\tBuffalo Bills\n",
            "\tBuffalo Sabres\n",
            "\tLos Angeles Clippers\n",
            "\tNew York Mets\n",
            "\n",
            "Dylan's favorite teams are:\n",
            "\tChicago Bears\n",
            "\tChicago Blackhawks\n",
            "\tChicago Bulls\n",
            "\tChicago Cubs\n",
            "\n",
            "John's favorite teams are:\n",
            "\tNew York Jets\n",
            "\tNew York Islanders\n",
            "\tNew York Knicks\n",
            "\tNew York Yankees\n"
          ]
        }
      ]
    }
  ]
}