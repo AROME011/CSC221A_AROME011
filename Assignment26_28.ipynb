{
  "nbformat": 4,
  "nbformat_minor": 0,
  "metadata": {
    "colab": {
      "provenance": [],
      "authorship_tag": "ABX9TyPo//YqmhAyto1uuv9+aTaq",
      "include_colab_link": true
    },
    "kernelspec": {
      "name": "python3",
      "display_name": "Python 3"
    },
    "language_info": {
      "name": "python"
    }
  },
  "cells": [
    {
      "cell_type": "markdown",
      "metadata": {
        "id": "view-in-github",
        "colab_type": "text"
      },
      "source": [
        "<a href=\"https://colab.research.google.com/github/AROME011/CSC221A_AROME011/blob/main/Assignment26_28.ipynb\" target=\"_parent\"><img src=\"https://colab.research.google.com/assets/colab-badge.svg\" alt=\"Open In Colab\"/></a>"
      ]
    },
    {
      "cell_type": "code",
      "source": [
        "#Cell 1: Demonstrate int, float, and string\n",
        "a = 13\n",
        "b = 42.345\n",
        "c = 'almost break'\n",
        "\n",
        "print(type(a), a)\n",
        "print(type(b), b)\n",
        "print(type(c), c)\n",
        "\n",
        "print(type(a), a, a+7 )\n",
        "print(type(b), b, b*5)\n",
        "print(type(c), c, c*5)\n"
      ],
      "metadata": {
        "colab": {
          "base_uri": "https://localhost:8080/"
        },
        "id": "JGIZ9Puvv4rr",
        "outputId": "402e98f2-dfb0-4b45-f44f-0109334aabb7"
      },
      "execution_count": 16,
      "outputs": [
        {
          "output_type": "stream",
          "name": "stdout",
          "text": [
            "<class 'int'> 13\n",
            "<class 'float'> 42.345\n",
            "<class 'str'> almost break\n",
            "<class 'int'> 13 20\n",
            "<class 'float'> 42.345 211.725\n",
            "<class 'str'> almost break almost breakalmost breakalmost breakalmost breakalmost break\n"
          ]
        }
      ]
    },
    {
      "cell_type": "code",
      "source": [
        "#Cell 2: Show how an f-string works (f'Something like this with {something} in it.')\n",
        "print(f'The Variable a is {a} and c*5 is {c*5}')"
      ],
      "metadata": {
        "colab": {
          "base_uri": "https://localhost:8080/"
        },
        "id": "Legn1LCHweHF",
        "outputId": "2b7fb391-4fa8-48b7-bec1-750d5d0526f6"
      },
      "execution_count": 17,
      "outputs": [
        {
          "output_type": "stream",
          "name": "stdout",
          "text": [
            "The Variable a is 13 and c*5 is almost breakalmost breakalmost breakalmost breakalmost break\n"
          ]
        }
      ]
    },
    {
      "cell_type": "code",
      "source": [
        "#Cell 3: Demonstrate some methods of the string class\n",
        "name = 'drew romesser'\n",
        "print(name, name.title())\n",
        "upper = name.upper()\n",
        "print(upper)"
      ],
      "metadata": {
        "colab": {
          "base_uri": "https://localhost:8080/"
        },
        "id": "HRK7gWhEwnIk",
        "outputId": "7edc8561-e0b8-426d-83f3-03e90a00d571"
      },
      "execution_count": 18,
      "outputs": [
        {
          "output_type": "stream",
          "name": "stdout",
          "text": [
            "drew romesser Drew Romesser\n",
            "DREW ROMESSER\n"
          ]
        }
      ]
    },
    {
      "cell_type": "code",
      "source": [
        "#Cell 4: Do something with a list\n",
        "abc = [13, 27, 35, 77]\n",
        "print(abc)\n",
        "for x in sorted(abc):\n",
        "  print(x)\n",
        "\n",
        "print(f'min: {min(abc)}')\n",
        "print(f'max: {max(abc)}')\n",
        "print(f'sum: {sum(abc)}')"
      ],
      "metadata": {
        "colab": {
          "base_uri": "https://localhost:8080/"
        },
        "id": "yV0BXV0fxBgo",
        "outputId": "d05cd4dc-ca4b-414c-bedf-3697e4ebec5e"
      },
      "execution_count": null,
      "outputs": [
        {
          "output_type": "stream",
          "name": "stdout",
          "text": [
            "[13, 27, 35, 77]\n",
            "13\n",
            "27\n",
            "35\n",
            "77\n",
            "min: 13\n",
            "max: 77\n",
            "sum: 152\n"
          ]
        }
      ]
    },
    {
      "cell_type": "code",
      "source": [
        "#Cell 5: Do something with a list of lists\n",
        "xyz = []\n",
        "xyz.append ([13, 14, 17])\n",
        "xyz.append([12, 'asd'])\n",
        "\n",
        "print(xyz)\n",
        "\n",
        "xyz2 = [[13,15,14], [12, 'asd', 18]]\n",
        "print(xyz2)"
      ],
      "metadata": {
        "colab": {
          "base_uri": "https://localhost:8080/"
        },
        "id": "f0ufNvRtxu1k",
        "outputId": "0de104b1-21af-4de5-b9d6-cff5be0c6946"
      },
      "execution_count": null,
      "outputs": [
        {
          "output_type": "stream",
          "name": "stdout",
          "text": [
            "[[13, 14, 17], [12, 'asd']]\n",
            "[[13, 15, 14], [12, 'asd', 18]]\n"
          ]
        }
      ]
    },
    {
      "cell_type": "code",
      "source": [
        "#Cell 6: Show how to print a list in sorted order without changing it.\n",
        "hij = [19, 13, 24]\n",
        "#This is change it\n",
        "hij.sort()\n",
        "print(hij)\n",
        "\n",
        "hij = [19, 13, 24]\n",
        "#This will not change it\n",
        "print(sorted(hij))\n",
        "print(hij)"
      ],
      "metadata": {
        "colab": {
          "base_uri": "https://localhost:8080/"
        },
        "id": "FAFMP62fyRtw",
        "outputId": "83d4c057-2d8b-4fae-a3b1-45cf631deb29"
      },
      "execution_count": null,
      "outputs": [
        {
          "output_type": "stream",
          "name": "stdout",
          "text": [
            "[13, 19, 24]\n",
            "[13, 19, 24]\n",
            "[19, 13, 24]\n"
          ]
        }
      ]
    },
    {
      "cell_type": "code",
      "source": [
        "#Cell 7: Printing a series of numbers using for and range\n",
        "def f1():\n",
        "  for x in range(5,100,2):\n",
        "    print(x, end= ' ')\n",
        "\n",
        "f1()"
      ],
      "metadata": {
        "colab": {
          "base_uri": "https://localhost:8080/"
        },
        "id": "isfTHG9My4Oe",
        "outputId": "a2c6287b-7d2f-4bc0-a4d4-87ac970ae4f5"
      },
      "execution_count": 19,
      "outputs": [
        {
          "output_type": "stream",
          "name": "stdout",
          "text": [
            "5 7 9 11 13 15 17 19 21 23 25 27 29 31 33 35 37 39 41 43 45 47 49 51 53 55 57 59 61 63 65 67 69 71 73 75 77 79 81 83 85 87 89 91 93 95 97 99 "
          ]
        }
      ]
    },
    {
      "cell_type": "code",
      "source": [
        "#Cell 8: Printing a series of squares of all numbers from 1 to 1000 that are not multiples of 7 using list comprehension.\n",
        "print([x*x for x in range(1,1000) if x % 7 !=0])"
      ],
      "metadata": {
        "colab": {
          "base_uri": "https://localhost:8080/"
        },
        "id": "FRhGHNBkzEi8",
        "outputId": "35805044-e79e-4ccb-ffe4-0f1c440f570f"
      },
      "execution_count": null,
      "outputs": [
        {
          "output_type": "stream",
          "name": "stdout",
          "text": [
            "[1, 4, 9, 16, 25, 36, 64, 81, 100, 121, 144, 169, 225, 256, 289, 324, 361, 400, 484, 529, 576, 625, 676, 729, 841, 900, 961, 1024, 1089, 1156, 1296, 1369, 1444, 1521, 1600, 1681, 1849, 1936, 2025, 2116, 2209, 2304, 2500, 2601, 2704, 2809, 2916, 3025, 3249, 3364, 3481, 3600, 3721, 3844, 4096, 4225, 4356, 4489, 4624, 4761, 5041, 5184, 5329, 5476, 5625, 5776, 6084, 6241, 6400, 6561, 6724, 6889, 7225, 7396, 7569, 7744, 7921, 8100, 8464, 8649, 8836, 9025, 9216, 9409, 9801, 10000, 10201, 10404, 10609, 10816, 11236, 11449, 11664, 11881, 12100, 12321, 12769, 12996, 13225, 13456, 13689, 13924, 14400, 14641, 14884, 15129, 15376, 15625, 16129, 16384, 16641, 16900, 17161, 17424, 17956, 18225, 18496, 18769, 19044, 19321, 19881, 20164, 20449, 20736, 21025, 21316, 21904, 22201, 22500, 22801, 23104, 23409, 24025, 24336, 24649, 24964, 25281, 25600, 26244, 26569, 26896, 27225, 27556, 27889, 28561, 28900, 29241, 29584, 29929, 30276, 30976, 31329, 31684, 32041, 32400, 32761, 33489, 33856, 34225, 34596, 34969, 35344, 36100, 36481, 36864, 37249, 37636, 38025, 38809, 39204, 39601, 40000, 40401, 40804, 41616, 42025, 42436, 42849, 43264, 43681, 44521, 44944, 45369, 45796, 46225, 46656, 47524, 47961, 48400, 48841, 49284, 49729, 50625, 51076, 51529, 51984, 52441, 52900, 53824, 54289, 54756, 55225, 55696, 56169, 57121, 57600, 58081, 58564, 59049, 59536, 60516, 61009, 61504, 62001, 62500, 63001, 64009, 64516, 65025, 65536, 66049, 66564, 67600, 68121, 68644, 69169, 69696, 70225, 71289, 71824, 72361, 72900, 73441, 73984, 75076, 75625, 76176, 76729, 77284, 77841, 78961, 79524, 80089, 80656, 81225, 81796, 82944, 83521, 84100, 84681, 85264, 85849, 87025, 87616, 88209, 88804, 89401, 90000, 91204, 91809, 92416, 93025, 93636, 94249, 95481, 96100, 96721, 97344, 97969, 98596, 99856, 100489, 101124, 101761, 102400, 103041, 104329, 104976, 105625, 106276, 106929, 107584, 108900, 109561, 110224, 110889, 111556, 112225, 113569, 114244, 114921, 115600, 116281, 116964, 118336, 119025, 119716, 120409, 121104, 121801, 123201, 123904, 124609, 125316, 126025, 126736, 128164, 128881, 129600, 130321, 131044, 131769, 133225, 133956, 134689, 135424, 136161, 136900, 138384, 139129, 139876, 140625, 141376, 142129, 143641, 144400, 145161, 145924, 146689, 147456, 148996, 149769, 150544, 151321, 152100, 152881, 154449, 155236, 156025, 156816, 157609, 158404, 160000, 160801, 161604, 162409, 163216, 164025, 165649, 166464, 167281, 168100, 168921, 169744, 171396, 172225, 173056, 173889, 174724, 175561, 177241, 178084, 178929, 179776, 180625, 181476, 183184, 184041, 184900, 185761, 186624, 187489, 189225, 190096, 190969, 191844, 192721, 193600, 195364, 196249, 197136, 198025, 198916, 199809, 201601, 202500, 203401, 204304, 205209, 206116, 207936, 208849, 209764, 210681, 211600, 212521, 214369, 215296, 216225, 217156, 218089, 219024, 220900, 221841, 222784, 223729, 224676, 225625, 227529, 228484, 229441, 230400, 231361, 232324, 234256, 235225, 236196, 237169, 238144, 239121, 241081, 242064, 243049, 244036, 245025, 246016, 248004, 249001, 250000, 251001, 252004, 253009, 255025, 256036, 257049, 258064, 259081, 260100, 262144, 263169, 264196, 265225, 266256, 267289, 269361, 270400, 271441, 272484, 273529, 274576, 276676, 277729, 278784, 279841, 280900, 281961, 284089, 285156, 286225, 287296, 288369, 289444, 291600, 292681, 293764, 294849, 295936, 297025, 299209, 300304, 301401, 302500, 303601, 304704, 306916, 308025, 309136, 310249, 311364, 312481, 314721, 315844, 316969, 318096, 319225, 320356, 322624, 323761, 324900, 326041, 327184, 328329, 330625, 331776, 332929, 334084, 335241, 336400, 338724, 339889, 341056, 342225, 343396, 344569, 346921, 348100, 349281, 350464, 351649, 352836, 355216, 356409, 357604, 358801, 360000, 361201, 363609, 364816, 366025, 367236, 368449, 369664, 372100, 373321, 374544, 375769, 376996, 378225, 380689, 381924, 383161, 384400, 385641, 386884, 389376, 390625, 391876, 393129, 394384, 395641, 398161, 399424, 400689, 401956, 403225, 404496, 407044, 408321, 409600, 410881, 412164, 413449, 416025, 417316, 418609, 419904, 421201, 422500, 425104, 426409, 427716, 429025, 430336, 431649, 434281, 435600, 436921, 438244, 439569, 440896, 443556, 444889, 446224, 447561, 448900, 450241, 452929, 454276, 455625, 456976, 458329, 459684, 462400, 463761, 465124, 466489, 467856, 469225, 471969, 473344, 474721, 476100, 477481, 478864, 481636, 483025, 484416, 485809, 487204, 488601, 491401, 492804, 494209, 495616, 497025, 498436, 501264, 502681, 504100, 505521, 506944, 508369, 511225, 512656, 514089, 515524, 516961, 518400, 521284, 522729, 524176, 525625, 527076, 528529, 531441, 532900, 534361, 535824, 537289, 538756, 541696, 543169, 544644, 546121, 547600, 549081, 552049, 553536, 555025, 556516, 558009, 559504, 562500, 564001, 565504, 567009, 568516, 570025, 573049, 574564, 576081, 577600, 579121, 580644, 583696, 585225, 586756, 588289, 589824, 591361, 594441, 595984, 597529, 599076, 600625, 602176, 605284, 606841, 608400, 609961, 611524, 613089, 616225, 617796, 619369, 620944, 622521, 624100, 627264, 628849, 630436, 632025, 633616, 635209, 638401, 640000, 641601, 643204, 644809, 646416, 649636, 651249, 652864, 654481, 656100, 657721, 660969, 662596, 664225, 665856, 667489, 669124, 672400, 674041, 675684, 677329, 678976, 680625, 683929, 685584, 687241, 688900, 690561, 692224, 695556, 697225, 698896, 700569, 702244, 703921, 707281, 708964, 710649, 712336, 714025, 715716, 719104, 720801, 722500, 724201, 725904, 727609, 731025, 732736, 734449, 736164, 737881, 739600, 743044, 744769, 746496, 748225, 749956, 751689, 755161, 756900, 758641, 760384, 762129, 763876, 767376, 769129, 770884, 772641, 774400, 776161, 779689, 781456, 783225, 784996, 786769, 788544, 792100, 793881, 795664, 797449, 799236, 801025, 804609, 806404, 808201, 810000, 811801, 813604, 817216, 819025, 820836, 822649, 824464, 826281, 829921, 831744, 833569, 835396, 837225, 839056, 842724, 844561, 846400, 848241, 850084, 851929, 855625, 857476, 859329, 861184, 863041, 864900, 868624, 870489, 872356, 874225, 876096, 877969, 881721, 883600, 885481, 887364, 889249, 891136, 894916, 896809, 898704, 900601, 902500, 904401, 908209, 910116, 912025, 913936, 915849, 917764, 921600, 923521, 925444, 927369, 929296, 931225, 935089, 937024, 938961, 940900, 942841, 944784, 948676, 950625, 952576, 954529, 956484, 958441, 962361, 964324, 966289, 968256, 970225, 972196, 976144, 978121, 980100, 982081, 984064, 986049, 990025, 992016, 994009, 996004, 998001]\n"
          ]
        }
      ]
    },
    {
      "cell_type": "code",
      "source": [
        "#Cell 9: Generating all of the prime numbers from 2 to 1000 using the Sieve of Eratosthenes which I suggest you ask ChatGPT for help on.\n",
        "# Thanks to ChatGPT 3.5 which I asked: how do you do sieve of Eratosthenes in python\n",
        "def sieve_of_eratosthenes(limit):\n",
        "    primes = [True] * (limit + 1)\n",
        "    primes[0] = primes[1] = False  # 0 and 1 are not prime\n",
        "\n",
        "    for i in range(2, int(limit**0.5) + 1):\n",
        "        if primes[i]:\n",
        "            for j in range(i**2, limit + 1, i):\n",
        "                primes[j] = False\n",
        "\n",
        "    return [num for num in range(2, limit + 1) if primes[num]]\n",
        "\n",
        "# Example usage:\n",
        "limit = 250\n",
        "result = sieve_of_eratosthenes(limit)\n",
        "print(result)\n"
      ],
      "metadata": {
        "colab": {
          "base_uri": "https://localhost:8080/"
        },
        "id": "ElWkT4hizGOw",
        "outputId": "bf16efcd-2724-4106-b637-102f2078ef8e"
      },
      "execution_count": null,
      "outputs": [
        {
          "output_type": "stream",
          "name": "stdout",
          "text": [
            "[2, 3, 5, 7, 11, 13, 17, 19, 23, 29, 31, 37, 41, 43, 47, 53, 59, 61, 67, 71, 73, 79, 83, 89, 97, 101, 103, 107, 109, 113, 127, 131, 137, 139, 149, 151, 157, 163, 167, 173, 179, 181, 191, 193, 197, 199, 211, 223, 227, 229, 233, 239, 241]\n"
          ]
        }
      ]
    },
    {
      "cell_type": "code",
      "source": [
        "#Cell 10: Create a generator from your function above that you can use to print the first N prime numbers. This should look like:\n",
        "def my_prime_generator(N):\n",
        "  primes = sieve_of_eratosthenes(N)\n",
        "\n",
        "  for x in primes:\n",
        "    yield x\n",
        "\n",
        "for x in my_prime_generator(200):\n",
        "  print(x, end= ' ')"
      ],
      "metadata": {
        "colab": {
          "base_uri": "https://localhost:8080/"
        },
        "id": "yszeJWBxzJqN",
        "outputId": "36b5b1b4-97c6-4767-b033-9bc3d06dec71"
      },
      "execution_count": null,
      "outputs": [
        {
          "output_type": "stream",
          "name": "stdout",
          "text": [
            "2 3 5 7 11 13 17 19 23 29 31 37 41 43 47 53 59 61 67 71 73 79 83 89 97 101 103 107 109 113 127 131 137 139 149 151 157 163 167 173 179 181 191 193 197 199 "
          ]
        }
      ]
    },
    {
      "cell_type": "code",
      "execution_count": 15,
      "metadata": {
        "colab": {
          "base_uri": "https://localhost:8080/"
        },
        "id": "xG_-ZurDaifx",
        "outputId": "c1f69a1c-5d0f-497d-b7ea-dcb5b26cbcf2"
      },
      "outputs": [
        {
          "output_type": "stream",
          "name": "stdout",
          "text": [
            "Min Value: 65\n",
            "Max Value: 99909\n",
            "Sum: 48702944\n",
            "Average: 48702.944\n"
          ]
        }
      ],
      "source": [
        "#Cell 11: Generate 1000 random integers in a list (random.randint(...)) and print their min, max, sum, and average.\n",
        "import random\n",
        "\n",
        "random_numbers = []\n",
        "\n",
        "for _ in range(1000):\n",
        "    random_numbers.append(random.randint(1, 100000))\n",
        "\n",
        "print(f\"Min Value:\", min(random_numbers))\n",
        "print(f\"Max Value:\", max(random_numbers))\n",
        "print(f\"Sum:\", sum(random_numbers))\n",
        "print(f\"Average:\", sum(random_numbers) / len(random_numbers))"
      ]
    },
    {
      "cell_type": "code",
      "source": [
        "#Cell 12: Write a simple function that uses if, elif, and else and show that it works.\n",
        "birthday = input (\"What month is your birthday in? \")\n",
        "\n",
        "if birthday.lower() == 'july':\n",
        "  print (\"You were born in the same month as me!\")\n",
        "elif birthday.lower() == 'august':\n",
        "  print (f\"{birthday.title()} is the most common birthday month \")\n",
        "else:\n",
        "  print (f\"You were born in {birthday.title()}\")"
      ],
      "metadata": {
        "id": "Pm-HiRz01xHC",
        "colab": {
          "base_uri": "https://localhost:8080/"
        },
        "outputId": "ec9bb29b-2d9c-4f8a-8bff-4411184a8ab4"
      },
      "execution_count": 30,
      "outputs": [
        {
          "output_type": "stream",
          "name": "stdout",
          "text": [
            "What month is your birthday in? may\n",
            "You were born in May\n"
          ]
        }
      ]
    },
    {
      "cell_type": "code",
      "source": [
        "#Cell 13: Show me three things from PEP-8 that surprise you\n",
        "#1. PEP-8 recommends using lowercase when defining a function with underscores instead of Capitalizing\n",
        "#2. This is bad x = x + 1 while this is good x += 1\n",
        "#3. PEP-8 recommends as few whitespaces as possbile"
      ],
      "metadata": {
        "id": "dUNOUW4H16iC"
      },
      "execution_count": 40,
      "outputs": []
    },
    {
      "cell_type": "code",
      "source": [
        "#Cell 14: Create a file using %%file testfile.txt in Colab. The file should contain lines like the following:\n",
        "\n",
        "#Amy, cat\n",
        "#Fred, dog\n",
        "#Hunter, dog\n",
        "#Peena, parakeet\n",
        "#Rover, dog"
      ],
      "metadata": {
        "id": "XKT1TMBA2AfM"
      },
      "execution_count": null,
      "outputs": []
    },
    {
      "cell_type": "code",
      "source": [
        "%%file testfile.txt\n",
        "Amy, cat\n",
        "Fred, dog\n",
        "Hunter, dog\n",
        "Peena, parakeet\n",
        "Rover, dog"
      ],
      "metadata": {
        "colab": {
          "base_uri": "https://localhost:8080/"
        },
        "id": "MKP3mabd2IAX",
        "outputId": "f254c76f-6396-4e6c-d650-81e1e5fd8182"
      },
      "execution_count": null,
      "outputs": [
        {
          "output_type": "stream",
          "name": "stdout",
          "text": [
            "Writing testfile.txt\n"
          ]
        }
      ]
    },
    {
      "cell_type": "code",
      "source": [
        "#Cell 15: Read that file in and convert it to a dictionary. Show how you can lookup pet type by using pet name with your dictionary\n",
        "dict1 = {}\n",
        "with open('testfile.txt', 'r') as file:\n",
        "  while line := file.readline():\n",
        "    line = line.strip()\n",
        "    key, value = line.split(',')\n",
        "    dict1[key] = value.strip()\n",
        "\n",
        "print(dict1)"
      ],
      "metadata": {
        "colab": {
          "base_uri": "https://localhost:8080/"
        },
        "id": "I1Qko0Rf2TvP",
        "outputId": "d7611549-fe90-4b5b-f2ea-a29eaa9be3a2"
      },
      "execution_count": null,
      "outputs": [
        {
          "output_type": "stream",
          "name": "stdout",
          "text": [
            "{'Amy': 'cat', 'Fred': 'dog', 'Hunter': 'dog', 'Peena': 'parakeet', 'Rover': 'dog'}\n"
          ]
        }
      ]
    },
    {
      "cell_type": "code",
      "source": [
        "#Cell 16: Generate a list of all the unique pet types in the dictionary. Use a set to make this happen.\n",
        "print(dict1.values())\n",
        "pet_types = set(dict1.values())\n",
        "print(pet_types)"
      ],
      "metadata": {
        "colab": {
          "base_uri": "https://localhost:8080/"
        },
        "id": "EoXMehDV3CJX",
        "outputId": "97084fe1-5113-4ef2-d7d4-a9fdcdc6981b"
      },
      "execution_count": null,
      "outputs": [
        {
          "output_type": "stream",
          "name": "stdout",
          "text": [
            "dict_values(['cat', 'dog', 'dog', 'parakeet', 'dog'])\n",
            "{'dog', 'parakeet', 'cat'}\n"
          ]
        }
      ]
    },
    {
      "cell_type": "code",
      "source": [
        "#Cell 17: Use a while loop to print the numbers from 80 down to 16 by 8. Do not use for or range.\n",
        "n = 80\n",
        "while n>= 16:\n",
        "  print(n, end= ' ')\n",
        "  n-=8"
      ],
      "metadata": {
        "colab": {
          "base_uri": "https://localhost:8080/"
        },
        "id": "mekGyxWr3VEr",
        "outputId": "4f032042-cdd2-486f-9e83-1ad757fa7f28"
      },
      "execution_count": null,
      "outputs": [
        {
          "output_type": "stream",
          "name": "stdout",
          "text": [
            "80 72 64 56 48 40 32 24 16 "
          ]
        }
      ]
    },
    {
      "cell_type": "code",
      "source": [
        "#Cell 18: Write a function that takes three numbers and returns their min, max, and sum as a tuple.\n",
        "def f4(n1, n2, n3):\n",
        "  max_n = max(n1, n2, n3)\n",
        "  min_n = min(n1, n2, n3)\n",
        "  sum_n = sum([n1, n2, n3])\n",
        "\n",
        "  return min_n, max_n, sum_n\n",
        "\n",
        "print(f4(4, 87, 26))"
      ],
      "metadata": {
        "colab": {
          "base_uri": "https://localhost:8080/"
        },
        "id": "LXxdIDe53X5A",
        "outputId": "987e6554-759d-4979-afc7-52569d3ddc13"
      },
      "execution_count": null,
      "outputs": [
        {
          "output_type": "stream",
          "name": "stdout",
          "text": [
            "(4, 87, 117)\n"
          ]
        }
      ]
    },
    {
      "cell_type": "code",
      "source": [
        "#Cell 19: Write a function that takes any number of numbers and returns their min, max, and sum as a tuple.\n",
        "def f24(*n):\n",
        "  max_n = max(n)\n",
        "  min_n = min(n)\n",
        "  sum_n = sum(n)\n",
        "\n",
        "  return min_n, max_n, sum_n\n",
        "\n",
        "print(f24(13, 21, 4, 81, -5, 30, 12))\n"
      ],
      "metadata": {
        "id": "2UQtDsej3rG5",
        "colab": {
          "base_uri": "https://localhost:8080/"
        },
        "outputId": "042514d4-7573-4538-d1e0-a58a4c168897"
      },
      "execution_count": 24,
      "outputs": [
        {
          "output_type": "stream",
          "name": "stdout",
          "text": [
            "(-5, 81, 156)\n"
          ]
        }
      ]
    },
    {
      "cell_type": "code",
      "source": [
        "# Cell 20: Create a decorator called traceroo and use it to print messages showing how your function above executes.\n",
        "def traceroo(func):\n",
        "    def newfunc(*args, **kwargs):\n",
        "        print(f'TRACEROO {func.__name__} {args} {kwargs}')\n",
        "        return func(*args, **kwargs)\n",
        "    return newfunc\n",
        "\n",
        "f4d = traceroo(f4)\n",
        "print(f4(3, 2, 1))\n",
        "print(f4d(3, 2, 1))\n",
        "\n",
        "@traceroo\n",
        "def f4():\n",
        "    print(\"Hi... I'm f4\")\n",
        "\n",
        "f4()"
      ],
      "metadata": {
        "colab": {
          "base_uri": "https://localhost:8080/"
        },
        "id": "zeKxkZ8B4fyz",
        "outputId": "80cfeb3f-be60-41ad-d4eb-e7c7670d4777"
      },
      "execution_count": 52,
      "outputs": [
        {
          "output_type": "stream",
          "name": "stdout",
          "text": [
            "(1, 3, 6)\n",
            "TRACEROO f4 (3, 2, 1) {}\n",
            "(1, 3, 6)\n",
            "TRACEROO f4 () {}\n",
            "Hi... I'm f4\n"
          ]
        }
      ]
    },
    {
      "cell_type": "code",
      "source": [
        "#Cell 21: Create a class that uses __init__, __repr__, __str__, and __add__. Demonstrate that all of the methods work.\n",
        "class Buffalo:\n",
        "    def __init__(self, population, nickname):\n",
        "        self.population = population\n",
        "        self.nickname = nickname\n",
        "\n",
        "    def __repr__(self):\n",
        "        return (f\"BuffaloInfo (population={self.population}, nickname='{self.nickname}')\")\n",
        "\n",
        "    def __str__(self):\n",
        "        return (f\"Buffalo is known as the {self.nickname} and has a population of {self.population}.\")\n",
        "\n",
        "    def __add__(self, other):\n",
        "        if isinstance(other, Buffalo):\n",
        "            total_population = self.population + other.population\n",
        "            combined_nickname = f\"{self.nickname} & {other.nickname}\"\n",
        "            return Buffalo(total_population, combined_nickname)\n",
        "        elif isinstance(other, int):\n",
        "            total_population = self.population + other\n",
        "            return Buffalo(total_population, self.nickname)\n",
        "\n",
        "\n",
        "buffalo1 = Buffalo(250000, \"Queen City\")\n",
        "buffalo2 = Buffalo(278350, \"City of Good Neighbors\")\n",
        "\n",
        "print(repr(buffalo1))\n",
        "print(repr(buffalo2))\n",
        "\n",
        "print(str(buffalo1))\n",
        "print(str(buffalo2))\n",
        "\n",
        "combined_buffalo = buffalo1 + buffalo2\n",
        "print(f\"When combined: {combined_buffalo}\")\n"
      ],
      "metadata": {
        "id": "UvTDTaID4jau",
        "colab": {
          "base_uri": "https://localhost:8080/"
        },
        "outputId": "e40815a3-e814-4884-c009-2a36a8aecbf3"
      },
      "execution_count": 48,
      "outputs": [
        {
          "output_type": "stream",
          "name": "stdout",
          "text": [
            "BuffaloInfo (population=250000, nickname='Queen City')\n",
            "BuffaloInfo (population=278350, nickname='City of Good Neighbors')\n",
            "Buffalo is known as the Queen City and has a population of 250000.\n",
            "Buffalo is known as the City of Good Neighbors and has a population of 278350.\n",
            "When combined: Buffalo is known as the Queen City & City of Good Neighbors and has a population of 528350.\n"
          ]
        }
      ]
    },
    {
      "cell_type": "code",
      "source": [
        "#Cell 22: Is your birth date included in the digits of pi? Where? Feel free to use the code from Chapter 10.\n",
        "def check_pi_contains(birthday):\n",
        "    pi_digits = (\n",
        "        \"31415926535897932384626433832795028841971693993751058209749445923078164062862089986280348253421170679\"\n",
        "        \"82148086513282306647093844609550582231725359408128481117450284102701938521105559644622948954930381964\"\n",
        "        \"42881097566593344612847564823378728378464086513282306647093844609550582231725359408128481117450284102\"\n",
        "        \"70193852110555964462294895493038196442881097566593344612847564823378728378464086513282306647093844609\"\n",
        "        \"55058223172535940812848111745028410270193852110555964462294895493038196442881097566593344612847564823\"\n",
        "        \"37872837846408651328230664709384460955058223172535940812848111745028410270193852110555964462294895493\"\n",
        "    )\n",
        "\n",
        "    brithday_in_pi = birthday.replace('/', '')\n",
        "\n",
        "\n",
        "    if brithday_in_pi in pi_digits:\n",
        "        return True\n",
        "    else:\n",
        "        return False\n",
        "\n",
        "your_birthday = \"07/18/2005\"\n",
        "\n",
        "result = check_pi_contains(your_birthday.replace('/', ''))\n",
        "print(f\"Is my birthday, {your_birthday} present in the digits of pi?\\n{result}\")"
      ],
      "metadata": {
        "id": "3depVgYwvbl1",
        "colab": {
          "base_uri": "https://localhost:8080/"
        },
        "outputId": "b6ad9145-007b-4c98-fd34-a214aca784a6"
      },
      "execution_count": 11,
      "outputs": [
        {
          "output_type": "stream",
          "name": "stdout",
          "text": [
            "Is my birthday, 07/18/2005 present in the digits of pi?\n",
            "False\n"
          ]
        }
      ]
    },
    {
      "cell_type": "code",
      "source": [
        "# Pytest\n",
        "# Off to VS Code... although you can do this in the Colab if you know how!\n",
        "# Perform the following functions in files stored in a folder called Assignment26-28. You must post the folder to your GitHub unless you know how to do all of this right in Colab!\n",
        "# Put three of your above functions in a file called final_functions.py. Show that they work using&nbsp;python final_functions.py from the command line.\n",
        "# Hint, from Colab, you can use %%file final_functions.py in one cell and then use !python final_functions.py in the next!\n",
        "# Add a file final.py that imports final_functions.py and exercises them a bit using python final.py from the command line.\n",
        "# Add a file test_final.py and use pytest from the command line to test the functions. Show that the tests pass.\n",
        "# Put a bug in one of your functions. Show that your pytest tests now fail!"
      ],
      "metadata": {
        "id": "KbLBm4v-4-14"
      },
      "execution_count": null,
      "outputs": []
    },
    {
      "cell_type": "code",
      "source": [
        "%%file final_functions.py\n",
        "\n",
        "def f1():\n",
        "  for x in range(5,100,2):\n",
        "    print(x, end= ' ')\n",
        "\n",
        "f1()\n",
        "\n",
        "class Buffalo:\n",
        "    def __init__(self, population, nickname):\n",
        "        self.population = population\n",
        "        self.nickname = nickname\n",
        "\n",
        "    def __repr__(self):\n",
        "        return (f\"BuffaloInfo (population={self.population}, nickname='{self.nickname}')\")\n",
        "\n",
        "    def __str__(self):\n",
        "        return (f\"Buffalo is known as the {self.nickname} and has a population of {self.population}.\")\n",
        "\n",
        "    def __add__(self, other):\n",
        "        if isinstance(other, Buffalo):\n",
        "            total_population = self.population + other.population\n",
        "            combined_nickname = f\"{self.nickname} & {other.nickname}\"\n",
        "            return Buffalo(total_population, combined_nickname)\n",
        "        elif isinstance(other, int):\n",
        "            total_population = self.population + other\n",
        "            return Buffalo(total_population, self.nickname)\n",
        "\n",
        "\n",
        "buffalo1 = Buffalo(250000, \"Queen City\")\n",
        "buffalo2 = Buffalo(278350, \"City of Good Neighbors\")\n",
        "\n",
        "print(repr(buffalo1))\n",
        "print(repr(buffalo2))\n",
        "\n",
        "print(str(buffalo1))\n",
        "print(str(buffalo2))\n",
        "\n",
        "combined_buffalo = buffalo1 + buffalo2\n",
        "print(fWhen combined: {combined_buffalo}\")\n",
        "\n",
        "import random\n",
        "\n",
        "random_numbers = []\n",
        "\n",
        "for _ in range(1000):\n",
        "    random_numbers.append(random.randint(1, 100000))\n",
        "\n",
        "print(f\"Min Value:\", min(random_numbers))\n",
        "print(f\"Max Value:\", max(random_numbers))\n",
        "print(f\"Sum:\", sum(random_numbers))\n",
        "print(f\"Average:\", sum(random_numbers) / len(random_numbers))"
      ],
      "metadata": {
        "colab": {
          "base_uri": "https://localhost:8080/"
        },
        "id": "JLtFiipcReBY",
        "outputId": "a6442739-3450-47a9-a5df-6bb18c22423e"
      },
      "execution_count": 38,
      "outputs": [
        {
          "output_type": "stream",
          "name": "stdout",
          "text": [
            "Overwriting final_functions.py\n"
          ]
        }
      ]
    },
    {
      "cell_type": "code",
      "source": [
        "!python final_functions.py"
      ],
      "metadata": {
        "colab": {
          "base_uri": "https://localhost:8080/"
        },
        "id": "aoQz2cMfSLR2",
        "outputId": "7e1cf27e-34a3-42cc-ae04-b4878118345d"
      },
      "execution_count": 37,
      "outputs": [
        {
          "output_type": "stream",
          "name": "stdout",
          "text": [
            "5 7 9 11 13 15 17 19 21 23 25 27 29 31 33 35 37 39 41 43 45 47 49 51 53 55 57 59 61 63 65 67 69 71 73 75 77 79 81 83 85 87 89 91 93 95 97 99 BuffaloInfo (population=250000, nickname='Queen City')\n",
            "BuffaloInfo (population=278350, nickname='City of Good Neighbors')\n",
            "Buffalo is known as the Queen City and has a population of 250000.\n",
            "Buffalo is known as the City of Good Neighbors and has a population of 278350.\n",
            "When combined: Buffalo is known as the Queen City & City of Good Neighbors and has a population of 528350.\n",
            "Min Value: 77\n",
            "Max Value: 99981\n",
            "Sum: 49122723\n",
            "Average: 49122.723\n"
          ]
        }
      ]
    },
    {
      "cell_type": "code",
      "source": [
        "%%file final.py\n",
        "\n",
        "import final_functions.py"
      ],
      "metadata": {
        "colab": {
          "base_uri": "https://localhost:8080/"
        },
        "id": "liiAabEZSe3K",
        "outputId": "d1b887c6-0032-4453-823f-8d9b92d8adb3"
      },
      "execution_count": 20,
      "outputs": [
        {
          "output_type": "stream",
          "name": "stdout",
          "text": [
            "Writing final.py\n"
          ]
        }
      ]
    },
    {
      "cell_type": "code",
      "source": [
        "!python final.py"
      ],
      "metadata": {
        "colab": {
          "base_uri": "https://localhost:8080/"
        },
        "id": "DY8mGEy2SyRL",
        "outputId": "5570d7c9-69ab-4e7a-8da4-a24dfcffe286"
      },
      "execution_count": 21,
      "outputs": [
        {
          "output_type": "stream",
          "name": "stdout",
          "text": [
            "5 7 9 11 13 15 17 19 21 23 25 27 29 31 33 35 37 39 41 43 45 47 49 51 53 55 57 59 61 63 65 67 69 71 73 75 77 79 81 83 85 87 89 91 93 95 97 99 BuffaloInfo (population=250000, nickname='Queen City')\n",
            "BuffaloInfo (population=278350, nickname='City of Good Neighbors')\n",
            "Buffalo is known as the Queen City and has a population of 250000.\n",
            "Buffalo is known as the City of Good Neighbors and has a population of 278350.\n",
            "When combined: Buffalo is known as the Queen City & City of Good Neighbors and has a population of 528350.\n",
            "Min Value: 225\n",
            "Max Value: 99968\n",
            "Sum: 51184518\n",
            "Average: 51184.518\n",
            "Traceback (most recent call last):\n",
            "  File \"/content/final.py\", line 2, in <module>\n",
            "    import final_functions.py\n",
            "ModuleNotFoundError: No module named 'final_functions.py'; 'final_functions' is not a package\n"
          ]
        }
      ]
    },
    {
      "cell_type": "code",
      "source": [
        "%%file test_final.py\n",
        "\n",
        "import final.py"
      ],
      "metadata": {
        "colab": {
          "base_uri": "https://localhost:8080/"
        },
        "id": "fHylwCpaTJOa",
        "outputId": "f12e0682-89b8-467e-bbb8-90e9811ba4c2"
      },
      "execution_count": 33,
      "outputs": [
        {
          "output_type": "stream",
          "name": "stdout",
          "text": [
            "Overwriting test_final.py\n"
          ]
        }
      ]
    },
    {
      "cell_type": "code",
      "source": [
        "!pytest test_final.py"
      ],
      "metadata": {
        "colab": {
          "base_uri": "https://localhost:8080/"
        },
        "id": "nR2QvAlxTTQT",
        "outputId": "2bddf8e2-417b-4ccd-b22d-762653a4302e"
      },
      "execution_count": 35,
      "outputs": [
        {
          "output_type": "stream",
          "name": "stdout",
          "text": [
            "\u001b[1m======================================= test session starts ========================================\u001b[0m\n",
            "platform linux -- Python 3.10.12, pytest-7.4.3, pluggy-1.3.0\n",
            "rootdir: /content\n",
            "plugins: anyio-3.7.1\n",
            "\u001b[1mcollecting ... \u001b[0m\u001b[1m\rcollected 0 items / 1 error                                                                        \u001b[0m\n",
            "\n",
            "============================================== ERRORS ==============================================\n",
            "\u001b[31m\u001b[1m__________________________________ ERROR collecting test_final.py __________________________________\u001b[0m\n",
            "\u001b[31mImportError while importing test module '/content/test_final.py'.\n",
            "Hint: make sure your test modules/packages have valid Python names.\n",
            "Traceback:\n",
            "/usr/lib/python3.10/importlib/__init__.py:126: in import_module\n",
            "    return _bootstrap._gcd_import(name[level:], package, level)\n",
            "test_final.py:2: in <module>\n",
            "    import final.py\n",
            "final.py:2: in <module>\n",
            "    import final_functions.py\n",
            "E   ModuleNotFoundError: No module named 'final_functions.py'; 'final_functions' is not a package\u001b[0m\n",
            "----------------------------------------- Captured stdout ------------------------------------------\n",
            "5 7 9 11 13 15 17 19 21 23 25 27 29 31 33 35 37 39 41 43 45 47 49 51 53 55 57 59 61 63 65 67 69 71 73 75 77 79 81 83 85 87 89 91 93 95 97 99 BuffaloInfo (population=250000, nickname='Queen City')\n",
            "BuffaloInfo (population=278350, nickname='City of Good Neighbors')\n",
            "Buffalo is known as the Queen City and has a population of 250000.\n",
            "Buffalo is known as the City of Good Neighbors and has a population of 278350.\n",
            "When combined: Buffalo is known as the Queen City & City of Good Neighbors and has a population of 528350.\n",
            "Min Value: 16\n",
            "Max Value: 99987\n",
            "Sum: 50485828\n",
            "Average: 50485.828\n",
            "\u001b[36m\u001b[1m===================================== short test summary info ======================================\u001b[0m\n",
            "\u001b[31mERROR\u001b[0m test_final.py\n",
            "!!!!!!!!!!!!!!!!!!!!!!!!!!!!!! Interrupted: 1 error during collection !!!!!!!!!!!!!!!!!!!!!!!!!!!!!!\n",
            "\u001b[31m========================================= \u001b[31m\u001b[1m1 error\u001b[0m\u001b[31m in 0.07s\u001b[0m\u001b[31m =========================================\u001b[0m\n"
          ]
        }
      ]
    },
    {
      "cell_type": "code",
      "source": [
        "!pytest final_functions.py"
      ],
      "metadata": {
        "colab": {
          "base_uri": "https://localhost:8080/"
        },
        "id": "x_6-SOklUWWZ",
        "outputId": "7a6e3ec1-bc18-4c82-de80-d981811386ab"
      },
      "execution_count": 39,
      "outputs": [
        {
          "output_type": "stream",
          "name": "stdout",
          "text": [
            "\u001b[1m======================================= test session starts ========================================\u001b[0m\n",
            "platform linux -- Python 3.10.12, pytest-7.4.3, pluggy-1.3.0\n",
            "rootdir: /content\n",
            "plugins: anyio-3.7.1\n",
            "\u001b[1mcollecting ... \u001b[0m\u001b[1m\rcollected 0 items / 1 error                                                                        \u001b[0m\n",
            "\n",
            "============================================== ERRORS ==============================================\n",
            "\u001b[31m\u001b[1m_______________________________ ERROR collecting final_functions.py ________________________________\u001b[0m\n",
            "\u001b[31m/usr/local/lib/python3.10/dist-packages/_pytest/python.py:617: in _importtestmodule\n",
            "    mod = import_path(self.path, mode=importmode, root=self.config.rootpath)\n",
            "/usr/local/lib/python3.10/dist-packages/_pytest/pathlib.py:567: in import_path\n",
            "    importlib.import_module(module_name)\n",
            "/usr/lib/python3.10/importlib/__init__.py:126: in import_module\n",
            "    return _bootstrap._gcd_import(name[level:], package, level)\n",
            "<frozen importlib._bootstrap>:1050: in _gcd_import\n",
            "    ???\n",
            "<frozen importlib._bootstrap>:1027: in _find_and_load\n",
            "    ???\n",
            "<frozen importlib._bootstrap>:1006: in _find_and_load_unlocked\n",
            "    ???\n",
            "<frozen importlib._bootstrap>:688: in _load_unlocked\n",
            "    ???\n",
            "/usr/local/lib/python3.10/dist-packages/_pytest/assertion/rewrite.py:177: in exec_module\n",
            "    source_stat, co = _rewrite_test(fn, self.config)\n",
            "/usr/local/lib/python3.10/dist-packages/_pytest/assertion/rewrite.py:359: in _rewrite_test\n",
            "    tree = ast.parse(source, filename=strfn)\n",
            "/usr/lib/python3.10/ast.py:50: in parse\n",
            "    return compile(source, filename, mode, flags,\n",
            "E     File \"/content/final_functions.py\", line 39\n",
            "E       print(fWhen combined: {combined_buffalo}\") \n",
            "E                                               ^\n",
            "E   SyntaxError: unterminated string literal (detected at line 39)\u001b[0m\n",
            "\u001b[36m\u001b[1m===================================== short test summary info ======================================\u001b[0m\n",
            "\u001b[31mERROR\u001b[0m final_functions.py\n",
            "!!!!!!!!!!!!!!!!!!!!!!!!!!!!!! Interrupted: 1 error during collection !!!!!!!!!!!!!!!!!!!!!!!!!!!!!!\n",
            "\u001b[31m========================================= \u001b[31m\u001b[1m1 error\u001b[0m\u001b[31m in 0.22s\u001b[0m\u001b[31m =========================================\u001b[0m\n"
          ]
        }
      ]
    }
  ]
}