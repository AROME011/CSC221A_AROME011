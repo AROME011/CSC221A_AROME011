{
  "nbformat": 4,
  "nbformat_minor": 0,
  "metadata": {
    "colab": {
      "provenance": [],
      "authorship_tag": "ABX9TyOxQOZdmp7xKrQ+OSVRIhLq",
      "include_colab_link": true
    },
    "kernelspec": {
      "name": "python3",
      "display_name": "Python 3"
    },
    "language_info": {
      "name": "python"
    }
  },
  "cells": [
    {
      "cell_type": "markdown",
      "metadata": {
        "id": "view-in-github",
        "colab_type": "text"
      },
      "source": [
        "<a href=\"https://colab.research.google.com/github/AROME011/CSC221A_AROME011/blob/main/Assignment3.ipynb\" target=\"_parent\"><img src=\"https://colab.research.google.com/assets/colab-badge.svg\" alt=\"Open In Colab\"/></a>"
      ]
    },
    {
      "cell_type": "code",
      "execution_count": 3,
      "metadata": {
        "colab": {
          "base_uri": "https://localhost:8080/"
        },
        "id": "-HiKz7HNbEkd",
        "outputId": "e69981d7-758d-45c0-b1ec-e7734f6b0011"
      },
      "outputs": [
        {
          "output_type": "stream",
          "name": "stdout",
          "text": [
            "Go Bills\n"
          ]
        }
      ],
      "source": [
        "message = \"Go Bills\"\n",
        "print(message)\n"
      ]
    },
    {
      "cell_type": "code",
      "source": [
        "message = \"Drew is cool\"\n",
        "print(message)\n",
        "message = \"Drew is weird\"\n",
        "print(message)"
      ],
      "metadata": {
        "colab": {
          "base_uri": "https://localhost:8080/"
        },
        "id": "MEdy5iCrbgKt",
        "outputId": "6166dd56-8267-4e0b-9f8b-5c4ae09be3d7"
      },
      "execution_count": 4,
      "outputs": [
        {
          "output_type": "stream",
          "name": "stdout",
          "text": [
            "Drew is cool\n",
            "Drew is weird\n"
          ]
        }
      ]
    },
    {
      "cell_type": "code",
      "source": [
        "name = \"Drew\"\n",
        "print(\"Hello \" + name + \", how are you today?\")"
      ],
      "metadata": {
        "colab": {
          "base_uri": "https://localhost:8080/"
        },
        "id": "Ld013Ja7ez4h",
        "outputId": "4f07a5d2-92f1-45a1-b7b4-3818fd0c9a76"
      },
      "execution_count": 7,
      "outputs": [
        {
          "output_type": "stream",
          "name": "stdout",
          "text": [
            "Hello Drew, how are you today?\n"
          ]
        }
      ]
    },
    {
      "cell_type": "code",
      "source": [
        "name = \"drew romesser\"\n",
        "print(name.upper())\n",
        "print(name.lower())\n",
        "print(name.title())\n",
        "#prints the name in all uppercase, lowercase, and just the first letter of the word\n"
      ],
      "metadata": {
        "colab": {
          "base_uri": "https://localhost:8080/"
        },
        "id": "0HVbvfw6fFvC",
        "outputId": "df966a15-b8f6-48bc-ffc3-0952bc62dc31"
      },
      "execution_count": 8,
      "outputs": [
        {
          "output_type": "stream",
          "name": "stdout",
          "text": [
            "DREW ROMESSER\n",
            "drew romesser\n",
            "Drew Romesser\n"
          ]
        }
      ]
    },
    {
      "cell_type": "code",
      "source": [
        "famous = \"Wayne Gretsky once said, 'You miss 100% of the shots you do not take.'\"\n",
        "print(famous)\n"
      ],
      "metadata": {
        "colab": {
          "base_uri": "https://localhost:8080/"
        },
        "id": "4mw263aBgyZw",
        "outputId": "03b6abf8-61c6-4f15-f5f8-a0bf32ddcf75"
      },
      "execution_count": 19,
      "outputs": [
        {
          "output_type": "stream",
          "name": "stdout",
          "text": [
            "Wayne Gretsky once said, 'You miss 100% of the shots you do not take.'\n"
          ]
        }
      ]
    },
    {
      "cell_type": "code",
      "source": [
        "famous_person = \"wayne gretsky\"\n",
        "message = \"'You miss 100% of the shots you do not take.'\"\n",
        "print(famous_person.title() + \" once said, \" + message)"
      ],
      "metadata": {
        "colab": {
          "base_uri": "https://localhost:8080/"
        },
        "id": "C1kAqN1WicAF",
        "outputId": "17f30d78-1ae0-4f4e-e0ba-978528ace3ca"
      },
      "execution_count": 22,
      "outputs": [
        {
          "output_type": "stream",
          "name": "stdout",
          "text": [
            "Wayne Gretsky once said, 'You miss 100% of the shots you do not take.'\n"
          ]
        }
      ]
    },
    {
      "cell_type": "code",
      "source": [
        "from pygments.token import Name\n",
        "print(\"\\tAnthony Ponzo\")\n",
        "print(\"Anthony Ponzo\\nMax Frank\")"
      ],
      "metadata": {
        "colab": {
          "base_uri": "https://localhost:8080/"
        },
        "id": "HCSoXyYsjyQZ",
        "outputId": "a8dad3e4-d1bc-441a-c7ee-5ad06b2c1f54"
      },
      "execution_count": 42,
      "outputs": [
        {
          "output_type": "stream",
          "name": "stdout",
          "text": [
            "\tAnthony Ponzo\n",
            "Anthony Ponzo\n",
            "Max Frank\n"
          ]
        }
      ]
    },
    {
      "cell_type": "code",
      "source": [
        "name = ' John Lyons '\n",
        "name.lstrip()"
      ],
      "metadata": {
        "colab": {
          "base_uri": "https://localhost:8080/",
          "height": 35
        },
        "id": "asnk8g5em2Lx",
        "outputId": "7ab73808-d5f8-49bb-d932-567d58b01acd"
      },
      "execution_count": 43,
      "outputs": [
        {
          "output_type": "execute_result",
          "data": {
            "text/plain": [
              "'John Lyons '"
            ],
            "application/vnd.google.colaboratory.intrinsic+json": {
              "type": "string"
            }
          },
          "metadata": {},
          "execution_count": 43
        }
      ]
    },
    {
      "cell_type": "code",
      "source": [
        "name = ' John Lyons '\n",
        "name.rstrip()"
      ],
      "metadata": {
        "colab": {
          "base_uri": "https://localhost:8080/",
          "height": 35
        },
        "id": "_VH3Nju2m_YK",
        "outputId": "9b28aa33-1e33-49c4-82da-ea214f520911"
      },
      "execution_count": 44,
      "outputs": [
        {
          "output_type": "execute_result",
          "data": {
            "text/plain": [
              "' John Lyons'"
            ],
            "application/vnd.google.colaboratory.intrinsic+json": {
              "type": "string"
            }
          },
          "metadata": {},
          "execution_count": 44
        }
      ]
    },
    {
      "cell_type": "code",
      "source": [
        "name = ' John Lyons '\n",
        "name.strip()"
      ],
      "metadata": {
        "colab": {
          "base_uri": "https://localhost:8080/",
          "height": 35
        },
        "id": "SI3-KchmnEdW",
        "outputId": "734d2d21-70bb-4c43-c50c-a42fd5959a56"
      },
      "execution_count": 45,
      "outputs": [
        {
          "output_type": "execute_result",
          "data": {
            "text/plain": [
              "'John Lyons'"
            ],
            "application/vnd.google.colaboratory.intrinsic+json": {
              "type": "string"
            }
          },
          "metadata": {},
          "execution_count": 45
        }
      ]
    },
    {
      "cell_type": "code",
      "source": [
        "print('Assignment3.ipynb'.removesuffix('.ipynb'))"
      ],
      "metadata": {
        "colab": {
          "base_uri": "https://localhost:8080/"
        },
        "id": "EmN5xEwAnJ0E",
        "outputId": "c98e2d58-775a-4464-82ef-a21acc221859"
      },
      "execution_count": 50,
      "outputs": [
        {
          "output_type": "stream",
          "name": "stdout",
          "text": [
            "Assignment3\n"
          ]
        }
      ]
    },
    {
      "cell_type": "code",
      "source": [
        "print(7+1)\n",
        "print(18-10)\n",
        "print(4*2)\n",
        "print(72/9)\n",
        "#every number should be an 8"
      ],
      "metadata": {
        "colab": {
          "base_uri": "https://localhost:8080/"
        },
        "id": "sHppv0ziozvn",
        "outputId": "3415bf9f-fc73-4c65-8784-f8d597fb7ad1"
      },
      "execution_count": 53,
      "outputs": [
        {
          "output_type": "stream",
          "name": "stdout",
          "text": [
            "8\n",
            "8\n",
            "8\n",
            "8.0\n"
          ]
        }
      ]
    },
    {
      "cell_type": "code",
      "source": [
        "favorite_number = \"24\"\n",
        "print(\"My favorite number is \" + favorite_number)"
      ],
      "metadata": {
        "colab": {
          "base_uri": "https://localhost:8080/"
        },
        "id": "lGbm9YvrpVjD",
        "outputId": "e3a079a3-7d08-474b-a900-cdede375a9ce"
      },
      "execution_count": 55,
      "outputs": [
        {
          "output_type": "stream",
          "name": "stdout",
          "text": [
            "My favorite number is 24\n"
          ]
        }
      ]
    },
    {
      "cell_type": "code",
      "source": [
        "import this\n",
        "\n"
      ],
      "metadata": {
        "colab": {
          "base_uri": "https://localhost:8080/"
        },
        "id": "NjlUHpO_pwpr",
        "outputId": "5732fc4b-9433-44c9-c935-455514363114"
      },
      "execution_count": 56,
      "outputs": [
        {
          "output_type": "stream",
          "name": "stdout",
          "text": [
            "The Zen of Python, by Tim Peters\n",
            "\n",
            "Beautiful is better than ugly.\n",
            "Explicit is better than implicit.\n",
            "Simple is better than complex.\n",
            "Complex is better than complicated.\n",
            "Flat is better than nested.\n",
            "Sparse is better than dense.\n",
            "Readability counts.\n",
            "Special cases aren't special enough to break the rules.\n",
            "Although practicality beats purity.\n",
            "Errors should never pass silently.\n",
            "Unless explicitly silenced.\n",
            "In the face of ambiguity, refuse the temptation to guess.\n",
            "There should be one-- and preferably only one --obvious way to do it.\n",
            "Although that way may not be obvious at first unless you're Dutch.\n",
            "Now is better than never.\n",
            "Although never is often better than *right* now.\n",
            "If the implementation is hard to explain, it's a bad idea.\n",
            "If the implementation is easy to explain, it may be a good idea.\n",
            "Namespaces are one honking great idea -- let's do more of those!\n"
          ]
        }
      ]
    }
  ]
}