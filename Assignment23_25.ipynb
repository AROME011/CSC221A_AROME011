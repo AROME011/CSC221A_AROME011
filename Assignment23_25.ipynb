{
  "nbformat": 4,
  "nbformat_minor": 0,
  "metadata": {
    "colab": {
      "provenance": [],
      "authorship_tag": "ABX9TyMhUIFMIVaMNbF52DTc2nCb",
      "include_colab_link": true
    },
    "kernelspec": {
      "name": "python3",
      "display_name": "Python 3"
    },
    "language_info": {
      "name": "python"
    }
  },
  "cells": [
    {
      "cell_type": "markdown",
      "metadata": {
        "id": "view-in-github",
        "colab_type": "text"
      },
      "source": [
        "<a href=\"https://colab.research.google.com/github/AROME011/CSC221A_AROME011/blob/main/Assignment23_25.ipynb\" target=\"_parent\"><img src=\"https://colab.research.google.com/assets/colab-badge.svg\" alt=\"Open In Colab\"/></a>"
      ]
    },
    {
      "cell_type": "markdown",
      "source": [
        "CSC221A\n",
        "Drew Romesser"
      ],
      "metadata": {
        "id": "uLj7NnuKrXw5"
      }
    },
    {
      "cell_type": "code",
      "execution_count": 3,
      "metadata": {
        "colab": {
          "base_uri": "https://localhost:8080/"
        },
        "id": "GhZ-PZU8kQPK",
        "outputId": "34e35d76-98e9-407a-a247-ed4453cfbecb"
      },
      "outputs": [
        {
          "output_type": "stream",
          "name": "stdout",
          "text": [
            "684\n"
          ]
        }
      ],
      "source": [
        "#Write and test a function that has only positional arguments: def func(a, b)\n",
        "def func(a, b):\n",
        "    return a + b\n",
        "result = func(444, 240)\n",
        "print(result)"
      ]
    },
    {
      "cell_type": "code",
      "source": [
        "#Write and test a function that has variadic arguments: def func(*s)\n",
        "def func(*x):\n",
        "    return sum(x)\n",
        "result = func(24, 4, 2, 7, 18)\n",
        "print(result)"
      ],
      "metadata": {
        "colab": {
          "base_uri": "https://localhost:8080/"
        },
        "id": "bEJ7Xq3mko0D",
        "outputId": "e9f0159a-e767-4754-def1-8411ef4c0b3e"
      },
      "execution_count": 7,
      "outputs": [
        {
          "output_type": "stream",
          "name": "stdout",
          "text": [
            "55\n"
          ]
        }
      ]
    },
    {
      "cell_type": "code",
      "source": [
        "#Write and test a function that uses only keyword arguments: def func(**kwargs)\n",
        "def func(**kwargs):\n",
        "    return kwargs.get('x') + kwargs.get('y')\n",
        "result = func(x=676, y=444)\n",
        "print(result)"
      ],
      "metadata": {
        "colab": {
          "base_uri": "https://localhost:8080/"
        },
        "id": "9AHreKy4lCgb",
        "outputId": "92b4728f-88bb-4a94-cb5e-478db4af1976"
      },
      "execution_count": 12,
      "outputs": [
        {
          "output_type": "stream",
          "name": "stdout",
          "text": [
            "1120\n"
          ]
        }
      ]
    },
    {
      "cell_type": "code",
      "source": [
        "#Write and test a function that accepts any inputs: def func(*args, **kwargs). The function should add or subtract all the *args based on a keyword operator='+' or operator='-'\n",
        "def func(operator='', *args, **kwargs):\n",
        "    if operator == '+':\n",
        "        return sum(args)\n",
        "    elif operator == '-':\n",
        "        return args[0] - sum(args[1:])\n",
        "    else:\n",
        "        raise ValueError(\"Incorrect typed operator, use '+' or '-'\")\n",
        "result_adding = func('+', 64, 629, 519)\n",
        "result_subtracting = func('-', 1420, 201, 303)\n",
        "\n",
        "print(result_adding)\n",
        "print(result_subtracting)"
      ],
      "metadata": {
        "colab": {
          "base_uri": "https://localhost:8080/"
        },
        "id": "UNsRlK8IlhFN",
        "outputId": "993134b9-5167-43b1-dc1d-df38a9e0abd5"
      },
      "execution_count": 20,
      "outputs": [
        {
          "output_type": "stream",
          "name": "stdout",
          "text": [
            "1212\n",
            "916\n"
          ]
        }
      ]
    },
    {
      "cell_type": "code",
      "source": [
        "#Create a global variable and then create a function that uses and changes its value.\n",
        "\n",
        "change_variable = 24\n",
        "\n",
        "def modify_change_variable(value):\n",
        "    global change_variable\n",
        "    change_variable += value\n",
        "\n",
        "modify_change_variable(240)\n",
        "print(change_variable)"
      ],
      "metadata": {
        "colab": {
          "base_uri": "https://localhost:8080/"
        },
        "id": "pGAjAdMCnLz6",
        "outputId": "c6b81242-e30d-4493-c6f9-e4af18206b96"
      },
      "execution_count": 25,
      "outputs": [
        {
          "output_type": "stream",
          "name": "stdout",
          "text": [
            "264\n"
          ]
        }
      ]
    },
    {
      "cell_type": "code",
      "source": [
        "#Create a lambda function that allows the use of sorted(...) such that words are sorted by the number of vowels they contain.\n",
        "car_brands = [\"ford\", \"chevy\", \"nissan\", \"toyota\", \"audi\", \"hyundai\", \"honda\"]\n",
        "\n",
        "count_vowels = lambda word: sum(1 for char in word if char.lower() in \"aeiou\")\n",
        "\n",
        "sorted_car_brands = sorted(car_brands, key=count_vowels)\n",
        "\n",
        "print(sorted_car_brands)"
      ],
      "metadata": {
        "colab": {
          "base_uri": "https://localhost:8080/"
        },
        "id": "EqgiL7t8n9WL",
        "outputId": "1c667a21-b146-407f-dcd9-e5933f279e49"
      },
      "execution_count": 27,
      "outputs": [
        {
          "output_type": "stream",
          "name": "stdout",
          "text": [
            "['ford', 'chevy', 'nissan', 'honda', 'toyota', 'audi', 'hyundai']\n"
          ]
        }
      ]
    },
    {
      "cell_type": "code",
      "source": [
        "#Write a decorator called logger() that appends the name of the function, all of its arguments, and its return value to a file called log.txt. Use some of your functions above to demonstrate how @logger works.\n",
        "def logger(func):\n",
        "    def wrapper(*args, **kwargs):\n",
        "        result = func(*args, **kwargs)\n",
        "        with open(\"log.txt\", \"a\") as log_file:\n",
        "            log_file.write(f\"{func.__name__}({args}, {kwargs}) -> {result}\\n\")\n",
        "        return result\n",
        "    return wrapper\n",
        "\n",
        "@logger\n",
        "def modify_change_variable(value):\n",
        "    global change_variable\n",
        "    change_variable += value\n",
        "    return change_variable\n",
        "\n",
        "@logger\n",
        "def sort_car_brands_by_vowels(terms):\n",
        "    count_vowels = lambda word: sum(1 for char in word if char.lower() in \"aeiou\")\n",
        "    return sorted(terms, key=count_vowels)\n",
        "\n",
        "modify_change_variable(24)\n",
        "sort_car_brands_by_vowels([\"ford\", \"chevy\", \"honda\", \"audi\"])\n",
        "\n",
        "with open(\"log.txt\", \"r\") as log_file:\n",
        "    print(log_file.read())\n",
        "\n"
      ],
      "metadata": {
        "colab": {
          "base_uri": "https://localhost:8080/"
        },
        "id": "QmBE4VhBokKc",
        "outputId": "ae6b5bbf-822d-4f87-d5f8-4a895b59124c"
      },
      "execution_count": 28,
      "outputs": [
        {
          "output_type": "stream",
          "name": "stdout",
          "text": [
            "modify_change_variable((24,), {}) -> 288\n",
            "sort_car_brands_by_vowels((['ford', 'chevy', 'honda', 'audi'],), {}) -> ['ford', 'chevy', 'honda', 'audi']\n",
            "\n"
          ]
        }
      ]
    },
    {
      "cell_type": "code",
      "source": [
        "#Show an example of how Python can be used to perform map, filter, and reduce operations.\n",
        "from functools import reduce\n",
        "\n",
        "numbers = [3, 6, 9, 12, 15, 18, 21, 24, 27, 30]\n",
        "\n",
        "squared_numbers = list(map(lambda x: x**2, numbers))\n",
        "print(\"Mapped (squared) numbers:\", squared_numbers)\n",
        "\n",
        "\n",
        "three_numbers = list(filter(lambda x: x % 3 == 0, numbers))\n",
        "print(\"Filtered (multiples of three) numbers:\", three_numbers)\n",
        "\n",
        "product_of_numbers = reduce(lambda x, y: x * y, numbers)\n",
        "print(\"Reduce result:\", product_of_numbers)"
      ],
      "metadata": {
        "colab": {
          "base_uri": "https://localhost:8080/"
        },
        "id": "8x5vuUxGpinz",
        "outputId": "8f753ced-dc48-443b-934a-631cb12502cc"
      },
      "execution_count": 33,
      "outputs": [
        {
          "output_type": "stream",
          "name": "stdout",
          "text": [
            "Mapped (squared) numbers: [9, 36, 81, 144, 225, 324, 441, 576, 729, 900]\n",
            "Filtered (multiples of three) numbers: [3, 6, 9, 12, 15, 18, 21, 24, 27, 30]\n",
            "Reduce result: 214277011200\n"
          ]
        }
      ]
    },
    {
      "cell_type": "code",
      "source": [
        "#Show how you can use exec(...) to make a simple calculator that runs in a loop and allows me to type in ant Python expression (like '5 + 3 - 8 / 12') and print the result by merely passing the expression to exec(...).\n",
        "while True:\n",
        "    expression = input(\"Input an expression ('exit' to end): \")\n",
        "\n",
        "    if expression.lower() == 'exit':\n",
        "        print(\"Calculator Ended.\")\n",
        "        break\n",
        "\n",
        "    try:\n",
        "        result = eval(expression)\n",
        "        print(\"Result:\", result)\n",
        "    except Exception as e:\n",
        "        print(\"Error:\", e)"
      ],
      "metadata": {
        "colab": {
          "base_uri": "https://localhost:8080/"
        },
        "id": "Lw3EXCUcq1GA",
        "outputId": "8fd3503d-2fde-45b4-c3cb-5611383298c6"
      },
      "execution_count": 35,
      "outputs": [
        {
          "output_type": "stream",
          "name": "stdout",
          "text": [
            "Input an expression ('exit' to end): 6+6\n",
            "Result: 12\n",
            "Input an expression ('exit' to end): exit\n",
            "Calculator Ended.\n"
          ]
        }
      ]
    }
  ]
}