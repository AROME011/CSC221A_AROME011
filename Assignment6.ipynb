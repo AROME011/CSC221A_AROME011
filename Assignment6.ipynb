{
  "nbformat": 4,
  "nbformat_minor": 0,
  "metadata": {
    "colab": {
      "provenance": [],
      "authorship_tag": "ABX9TyOe99I/VoBRxNsD4vKm1DfJ",
      "include_colab_link": true
    },
    "kernelspec": {
      "name": "python3",
      "display_name": "Python 3"
    },
    "language_info": {
      "name": "python"
    }
  },
  "cells": [
    {
      "cell_type": "markdown",
      "metadata": {
        "id": "view-in-github",
        "colab_type": "text"
      },
      "source": [
        "<a href=\"https://colab.research.google.com/github/AROME011/CSC221A_AROME011/blob/main/Assignment6.ipynb\" target=\"_parent\"><img src=\"https://colab.research.google.com/assets/colab-badge.svg\" alt=\"Open In Colab\"/></a>"
      ]
    },
    {
      "cell_type": "code",
      "execution_count": null,
      "metadata": {
        "colab": {
          "base_uri": "https://localhost:8080/"
        },
        "id": "ODs8mEsymcDg",
        "outputId": "9a5aa28e-5ae8-4fd2-d6c9-b8b91e93d6bf"
      },
      "outputs": [
        {
          "output_type": "stream",
          "name": "stdout",
          "text": [
            "Audi\n",
            "BMW\n",
            "Subaru\n",
            "Toyota\n"
          ]
        }
      ],
      "source": [
        "cars = ['audi', 'bmw', 'subaru', 'toyota']\n",
        "for car in cars:\n",
        "  if car == 'bmw':\n",
        "    print(car.upper())\n",
        "  else:\n",
        "    print(car.title())"
      ]
    },
    {
      "cell_type": "code",
      "source": [
        "car = 'bmw'\n",
        "car == 'bmw'"
      ],
      "metadata": {
        "colab": {
          "base_uri": "https://localhost:8080/"
        },
        "id": "ibzL5JAqoKyC",
        "outputId": "23e52ade-fcbc-4300-bb62-51d4af646b49"
      },
      "execution_count": null,
      "outputs": [
        {
          "output_type": "execute_result",
          "data": {
            "text/plain": [
              "True"
            ]
          },
          "metadata": {},
          "execution_count": 5
        }
      ]
    },
    {
      "cell_type": "code",
      "source": [
        "car = 'BMW'\n",
        "car.lower() == 'bmw'"
      ],
      "metadata": {
        "colab": {
          "base_uri": "https://localhost:8080/"
        },
        "id": "2EXf-NAwodIS",
        "outputId": "9b4a6a50-e02f-4e88-9752-356eefafa503"
      },
      "execution_count": null,
      "outputs": [
        {
          "output_type": "execute_result",
          "data": {
            "text/plain": [
              "True"
            ]
          },
          "metadata": {},
          "execution_count": 8
        }
      ]
    },
    {
      "cell_type": "code",
      "source": [
        "car"
      ],
      "metadata": {
        "colab": {
          "base_uri": "https://localhost:8080/",
          "height": 35
        },
        "id": "tZ2K4Je5o2ma",
        "outputId": "22b4a210-e233-4dcd-c76a-73218dbb425e"
      },
      "execution_count": null,
      "outputs": [
        {
          "output_type": "execute_result",
          "data": {
            "text/plain": [
              "'BMW'"
            ],
            "application/vnd.google.colaboratory.intrinsic+json": {
              "type": "string"
            }
          },
          "metadata": {},
          "execution_count": 9
        }
      ]
    },
    {
      "cell_type": "code",
      "source": [
        "requested_topping = 'mushroom'\n",
        "if requested_topping != 'anchovies':\n",
        "  print(\"Hold the anchovies!\")"
      ],
      "metadata": {
        "colab": {
          "base_uri": "https://localhost:8080/"
        },
        "id": "EORT9HfAp9l-",
        "outputId": "ac0f3026-7354-4b4f-9a90-7df0d8eaf430"
      },
      "execution_count": null,
      "outputs": [
        {
          "output_type": "stream",
          "name": "stdout",
          "text": [
            "Hold the anchovies!\n"
          ]
        }
      ]
    },
    {
      "cell_type": "code",
      "source": [
        "answer = 17\n",
        "if answer != 42:\n",
        "  print(\"That is not right, Please try again!\")"
      ],
      "metadata": {
        "colab": {
          "base_uri": "https://localhost:8080/"
        },
        "id": "EfscwWoHr6Ja",
        "outputId": "256576bb-0f39-4e57-f116-ee7ac5e97b01"
      },
      "execution_count": null,
      "outputs": [
        {
          "output_type": "stream",
          "name": "stdout",
          "text": [
            "That is not right, Please try again!\n"
          ]
        }
      ]
    },
    {
      "cell_type": "code",
      "source": [
        "age_0 = 22\n",
        "age_1 = 18\n",
        "age_0 >= 21 and age_1 >= 21"
      ],
      "metadata": {
        "colab": {
          "base_uri": "https://localhost:8080/"
        },
        "id": "UEeNNWiAsHz1",
        "outputId": "aa2290b7-69ce-472c-8ddb-d04018f1c65f"
      },
      "execution_count": null,
      "outputs": [
        {
          "output_type": "execute_result",
          "data": {
            "text/plain": [
              "False"
            ]
          },
          "metadata": {},
          "execution_count": 13
        }
      ]
    },
    {
      "cell_type": "code",
      "source": [
        "age_1 = 22\n",
        "age_0 >= 21 and age_1 >= 21"
      ],
      "metadata": {
        "colab": {
          "base_uri": "https://localhost:8080/"
        },
        "id": "XBsZi7T7sVnX",
        "outputId": "86710ab6-de21-4f5c-80f3-86bcf4d2b12f"
      },
      "execution_count": null,
      "outputs": [
        {
          "output_type": "execute_result",
          "data": {
            "text/plain": [
              "True"
            ]
          },
          "metadata": {},
          "execution_count": 14
        }
      ]
    },
    {
      "cell_type": "code",
      "source": [
        "age_1 = 18\n",
        "age_0 >= 21 or age_1 >= 21"
      ],
      "metadata": {
        "colab": {
          "base_uri": "https://localhost:8080/"
        },
        "id": "WkvM7YbruIeM",
        "outputId": "2b03034f-346f-401a-8354-0f1778603baa"
      },
      "execution_count": null,
      "outputs": [
        {
          "output_type": "execute_result",
          "data": {
            "text/plain": [
              "True"
            ]
          },
          "metadata": {},
          "execution_count": 16
        }
      ]
    },
    {
      "cell_type": "code",
      "source": [
        "requested_topping = 'mushroom'\n",
        "'mushroom' in requested_topping"
      ],
      "metadata": {
        "colab": {
          "base_uri": "https://localhost:8080/"
        },
        "id": "e6CPQxjOucoh",
        "outputId": "ecfdb84d-e067-4152-8885-c6cc8c67da07"
      },
      "execution_count": null,
      "outputs": [
        {
          "output_type": "execute_result",
          "data": {
            "text/plain": [
              "True"
            ]
          },
          "metadata": {},
          "execution_count": 17
        }
      ]
    },
    {
      "cell_type": "code",
      "source": [
        "requested_topping = 'mushroom'\n",
        "'pepperoni' in requested_topping"
      ],
      "metadata": {
        "colab": {
          "base_uri": "https://localhost:8080/"
        },
        "id": "1yzSug3iukI7",
        "outputId": "3c9accdc-fd03-4cad-ee96-f0062ef96b20"
      },
      "execution_count": null,
      "outputs": [
        {
          "output_type": "execute_result",
          "data": {
            "text/plain": [
              "False"
            ]
          },
          "metadata": {},
          "execution_count": 18
        }
      ]
    },
    {
      "cell_type": "code",
      "source": [
        "banned_users = ['andrew', 'caroline', 'david']\n",
        "user = 'marie'\n",
        "if user not in banned_users:\n",
        "  print(f\"{user.title()}, you may post a reponse as you wish\")"
      ],
      "metadata": {
        "colab": {
          "base_uri": "https://localhost:8080/"
        },
        "id": "Jn5ISzcxvC9b",
        "outputId": "8ee01f12-7783-42a0-edd8-ad8ad4b89d9e"
      },
      "execution_count": null,
      "outputs": [
        {
          "output_type": "stream",
          "name": "stdout",
          "text": [
            "Marie, you may post a reponse as you wish\n"
          ]
        }
      ]
    },
    {
      "cell_type": "code",
      "source": [
        "goodsport = 'baseball'\n",
        "print(\"Is goodsport == 'baseball'? I think yes \")\n",
        "print(goodsport == 'baseball')\n",
        "print(\"\\nIs goodsport == 'swimming'? I think no \")\n",
        "print(goodsport == 'swimming')\n",
        "print(\"\\nIs goodsport == 'baseball' or 'golf'? I think yes \")\n",
        "print(goodsport == ('baseball' or 'golf') )\n",
        "print(\"\\nIs goodsport == 'soccer' or 'basketball'? I think no \")\n",
        "print(goodsport == ('basketball' or 'soccer') )\n",
        "print(\"\\nIs goodsport == 'baseball' and 'tennis' ? I think no \")\n",
        "print(goodsport == ('baseball' and 'tennis'))\n",
        "soccer = \"no\"\n",
        "baseball = \"yes\"\n",
        "print(\"\\nAre baseball and soccer the same thing?\")\n",
        "print(baseball == soccer)\n",
        "baseball = 6\n",
        "soccer = 4\n",
        "print(\"\\nIs baseball better than soccer?\")\n",
        "baseball != soccer\n",
        "print(\"\\nWhich is better?\")\n",
        "print(goodsport.lower())\n",
        "sports = ['golf', 'baseball', 'basketball', 'soccer']\n",
        "print(\"\\nBaseball is the best\")\n",
        "print('baseball' in sports)\n",
        "print(\"\\nLacrosse is the best\")\n",
        "print('lacrosse' in sports)\n"
      ],
      "metadata": {
        "colab": {
          "base_uri": "https://localhost:8080/"
        },
        "id": "di2TOBYwvmS9",
        "outputId": "481a3131-d16e-4a36-fabe-7c7dec2be978"
      },
      "execution_count": 17,
      "outputs": [
        {
          "output_type": "stream",
          "name": "stdout",
          "text": [
            "Is goodsport == 'baseball'? I think yes \n",
            "True\n",
            "\n",
            "Is goodsport == 'swimming'? I think no \n",
            "False\n",
            "\n",
            "Is goodsport == 'baseball' or 'golf'? I think yes \n",
            "True\n",
            "\n",
            "Is goodsport == 'soccer' or 'basketball'? I think no \n",
            "False\n",
            "\n",
            "Is goodsport == 'baseball' and 'tennis' ? I think no \n",
            "False\n",
            "\n",
            "Are baseball and soccer the same thing?\n",
            "False\n",
            "\n",
            "Is baseball better than soccer?\n",
            "\n",
            "Which is better?\n",
            "baseball\n",
            "\n",
            "Baseball is the best\n",
            "True\n",
            "\n",
            "Lacrosse is the best\n",
            "False\n"
          ]
        }
      ]
    },
    {
      "cell_type": "code",
      "source": [
        "age = 19\n",
        "if age >= 18:\n",
        "  print(\"You are old enough to vote!\")\n",
        "  print(\"Have you registered to vote?\")\n",
        "else:\n",
        "  print(\"Sorry, you are too young to vote.\")\n",
        "  print(\"Please register to vote as soon as you turn 18!\")"
      ],
      "metadata": {
        "colab": {
          "base_uri": "https://localhost:8080/"
        },
        "id": "PSfX7fhUclZa",
        "outputId": "f85053f4-817b-41a2-fa46-6bacd13110dc"
      },
      "execution_count": 18,
      "outputs": [
        {
          "output_type": "stream",
          "name": "stdout",
          "text": [
            "You are old enough to vote!\n",
            "Have you registered to vote?\n"
          ]
        }
      ]
    },
    {
      "cell_type": "code",
      "source": [
        "age = 17\n",
        "if age >= 18:\n",
        "  print(\"You are old enough to vote!\")\n",
        "  print(\"Have you registered to vote?\")\n",
        "else:\n",
        "  print(\"Sorry, you are too young to vote.\")\n",
        "  print(\"Please register to vote as soon as you turn 18!\")"
      ],
      "metadata": {
        "colab": {
          "base_uri": "https://localhost:8080/"
        },
        "id": "fnEdYOw7dE_e",
        "outputId": "f528d382-4fe3-43e6-9a72-20a26087f3a8"
      },
      "execution_count": 19,
      "outputs": [
        {
          "output_type": "stream",
          "name": "stdout",
          "text": [
            "Sorry, you are too young to vote.\n",
            "Please register to vote as soon as you turn 18!\n"
          ]
        }
      ]
    },
    {
      "cell_type": "code",
      "source": [
        "age = 67\n",
        "if age < 4:\n",
        "  price = 0\n",
        "elif age < 18:\n",
        "  price = 25\n",
        "elif age < 65:\n",
        "  price = 40\n",
        "else:\n",
        "  price = 20\n",
        "print(f\"Your admission cost is ${price}.\")"
      ],
      "metadata": {
        "colab": {
          "base_uri": "https://localhost:8080/"
        },
        "id": "HEVORHdvdP67",
        "outputId": "494e4033-2fea-4a01-f7db-bca293df7be2"
      },
      "execution_count": 23,
      "outputs": [
        {
          "output_type": "stream",
          "name": "stdout",
          "text": [
            "Your admission cost is $20.\n"
          ]
        }
      ]
    },
    {
      "cell_type": "code",
      "source": [
        "requested_toppings = ['mushrooms', 'extra cheese']\n",
        "if 'mushrooms' in requested_toppings:\n",
        "  print(\"Adding Mushrooms.\")\n",
        "if 'pepperoni'in requested_toppings:\n",
        "  print(\"Adding Pepperoni.\")\n",
        "if 'extra cheese' in requested_toppings:\n",
        "  print(\"Adding extra cheese.\")\n",
        "print(\"\\nFinished making your pizza\")\n"
      ],
      "metadata": {
        "colab": {
          "base_uri": "https://localhost:8080/"
        },
        "id": "DCV8mchUe65c",
        "outputId": "0c6696f0-b11e-4c06-b053-ff9402e35455"
      },
      "execution_count": 25,
      "outputs": [
        {
          "output_type": "stream",
          "name": "stdout",
          "text": [
            "Adding Mushrooms.\n",
            "\n",
            "Finished making your pizza\n"
          ]
        }
      ]
    },
    {
      "cell_type": "code",
      "source": [
        "alien_color = 'green'\n",
        "points = 0\n",
        "print(f\"You have {points} points!\")\n",
        "if alien_color == 'green':\n",
        "  print(\"You have gained 5 points!\")\n",
        "  points = (points + 5)\n",
        "  print(f\"You have {points} points!\")\n",
        "if alien_color == 'yellow':\n",
        "  points = (points + 0)\n",
        "\n"
      ],
      "metadata": {
        "colab": {
          "base_uri": "https://localhost:8080/"
        },
        "id": "MIjXxjVagZjw",
        "outputId": "f3b5643a-2d35-4098-bdd6-1f2e937e5213"
      },
      "execution_count": 30,
      "outputs": [
        {
          "output_type": "stream",
          "name": "stdout",
          "text": [
            "You have 0 points!\n",
            "You have gained 5 points!\n",
            "You have 5 points!\n"
          ]
        }
      ]
    },
    {
      "cell_type": "code",
      "source": [
        "age = 24\n",
        "if age < 2:\n",
        "  print(\"You are a baby\")\n",
        "elif age < 4:\n",
        "  print(\"You are a toddler\")\n",
        "elif age < 13:\n",
        "  print(\"You are a kid\")\n",
        "elif age < 20:\n",
        "  print(\"You are a teenager\")\n",
        "elif age < 65:\n",
        "  print(\"You are an adult\")\n",
        "elif age >= 65:\n",
        "  print(\"You are an elder\")"
      ],
      "metadata": {
        "colab": {
          "base_uri": "https://localhost:8080/"
        },
        "id": "-VUDOAgbhozk",
        "outputId": "919bc19f-e6ef-4ad8-fecf-e5496a2bd59b"
      },
      "execution_count": 42,
      "outputs": [
        {
          "output_type": "stream",
          "name": "stdout",
          "text": [
            "You are an adult\n"
          ]
        }
      ]
    },
    {
      "cell_type": "code",
      "source": [
        "requested_toppings = ['mushrooms', 'green peppers', 'extra cheese']\n",
        "for topping in requested_toppings:\n",
        "  print(f\"Adding {topping}.\")\n",
        "print(\"\\nFinished making your pizza\")\n"
      ],
      "metadata": {
        "colab": {
          "base_uri": "https://localhost:8080/"
        },
        "id": "RpK4Meg_jfPA",
        "outputId": "a8983e87-4447-45e7-dd94-c1c865e18847"
      },
      "execution_count": 43,
      "outputs": [
        {
          "output_type": "stream",
          "name": "stdout",
          "text": [
            "Adding mushrooms.\n",
            "Adding green peppers.\n",
            "Adding extra cheese.\n",
            "\n",
            "Finished making your pizza\n"
          ]
        }
      ]
    },
    {
      "cell_type": "code",
      "source": [
        "requested_toppings = ['mushrooms', 'green peppers', 'extra cheese']\n",
        "for topping in requested_toppings:\n",
        "  if topping == 'green peppers':\n",
        "    print(\"Sorry, we are out of green peppers\")\n",
        "  else:\n",
        "    print(f\"Adding {topping}.\")\n",
        "print(\"\\nFinished making your pizza\")\n"
      ],
      "metadata": {
        "colab": {
          "base_uri": "https://localhost:8080/"
        },
        "id": "YYPnPhKjkhx5",
        "outputId": "28711b85-37f1-4d04-cf12-e7b77404f9a3"
      },
      "execution_count": 45,
      "outputs": [
        {
          "output_type": "stream",
          "name": "stdout",
          "text": [
            "Adding mushrooms.\n",
            "Sorry, we are out of green peppers\n",
            "Adding extra cheese.\n",
            "\n",
            "Finished making your pizza\n"
          ]
        }
      ]
    },
    {
      "cell_type": "code",
      "source": [
        "requested_toppings = []\n",
        "if requested_toppings:\n",
        "  for topping in requested_toppings:\n",
        "    print(f\"Adding {topping}.\")\n",
        "  print(\"\\nFinished making your pizza\")\n",
        "else:\n",
        "  print(\"Are you sure you want a plain pizza?\")\n"
      ],
      "metadata": {
        "colab": {
          "base_uri": "https://localhost:8080/"
        },
        "id": "fAc5cAiOlKca",
        "outputId": "d3cb0619-c3e5-4cd5-cc43-bdbf023326b5"
      },
      "execution_count": 47,
      "outputs": [
        {
          "output_type": "stream",
          "name": "stdout",
          "text": [
            "Are you sure you want a plain pizza?\n"
          ]
        }
      ]
    },
    {
      "cell_type": "code",
      "source": [
        "available_toppings = ['mushrooms', 'olives', 'green peppers', 'pepperoni', 'pineapple', 'extra cheese']\n",
        "requested_toppings = ['mushrooms', 'french fries', 'extra cheese']\n",
        "for topping in requested_toppings:\n",
        "  if topping in available_toppings:\n",
        "    print(f\"Adding {topping}.\")\n",
        "  else:\n",
        "    print(f\"Sorry, we don't have {topping}.\")\n",
        "\n",
        "print(\"\\nFinished making your pizza\")\n"
      ],
      "metadata": {
        "colab": {
          "base_uri": "https://localhost:8080/"
        },
        "id": "xSjjeTUImnSh",
        "outputId": "5e72568f-745c-4989-fe29-76448d855464"
      },
      "execution_count": 49,
      "outputs": [
        {
          "output_type": "stream",
          "name": "stdout",
          "text": [
            "Adding mushrooms.\n",
            "Sorry, we don't have french fries.\n",
            "Adding extra cheese.\n",
            "\n",
            "Finished making your pizza\n"
          ]
        }
      ]
    },
    {
      "cell_type": "code",
      "source": [
        "points = 0\n",
        "question1 = input(\"Who won the most recent Superbowl? \")\n",
        "if question1 == 'Chiefs' or 'chiefs':\n",
        "  print(\"That's right!\")\n",
        "  points = (points + 1)\n",
        "else:\n",
        "  print(\"Not quite\")\n",
        "question2 = input(\"Who won the most recent World Series? \")\n",
        "if question2 == 'Astros' or 'astros':\n",
        "  print(\"That's right!\")\n",
        "  points = (points + 1)\n",
        "else:\n",
        "  print(\"Not quite\")\n",
        "question3 = input(\"Who won the most recent Stanley Cup? \")\n",
        "if question3 == 'Golden Knights' or 'golden knights':\n",
        "  print(\"That's right!\")\n",
        "  points = (points + 1)\n",
        "else:\n",
        "  print(\"Not quite\")\n",
        "question4 = input(\"Who won the most recent NBA Championship? \")\n",
        "if question4 == 'Nuggets' or 'nuggets':\n",
        "  print(\"That's right!\")\n",
        "  points = (points + 1)\n",
        "else:\n",
        "  print(\"Not quite\")\n",
        "print(f\"You have finished with {points} points\")\n",
        "\n",
        "\n"
      ],
      "metadata": {
        "colab": {
          "base_uri": "https://localhost:8080/",
          "height": 460
        },
        "id": "QUGu6F1Qnz77",
        "outputId": "c6f58ebc-cc81-43e5-e54a-61bca7826eb5"
      },
      "execution_count": 51,
      "outputs": [
        {
          "output_type": "stream",
          "name": "stdout",
          "text": [
            "Who won the most recent Superbowl? bills\n",
            "That's right!\n",
            "Who won the most recent World Series? braves\n",
            "That's right!\n"
          ]
        },
        {
          "output_type": "error",
          "ename": "KeyboardInterrupt",
          "evalue": "ignored",
          "traceback": [
            "\u001b[0;31m---------------------------------------------------------------------------\u001b[0m",
            "\u001b[0;31mKeyboardInterrupt\u001b[0m                         Traceback (most recent call last)",
            "\u001b[0;32m<ipython-input-51-e7965909b292>\u001b[0m in \u001b[0;36m<cell line: 14>\u001b[0;34m()\u001b[0m\n\u001b[1;32m     12\u001b[0m \u001b[0;32melse\u001b[0m\u001b[0;34m:\u001b[0m\u001b[0;34m\u001b[0m\u001b[0;34m\u001b[0m\u001b[0m\n\u001b[1;32m     13\u001b[0m   \u001b[0mprint\u001b[0m\u001b[0;34m(\u001b[0m\u001b[0;34m\"Not quite\"\u001b[0m\u001b[0;34m)\u001b[0m\u001b[0;34m\u001b[0m\u001b[0;34m\u001b[0m\u001b[0m\n\u001b[0;32m---> 14\u001b[0;31m \u001b[0mquestion3\u001b[0m \u001b[0;34m=\u001b[0m \u001b[0minput\u001b[0m\u001b[0;34m(\u001b[0m\u001b[0;34m\"Who won the most recent Stanley Cup? \"\u001b[0m\u001b[0;34m)\u001b[0m\u001b[0;34m\u001b[0m\u001b[0;34m\u001b[0m\u001b[0m\n\u001b[0m\u001b[1;32m     15\u001b[0m \u001b[0;32mif\u001b[0m \u001b[0mquestion3\u001b[0m \u001b[0;34m==\u001b[0m \u001b[0;34m'Golden Knights'\u001b[0m \u001b[0;32mor\u001b[0m \u001b[0;34m'golden knights'\u001b[0m\u001b[0;34m:\u001b[0m\u001b[0;34m\u001b[0m\u001b[0;34m\u001b[0m\u001b[0m\n\u001b[1;32m     16\u001b[0m   \u001b[0mprint\u001b[0m\u001b[0;34m(\u001b[0m\u001b[0;34m\"That's right!\"\u001b[0m\u001b[0;34m)\u001b[0m\u001b[0;34m\u001b[0m\u001b[0;34m\u001b[0m\u001b[0m\n",
            "\u001b[0;32m/usr/local/lib/python3.10/dist-packages/ipykernel/kernelbase.py\u001b[0m in \u001b[0;36mraw_input\u001b[0;34m(self, prompt)\u001b[0m\n\u001b[1;32m    849\u001b[0m                 \u001b[0;34m\"raw_input was called, but this frontend does not support input requests.\"\u001b[0m\u001b[0;34m\u001b[0m\u001b[0;34m\u001b[0m\u001b[0m\n\u001b[1;32m    850\u001b[0m             )\n\u001b[0;32m--> 851\u001b[0;31m         return self._input_request(str(prompt),\n\u001b[0m\u001b[1;32m    852\u001b[0m             \u001b[0mself\u001b[0m\u001b[0;34m.\u001b[0m\u001b[0m_parent_ident\u001b[0m\u001b[0;34m,\u001b[0m\u001b[0;34m\u001b[0m\u001b[0;34m\u001b[0m\u001b[0m\n\u001b[1;32m    853\u001b[0m             \u001b[0mself\u001b[0m\u001b[0;34m.\u001b[0m\u001b[0m_parent_header\u001b[0m\u001b[0;34m,\u001b[0m\u001b[0;34m\u001b[0m\u001b[0;34m\u001b[0m\u001b[0m\n",
            "\u001b[0;32m/usr/local/lib/python3.10/dist-packages/ipykernel/kernelbase.py\u001b[0m in \u001b[0;36m_input_request\u001b[0;34m(self, prompt, ident, parent, password)\u001b[0m\n\u001b[1;32m    893\u001b[0m             \u001b[0;32mexcept\u001b[0m \u001b[0mKeyboardInterrupt\u001b[0m\u001b[0;34m:\u001b[0m\u001b[0;34m\u001b[0m\u001b[0;34m\u001b[0m\u001b[0m\n\u001b[1;32m    894\u001b[0m                 \u001b[0;31m# re-raise KeyboardInterrupt, to truncate traceback\u001b[0m\u001b[0;34m\u001b[0m\u001b[0;34m\u001b[0m\u001b[0m\n\u001b[0;32m--> 895\u001b[0;31m                 \u001b[0;32mraise\u001b[0m \u001b[0mKeyboardInterrupt\u001b[0m\u001b[0;34m(\u001b[0m\u001b[0;34m\"Interrupted by user\"\u001b[0m\u001b[0;34m)\u001b[0m \u001b[0;32mfrom\u001b[0m \u001b[0;32mNone\u001b[0m\u001b[0;34m\u001b[0m\u001b[0;34m\u001b[0m\u001b[0m\n\u001b[0m\u001b[1;32m    896\u001b[0m             \u001b[0;32mexcept\u001b[0m \u001b[0mException\u001b[0m \u001b[0;32mas\u001b[0m \u001b[0me\u001b[0m\u001b[0;34m:\u001b[0m\u001b[0;34m\u001b[0m\u001b[0;34m\u001b[0m\u001b[0m\n\u001b[1;32m    897\u001b[0m                 \u001b[0mself\u001b[0m\u001b[0;34m.\u001b[0m\u001b[0mlog\u001b[0m\u001b[0;34m.\u001b[0m\u001b[0mwarning\u001b[0m\u001b[0;34m(\u001b[0m\u001b[0;34m\"Invalid Message:\"\u001b[0m\u001b[0;34m,\u001b[0m \u001b[0mexc_info\u001b[0m\u001b[0;34m=\u001b[0m\u001b[0;32mTrue\u001b[0m\u001b[0;34m)\u001b[0m\u001b[0;34m\u001b[0m\u001b[0;34m\u001b[0m\u001b[0m\n",
            "\u001b[0;31mKeyboardInterrupt\u001b[0m: Interrupted by user"
          ]
        }
      ]
    }
  ]
}