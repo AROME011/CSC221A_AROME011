{
  "nbformat": 4,
  "nbformat_minor": 0,
  "metadata": {
    "colab": {
      "provenance": [],
      "authorship_tag": "ABX9TyOpTzKeo7FQiGtJEtHOg3Rv",
      "include_colab_link": true
    },
    "kernelspec": {
      "name": "python3",
      "display_name": "Python 3"
    },
    "language_info": {
      "name": "python"
    }
  },
  "cells": [
    {
      "cell_type": "markdown",
      "metadata": {
        "id": "view-in-github",
        "colab_type": "text"
      },
      "source": [
        "<a href=\"https://colab.research.google.com/github/AROME011/CSC221A_AROME011/blob/main/Assignment8.ipynb\" target=\"_parent\"><img src=\"https://colab.research.google.com/assets/colab-badge.svg\" alt=\"Open In Colab\"/></a>"
      ]
    },
    {
      "cell_type": "code",
      "execution_count": null,
      "metadata": {
        "colab": {
          "base_uri": "https://localhost:8080/"
        },
        "id": "Ilds60dVXDSp",
        "outputId": "f8a8382b-aa3f-4bd9-acef-924111ef958b"
      },
      "outputs": [
        {
          "output_type": "stream",
          "name": "stdout",
          "text": [
            "Tell me something, and I will repeat it back to you!Hi bob\n",
            "Hi bob\n"
          ]
        }
      ],
      "source": [
        "message = input(\"Tell me something, and I will repeat it back to you!\")\n",
        "print(message)"
      ]
    },
    {
      "cell_type": "code",
      "source": [
        "name = input(\"Please enter your name: \")\n",
        "print(f\"Hello {name}\")"
      ],
      "metadata": {
        "colab": {
          "base_uri": "https://localhost:8080/"
        },
        "id": "DsSOiV6LXlkx",
        "outputId": "448f6049-7329-4cad-df34-ffd132be7792"
      },
      "execution_count": null,
      "outputs": [
        {
          "output_type": "stream",
          "name": "stdout",
          "text": [
            "Please enter your name: Drew\n",
            "Hello Drew\n"
          ]
        }
      ]
    },
    {
      "cell_type": "code",
      "source": [
        "prompt = \"If you share your name we can personalize the messages you see\"\n",
        "prompt += \"\\nWhat is your first name? \"\n",
        "name = input(prompt)\n",
        "print(f\"Hello {name}\")"
      ],
      "metadata": {
        "colab": {
          "base_uri": "https://localhost:8080/"
        },
        "id": "2GdT4mBfYFch",
        "outputId": "1f1ebabc-6060-4577-85c2-870b0f2897a1"
      },
      "execution_count": null,
      "outputs": [
        {
          "output_type": "stream",
          "name": "stdout",
          "text": [
            "If you share your name we can personalize the messages you see\n",
            "What is your first name? Drew\n",
            "Hello Drew\n"
          ]
        }
      ]
    },
    {
      "cell_type": "code",
      "source": [
        "age = input(\"How old are you? \")\n",
        "age = int(age)\n",
        "age >= 17\n"
      ],
      "metadata": {
        "colab": {
          "base_uri": "https://localhost:8080/"
        },
        "id": "7IHiigy8ZKHL",
        "outputId": "77f8ca32-c396-4921-8bce-26f76c0ec477"
      },
      "execution_count": null,
      "outputs": [
        {
          "name": "stdout",
          "output_type": "stream",
          "text": [
            "How old are you? 18\n"
          ]
        },
        {
          "output_type": "execute_result",
          "data": {
            "text/plain": [
              "True"
            ]
          },
          "metadata": {},
          "execution_count": 9
        }
      ]
    },
    {
      "cell_type": "code",
      "source": [
        "height = input(\"How tall are you in inches? \")\n",
        "height = int(height)\n",
        "if height >= 48:\n",
        "  print(\"\\nYou are tall enough to ride!\")\n",
        "else:\n",
        "  print(\"\\nYou will be able to ride when you are a little older!\")"
      ],
      "metadata": {
        "colab": {
          "base_uri": "https://localhost:8080/"
        },
        "id": "SlPaMkRoZ2ok",
        "outputId": "3bfd0ddc-e71a-4ca9-83b7-9c47a50af2a0"
      },
      "execution_count": null,
      "outputs": [
        {
          "output_type": "stream",
          "name": "stdout",
          "text": [
            "How tall are you in inches? 68\n",
            "\n",
            "You are tall enough to ride!\n"
          ]
        }
      ]
    },
    {
      "cell_type": "code",
      "source": [
        "4 % 3"
      ],
      "metadata": {
        "colab": {
          "base_uri": "https://localhost:8080/"
        },
        "id": "kKKfukpVafx1",
        "outputId": "9ddbfc06-504c-4bf2-9be7-3c2894cde230"
      },
      "execution_count": null,
      "outputs": [
        {
          "output_type": "execute_result",
          "data": {
            "text/plain": [
              "1"
            ]
          },
          "metadata": {},
          "execution_count": 16
        }
      ]
    },
    {
      "cell_type": "code",
      "source": [
        "6 % 3"
      ],
      "metadata": {
        "colab": {
          "base_uri": "https://localhost:8080/"
        },
        "id": "Nyu_ADs1aojE",
        "outputId": "9c98b9e9-9471-4caf-b985-e2455d3bf921"
      },
      "execution_count": null,
      "outputs": [
        {
          "output_type": "execute_result",
          "data": {
            "text/plain": [
              "0"
            ]
          },
          "metadata": {},
          "execution_count": 17
        }
      ]
    },
    {
      "cell_type": "code",
      "source": [
        "5 % 3"
      ],
      "metadata": {
        "colab": {
          "base_uri": "https://localhost:8080/"
        },
        "id": "yrZI28Dkaqvs",
        "outputId": "270da469-c3aa-4866-8148-3bfb919c4a41"
      },
      "execution_count": null,
      "outputs": [
        {
          "output_type": "execute_result",
          "data": {
            "text/plain": [
              "2"
            ]
          },
          "metadata": {},
          "execution_count": 18
        }
      ]
    },
    {
      "cell_type": "code",
      "source": [
        "7 % 3"
      ],
      "metadata": {
        "colab": {
          "base_uri": "https://localhost:8080/"
        },
        "id": "zc8sNKWeat7s",
        "outputId": "f92f37f8-b888-447c-9d75-adaf1a90ca1a"
      },
      "execution_count": null,
      "outputs": [
        {
          "output_type": "execute_result",
          "data": {
            "text/plain": [
              "1"
            ]
          },
          "metadata": {},
          "execution_count": 19
        }
      ]
    },
    {
      "cell_type": "code",
      "source": [
        "number = input(\"Enter a number, and I will tell you if it is even or odd. \")\n",
        "number = int(number)\n",
        "if number % 2 == 0:\n",
        "  print(f\"\\nThe number {number} is even.\")\n",
        "else:\n",
        "  print(f\"\\n The number {number} is odd.\")"
      ],
      "metadata": {
        "colab": {
          "base_uri": "https://localhost:8080/"
        },
        "id": "5V61A6JQa0gz",
        "outputId": "dd78dd1e-60df-43ab-ed15-7b9a455456c2"
      },
      "execution_count": null,
      "outputs": [
        {
          "output_type": "stream",
          "name": "stdout",
          "text": [
            "Enter a number, and I will tell you if it is even or odd. 98\n",
            "\n",
            "The number 98 is even.\n"
          ]
        }
      ]
    },
    {
      "cell_type": "code",
      "source": [
        "question = \"Welcome to the car rental agency of SUNY Plattsburgh\"\n",
        "question += \"\\nWhat kind of car would you like? \"\n",
        "car = input(question)\n",
        "print(f\"Let me see if we have a {car}\")\n"
      ],
      "metadata": {
        "colab": {
          "base_uri": "https://localhost:8080/"
        },
        "id": "zfwxR7iPbiZN",
        "outputId": "12754d88-d063-4ad8-d13b-1fdb31ad390e"
      },
      "execution_count": null,
      "outputs": [
        {
          "output_type": "stream",
          "name": "stdout",
          "text": [
            "Welcome to the car rental agency of SUNY Plattsburgh\n",
            "What kind of car would you like? Toyota\n",
            "Let me see if we have a Toyota\n"
          ]
        }
      ]
    },
    {
      "cell_type": "code",
      "source": [
        "number = input(\"Pick a number and I will tell you if it is a multiple of 10. \")\n",
        "number = int(number)\n",
        "if number % 10 == 0:\n",
        "  print(f\"\\nThe number {number} is a multiple of 10. \")\n",
        "else:\n",
        "  print(f\"\\nThe number {number} is not a multiple of 10.\")"
      ],
      "metadata": {
        "colab": {
          "base_uri": "https://localhost:8080/"
        },
        "id": "MVvBchpEc2MG",
        "outputId": "3dbd9b55-f7c1-45ff-91e7-e956e60ed1e8"
      },
      "execution_count": null,
      "outputs": [
        {
          "output_type": "stream",
          "name": "stdout",
          "text": [
            "Pick a number and I will tell you if it is a multiple of 10. 950\n",
            "\n",
            "The number 950 is a multiple of 10. \n"
          ]
        }
      ]
    },
    {
      "cell_type": "code",
      "source": [
        "current_number = 1\n",
        "while current_number <= 5:\n",
        "  print(current_number)\n",
        "  current_number += 1\n"
      ],
      "metadata": {
        "colab": {
          "base_uri": "https://localhost:8080/"
        },
        "id": "tKcPijPYKrlh",
        "outputId": "1eed11be-dd95-4bce-cb5f-033dd89c30a1"
      },
      "execution_count": null,
      "outputs": [
        {
          "output_type": "stream",
          "name": "stdout",
          "text": [
            "1\n",
            "2\n",
            "3\n",
            "4\n",
            "5\n"
          ]
        }
      ]
    },
    {
      "cell_type": "code",
      "source": [
        "prompt = \"\\nTell me something, and I will repeat it back to you:\"\n",
        "prompt += \"\\nEnter 'quit' to end the program. \"\n",
        "message = \"\\n\"\n",
        "while message != 'quit':\n",
        "  message = input(prompt)\n",
        "  if message != 'quit':\n",
        "    print(message)"
      ],
      "metadata": {
        "colab": {
          "base_uri": "https://localhost:8080/"
        },
        "id": "ybme28YNLLle",
        "outputId": "b848aaf2-cbc8-440c-f10c-820c66281ad1"
      },
      "execution_count": null,
      "outputs": [
        {
          "name": "stdout",
          "output_type": "stream",
          "text": [
            "\n",
            "Tell me something, and I will repeat it back to you:\n",
            "Enter 'quit' to end the program. hey ponzo\n",
            "hey ponzo\n",
            "\n",
            "Tell me something, and I will repeat it back to you:\n",
            "Enter 'quit' to end the program. quit\n"
          ]
        }
      ]
    },
    {
      "cell_type": "code",
      "source": [
        "prompt = \"\\nTell me something, and I will repeat it back to you:\"\n",
        "prompt += \"\\nEnter 'quit' to end the program. \"\n",
        "active = True\n",
        "while active:\n",
        "  message = input(prompt)\n",
        "  if message == 'quit':\n",
        "    active = False\n",
        "  else:\n",
        "    print(message)"
      ],
      "metadata": {
        "colab": {
          "base_uri": "https://localhost:8080/"
        },
        "id": "CwfhpDrKNqbZ",
        "outputId": "68c941f9-2977-4d92-fadc-74aaadc2c305"
      },
      "execution_count": null,
      "outputs": [
        {
          "name": "stdout",
          "output_type": "stream",
          "text": [
            "\n",
            "Tell me something, and I will repeat it back to you:\n",
            "Enter 'quit' to end the program. hey bro\n",
            "hey bro\n",
            "\n",
            "Tell me something, and I will repeat it back to you:\n",
            "Enter 'quit' to end the program. just quit\n",
            "just quit\n",
            "\n",
            "Tell me something, and I will repeat it back to you:\n",
            "Enter 'quit' to end the program. quit\n"
          ]
        }
      ]
    },
    {
      "cell_type": "code",
      "source": [
        "prompt = \"\\nPlease enter the name of a city you have visited: \"\n",
        "prompt += \"\\n(Enter 'quit' when you are finished) \"\n",
        "while True:\n",
        "  city = input(prompt)\n",
        "  if city == 'quit':\n",
        "    break\n",
        "  else:\n",
        "    print(f\"I'd love to go to {city.title()}\")"
      ],
      "metadata": {
        "colab": {
          "base_uri": "https://localhost:8080/"
        },
        "id": "OHCZ9u2TOXHs",
        "outputId": "1d2c5b63-0bf2-4549-a878-d39828485618"
      },
      "execution_count": null,
      "outputs": [
        {
          "name": "stdout",
          "output_type": "stream",
          "text": [
            "\n",
            "Please enter the name of a city you have visited: \n",
            "(Enter 'quit' when you are finished) Buffalo\n",
            "I'd love to go to Buffalo\n",
            "\n",
            "Please enter the name of a city you have visited: \n",
            "(Enter 'quit' when you are finished) Baltimore\n",
            "I'd love to go to Baltimore\n",
            "\n",
            "Please enter the name of a city you have visited: \n",
            "(Enter 'quit' when you are finished) quit\n"
          ]
        }
      ]
    },
    {
      "cell_type": "code",
      "source": [
        "current_number = 0\n",
        "while current_number < 10:\n",
        "  current_number += 1\n",
        "  if current_number % 2 == 0:\n",
        "    continue\n",
        "  print(current_number)"
      ],
      "metadata": {
        "colab": {
          "base_uri": "https://localhost:8080/"
        },
        "id": "4VTBD6DWgkBO",
        "outputId": "c1b2907d-47c8-4a85-9e5f-d9c4bfd5fb26"
      },
      "execution_count": null,
      "outputs": [
        {
          "output_type": "stream",
          "name": "stdout",
          "text": [
            "1\n",
            "3\n",
            "5\n",
            "7\n",
            "9\n"
          ]
        }
      ]
    },
    {
      "cell_type": "code",
      "source": [
        "x = 1\n",
        "while x <= 5:\n",
        "  print(x)\n",
        "  x += 1\n"
      ],
      "metadata": {
        "colab": {
          "base_uri": "https://localhost:8080/"
        },
        "id": "N8W1NY-LhQM4",
        "outputId": "19cf15d1-e0fd-4a54-c52d-c3b1e54c32f5"
      },
      "execution_count": null,
      "outputs": [
        {
          "output_type": "stream",
          "name": "stdout",
          "text": [
            "1\n",
            "2\n",
            "3\n",
            "4\n",
            "5\n"
          ]
        }
      ]
    },
    {
      "cell_type": "code",
      "source": [
        "age = \"Welcome to the movie theatre! \"\n",
        "age += \"Type '999' to quit\"\n",
        "age += \"\\nHow old are you? \"\n",
        "active = True\n",
        "while active:\n",
        "  movie = input(age)\n",
        "  movie = int(movie)\n",
        "  if movie < 0:\n",
        "    active = False\n",
        "  elif movie < 3:\n",
        "    print(\"Your ticket is free\")\n",
        "  elif movie <= 12:\n",
        "    print(\"Your ticket costs $10\")\n",
        "  elif movie > 12:\n",
        "    print(\"Your ticket costs $15\")\n",
        "  if movie == 999:\n",
        "    break"
      ],
      "metadata": {
        "colab": {
          "base_uri": "https://localhost:8080/"
        },
        "id": "jGtGfcsjhkbo",
        "outputId": "a9c431f3-d8af-4726-ea27-8c4604b9bdbe"
      },
      "execution_count": null,
      "outputs": [
        {
          "output_type": "stream",
          "name": "stdout",
          "text": [
            "Welcome to the movie theatre! Type '999' to quit\n",
            "How old are you? 16\n",
            "Your ticket costs $15\n",
            "Welcome to the movie theatre! Type '999' to quit\n",
            "How old are you? 999\n",
            "Your ticket costs $15\n"
          ]
        }
      ]
    },
    {
      "cell_type": "code",
      "source": [
        "unconfirmed_users = ['alice', 'brian', 'candace']\n",
        "confirmed_users = []\n",
        "while unconfirmed_users:\n",
        "  current_user = unconfirmed_users.pop()\n",
        "  print(f\"Verifying user: {current_user.title()}\")\n",
        "  confirmed_users.append(current_user)\n",
        "print(\"\\nThe following users have been confirmed: \")\n",
        "for confirmed_user in confirmed_users:\n",
        "  print(confirmed_user.title())"
      ],
      "metadata": {
        "colab": {
          "base_uri": "https://localhost:8080/"
        },
        "id": "Sjm0_JiOmMQl",
        "outputId": "cb7a1f8b-f271-44e8-ded0-faf165a0dd0b"
      },
      "execution_count": 7,
      "outputs": [
        {
          "output_type": "stream",
          "name": "stdout",
          "text": [
            "Verifying user: Candace\n",
            "Verifying user: Brian\n",
            "Verifying user: Alice\n",
            "\n",
            "The following users have been confirmed: \n",
            "Candace\n",
            "Brian\n",
            "Alice\n"
          ]
        }
      ]
    },
    {
      "cell_type": "code",
      "source": [
        "pets = ['dog', 'cat', 'dog', 'goldfish', 'cat', 'rabbit', 'cat']\n",
        "print(pets)\n",
        "while 'cat' in pets:\n",
        "  pets.remove('cat')\n",
        "print(pets)"
      ],
      "metadata": {
        "colab": {
          "base_uri": "https://localhost:8080/"
        },
        "id": "moRyJi3fjiqu",
        "outputId": "0d512b80-829a-4cd5-933c-50443142c467"
      },
      "execution_count": null,
      "outputs": [
        {
          "output_type": "stream",
          "name": "stdout",
          "text": [
            "['dog', 'cat', 'dog', 'goldfish', 'cat', 'rabbit', 'cat']\n",
            "['dog', 'dog', 'goldfish', 'rabbit']\n"
          ]
        }
      ]
    },
    {
      "cell_type": "code",
      "source": [
        "responses = {}\n",
        "polling_active = True\n",
        "while polling_active:\n",
        "  name = input(\"\\nWhat is your name? \")\n",
        "  response = input(\"What mountain would you like to climb someday? \")\n",
        "  responses[name] = response\n",
        "  repeat = input(\"Would you like to let another person respond? (yes/no) \")\n",
        "  if repeat == 'no':\n",
        "    polling_active = False\n",
        "print(\"\\n--- Poll Results ---\")\n",
        "for name, response in responses.items():\n",
        "  print(f\"{name} would like to climb {response}. \")"
      ],
      "metadata": {
        "colab": {
          "base_uri": "https://localhost:8080/"
        },
        "id": "LSq-4aBApLPz",
        "outputId": "4511a8da-eb56-4e8e-bb73-facfbd64724a"
      },
      "execution_count": null,
      "outputs": [
        {
          "output_type": "stream",
          "name": "stdout",
          "text": [
            "\n",
            "What is your name? Caitlin\n",
            "What mountain would you like to climb someday? Mount Marcy\n",
            "Would you like to let another person respond? (yes/no) yes\n",
            "\n",
            "What is your name? Drew\n",
            "What mountain would you like to climb someday? Mount Washington\n",
            "Would you like to let another person respond? (yes/no) no\n",
            "\n",
            "--- Poll Results ---\n",
            "Caitlin would like to climb Mount Marcy. \n",
            "Drew would like to climb Mount Washington. \n"
          ]
        }
      ]
    },
    {
      "cell_type": "code",
      "source": [
        "sandwich_orders = ['PB&J', 'tuna', 'grilled cheese', 'turkey']\n",
        "finished_sandwiches = []\n",
        "while sandwich_orders:\n",
        "  finished_sandwich = sandwich_orders.pop()\n",
        "  print(f\"Making {finished_sandwich} sandwich\")\n",
        "  finished_sandwiches.append(finished_sandwich)\n",
        "print(\"\\nThe following sandwiches have been made: \")\n",
        "for sandwich in finished_sandwiches:\n",
        "  print(sandwich.title())\n",
        "\n",
        "\n"
      ],
      "metadata": {
        "id": "SYdU7ItZrB4b",
        "colab": {
          "base_uri": "https://localhost:8080/"
        },
        "outputId": "50c19eee-b806-44a5-8cf0-9a8ae4be3dea"
      },
      "execution_count": 13,
      "outputs": [
        {
          "output_type": "stream",
          "name": "stdout",
          "text": [
            "Making turkey sandwich\n",
            "Making grilled cheese sandwich\n",
            "Making tuna sandwich\n",
            "Making PB&J sandwich\n",
            "\n",
            "The following sandwiches have been made: \n",
            "Turkey\n",
            "Grilled Cheese\n",
            "Tuna\n",
            "Pb&J\n"
          ]
        }
      ]
    },
    {
      "cell_type": "code",
      "source": [
        "total = 0\n",
        "starting_number = input(\"Pick a number to start with: \")\n",
        "starting_number = int(starting_number)\n",
        "operation_number = input(\"Choose another number: \")\n",
        "operation_number = int(operation_number)\n",
        "operation = input(\"Choose an operation (+, -, *, / ) type 'quit' to exit: \")\n",
        "while True:\n",
        "  if operation == 'quit':\n",
        "    break\n",
        "  elif operation == '+':\n",
        "    add_number = starting_number + operation_number\n",
        "    print(f\"Your final number is {add_number}\")\n",
        "    break\n",
        "  elif operation == '-':\n",
        "    subtract_number = starting_number - operation_number\n",
        "    print(f\"Your final number is {subtract_number}\")\n",
        "    break\n",
        "  elif operation == '*':\n",
        "    multiply_number = starting_number * operation_number\n",
        "    print(f\"Your final number is {multiply_number}\")\n",
        "    break\n",
        "  elif operation == '/':\n",
        "    divide_number = starting_number / operation_number\n",
        "    print(f\"Your final number is {divide_number}\")\n",
        "    break\n",
        "  else:\n",
        "    print(\"That is not an operation\")\n",
        "    break\n"
      ],
      "metadata": {
        "colab": {
          "base_uri": "https://localhost:8080/"
        },
        "id": "7vudTXmwA1Xh",
        "outputId": "78ef4b4b-d872-43bf-c93a-73592ffe1079"
      },
      "execution_count": 31,
      "outputs": [
        {
          "output_type": "stream",
          "name": "stdout",
          "text": [
            "Pick a number to start with: 77\n",
            "Choose another number: 12\n",
            "Choose an operation (+, -, *, / ) type 'quit' to exit: hi\n",
            "That is not an operation\n"
          ]
        }
      ]
    }
  ]
}