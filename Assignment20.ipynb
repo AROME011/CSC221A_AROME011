{
  "nbformat": 4,
  "nbformat_minor": 0,
  "metadata": {
    "colab": {
      "provenance": [],
      "include_colab_link": true
    },
    "kernelspec": {
      "name": "python3",
      "display_name": "Python 3"
    },
    "language_info": {
      "name": "python"
    }
  },
  "cells": [
    {
      "cell_type": "markdown",
      "metadata": {
        "id": "view-in-github",
        "colab_type": "text"
      },
      "source": [
        "<a href=\"https://colab.research.google.com/github/AROME011/CSC221A_AROME011/blob/main/Assignment20.ipynb\" target=\"_parent\"><img src=\"https://colab.research.google.com/assets/colab-badge.svg\" alt=\"Open In Colab\"/></a>"
      ]
    },
    {
      "cell_type": "markdown",
      "source": [
        "# Assignment 20\n",
        "## CSC 221\n",
        "- Drew Romesser\n",
        "\n",
        "### Instructions:\n",
        "Fill in each code cell below the question. We are following along in Chapter 4 of Python Distilled."
      ],
      "metadata": {
        "id": "IAOUzGWE1eDx"
      }
    },
    {
      "cell_type": "code",
      "execution_count": 3,
      "metadata": {
        "id": "Gnj3su7i5-lx",
        "colab": {
          "base_uri": "https://localhost:8080/"
        },
        "outputId": "803e87b1-3805-4406-ffa4-8b94a3daa18c"
      },
      "outputs": [
        {
          "output_type": "stream",
          "name": "stdout",
          "text": [
            "19\n",
            "44.5\n",
            "asdfg13\n"
          ]
        }
      ],
      "source": [
        "# 4.1 Essential Concepts\n",
        "\n",
        "# When we write \"a + b\" in Python, the interpreter tries to execute a.__add__(b)\n",
        "\n",
        "# Show that this is true by trying the following:\n",
        "a = 6\n",
        "b = 31.5\n",
        "c = 'asdfg'\n",
        "a1 = a.__add__(13)\n",
        "b1 = b.__add__(13)\n",
        "c1 = c.__add__('13')\n",
        "print(a1)\n",
        "print(b1)\n",
        "print(c1)\n",
        "\n",
        "# What are the types of a, b, and c?\n",
        "# Explain the results\n",
        "\n",
        "# Output:\n",
        "# 19\n",
        "# 44.5\n",
        "# 'asdfg13'\n",
        "\n",
        "# Types of a, b, and c:\n",
        "# a: int\n",
        "# b: float\n",
        "# c: str\n",
        "\n",
        "# Explanation:\n",
        "# 1. Since addition for integers is done using the __add__ method, a1 = a + 13 produces 19 as a=6 to start\n",
        "# 2. The __add__ function also adds for floating-point numbers so b1 = b + 13 produces 44.5 as b=31.5 to start\n",
        "# 3. The __add__ method combines strings with the added value so c1 = c + '13' produces 'asdfg13' when c='asdfg' to start\n"
      ]
    },
    {
      "cell_type": "code",
      "source": [
        "# 4.2 through 4.4 will be covered in the next assignment\n"
      ],
      "metadata": {
        "id": "w2uYd3DO2do6"
      },
      "execution_count": null,
      "outputs": []
    },
    {
      "cell_type": "code",
      "source": [
        "# 4.5 str and repr\n",
        "\n",
        "# How many categories of printing are shown below for a datetime object?\n",
        "# There are two categories\n",
        "\n",
        "# What in the Python code makes each one get called?\n",
        "# They all call from different parts of the code but some produce the same results\n",
        "\n",
        "from datetime import date\n",
        "d = date(2023, 11, 7)\n",
        "\n",
        "# Print categories:\n",
        "print(d)            # 1. Calls the default printing behavior.\n",
        "print(f'{d}')       # 2. Calls the default printing behavior with an f-string.\n",
        "print(f'{d!s}')     # 3. Calls the __str__ method using the !s conversion in an f-string.\n",
        "print(f'{d!r}')     # 4. Calls the __repr__ method using the !r conversion in an f-string.\n",
        "print(str(d))       # 5. Calls the str() function, which uses the __str__ method\n",
        "print(repr(d))      # 6. Calls the repr() function, which uses the __repr__ method.\n",
        "print(d.__str__())  # 7. Calls the __str__ method\n",
        "print(d.__repr__()) # 8. Calls the __repr__ method\n"
      ],
      "metadata": {
        "id": "Aa3ylzmV2wNF",
        "colab": {
          "base_uri": "https://localhost:8080/"
        },
        "outputId": "bd71cb5e-e778-4aa8-b60c-6a5015a57d91"
      },
      "execution_count": 5,
      "outputs": [
        {
          "output_type": "stream",
          "name": "stdout",
          "text": [
            "2023-11-07\n",
            "2023-11-07\n",
            "2023-11-07\n",
            "datetime.date(2023, 11, 7)\n",
            "2023-11-07\n",
            "datetime.date(2023, 11, 7)\n",
            "2023-11-07\n",
            "datetime.date(2023, 11, 7)\n"
          ]
        }
      ]
    },
    {
      "cell_type": "code",
      "source": [
        "# 4.6 First-Class Objects\n",
        "\n",
        "\n",
        "# What is the significance of all objects being \"first-class\" in Python?\n",
        "# All objects being first-class means that they can be treated identically. They can be passed as arguments to functions, assigned to variables, and returned from functions\n",
        "\n",
        "# Explain by typing in the code to create and use the 'items' dictionary shown in section 4.6.\n",
        "items = {\n",
        "    \"func\": abs,\n",
        "    \"mod\": __import__(\"math\"),\n",
        "    \"error\": ValueError,\n",
        "    \"append\": list.append\n",
        "}\n",
        "\n",
        "# Explain each of the lines starting with '>>>' in the section.\n",
        "items[\"func\"](-45)  # Runs abs(-45) : Output: 45\n",
        "items[\"mod\"].sqrt(4)  # Runs math.sqrt(4) : Output: 2.0\n",
        "\n",
        "try:\n",
        "    x = int(\"a lot\")\n",
        "except items[\"error\"] as e:  # Handles the ValueError and prints \"Couldn't convert\"\n",
        "    print(\"Couldn't convert\")\n",
        "\n",
        "# Call the append method on a list which adds 100 to it\n",
        "my_list = [1, 2, 3, 4]\n",
        "items[\"append\"](my_list, 100)\n",
        "print(my_list)  # Output: [1, 2, 3, 4, 100]\n",
        "\n",
        "line = \"BILLS, 100, 740, 13\"\n",
        "column_types = [str, int, float]\n",
        "parts = line.split(\",\")\n",
        "row = [ty(val) for ty, val in zip(column_types, parts)]\n",
        "print(row)  # Output: ['Bills', 100, 740.0]\n",
        "\n",
        "# The items dictionary portrays Python first-class objects, such as modules, classes, methods, and functions.\n",
        "# The lines starting with >>> show how to use the items dictionary for tasks like managing exceptions, calling functions, accessing modules, and manipulating lists.\n"
      ],
      "metadata": {
        "id": "9LRpP06Vsw6n",
        "colab": {
          "base_uri": "https://localhost:8080/"
        },
        "outputId": "e1ab53c6-7da2-4e13-e1a8-165612ee5bae"
      },
      "execution_count": 24,
      "outputs": [
        {
          "output_type": "stream",
          "name": "stdout",
          "text": [
            "Couldn't convert\n",
            "[1, 2, 3, 4, 100]\n",
            "['BILLS', 100, 740.0]\n"
          ]
        }
      ]
    },
    {
      "cell_type": "code",
      "source": [
        "# 4.7 Using None\n",
        "\n",
        "# Write a function that takes two parameters and returns their sum if they are\n",
        "# integers or returns None if either one is not.\n",
        "#INSERT CODE HERE:\n",
        "def adding_numbers(x, y):\n",
        "    if isinstance(x, int) and isinstance(y, int):\n",
        "        return x + y\n",
        "    else:\n",
        "        return None\n",
        "\n",
        "# Test\n",
        "test1 = adding_numbers(11, 8)\n",
        "test2 = adding_numbers(\"drew\", 24)\n",
        "test3 = adding_numbers(4, \"romo\")\n",
        "test4 = adding_numbers(5, 7)\n",
        "\n",
        "#results\n",
        "print(f\"Result 1: {test1}\")  #  15\n",
        "print(f\"Result 2: {test2}\")  #  None\n",
        "print(f\"Result 3: {test3}\")  #  None\n",
        "print(f\"Result 4: {test4}\")  #  12"
      ],
      "metadata": {
        "id": "dUhRWGnCtewU",
        "colab": {
          "base_uri": "https://localhost:8080/"
        },
        "outputId": "81df832a-6b14-4ab7-81c0-91047473b55e"
      },
      "execution_count": 16,
      "outputs": [
        {
          "output_type": "stream",
          "name": "stdout",
          "text": [
            "Result 1: 19\n",
            "Result 2: None\n",
            "Result 3: None\n",
            "Result 4: 12\n"
          ]
        }
      ]
    },
    {
      "cell_type": "code",
      "source": [
        "# 4.9 Object Protocol\n",
        "# Create a simple object that has methods for:\n",
        "#  __new__\n",
        "#  __init__\n",
        "#  __del__\n",
        "#  __repr__\n",
        "#  __str__\n",
        "\n",
        "# Put in some test code to show how and when each of these 'magic' functions gets called.\n",
        "\n",
        "# INSERT YOUR CODE HERE\n",
        "\n",
        "class City:\n",
        "    def __new__(cls, *args, **kwargs):\n",
        "        print(\"Today I will be making a new city! \")\n",
        "        instance = super().__new__(cls)\n",
        "        return instance\n",
        "\n",
        "    def __init__(self, name):\n",
        "        print(f\"Creating a city named {name}!\")\n",
        "        self.name = name\n",
        "\n",
        "    def __del__(self):\n",
        "        print(f\"Deleting {self.name}'s instance\")\n",
        "\n",
        "    def __repr__(self):\n",
        "        return f\"City('{self.name}')\"\n",
        "\n",
        "    def __str__(self):\n",
        "        return f\"{self.name}\"\n",
        "\n",
        "# Test code\n",
        "citytest = City(\"Bar Harbor\")"
      ],
      "metadata": {
        "id": "4M-CQevEt2xQ",
        "colab": {
          "base_uri": "https://localhost:8080/"
        },
        "outputId": "ce7a5d38-bbf2-49e6-879d-38ddbb4d7119"
      },
      "execution_count": 22,
      "outputs": [
        {
          "output_type": "stream",
          "name": "stdout",
          "text": [
            "Today I will be making a new city! \n",
            "Creating a city named Bar Harbor!\n"
          ]
        }
      ]
    }
  ]
}